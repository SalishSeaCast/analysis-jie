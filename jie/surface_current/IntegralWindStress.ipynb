{
 "cells": [
  {
   "cell_type": "markdown",
   "metadata": {},
   "source": [
    "* Integral the wind stress at Sandheads along- and cross-strait for different months (Jan, Oct and May)."
   ]
  },
  {
   "cell_type": "code",
   "execution_count": 1,
   "metadata": {
    "collapsed": true
   },
   "outputs": [],
   "source": [
    "import numpy as np\n",
    "import netCDF4 as nc\n",
    "from salishsea_tools import (nc_tools,viz_tools,tidetools,geo_tools)\n",
    "import datetime, os\n",
    "from glob import glob\n",
    "import matplotlib.pyplot as plt\n",
    "import seaborn as sns\n",
    "import datetime\n",
    "import wind\n",
    "import pandas as pd\n",
    "%matplotlib inline\n",
    "sns.set(style=\"whitegrid\")\n",
    "sns.set_context(\"notebook\", font_scale=2, rc={\"lines.linewidth\": 2.5})"
   ]
  },
  {
   "cell_type": "code",
   "execution_count": 2,
   "metadata": {
    "collapsed": true
   },
   "outputs": [],
   "source": [
    "transects = {'1':{'jst':55, 'ist':25,'jen':56,'ien':80},\n",
    "            '2':{'jst':25, 'ist':25,'jen':26,'ien':75},\n",
    "            '3':{'jst':25, 'ist':25,'jen':56,'ien':26},\n",
    "            '4':{'jst':37, 'ist':72,'jen':45,'ien':73},\n",
    "            '5':{'jst':120, 'ist':138,'jen':121,'ien':139},\n",
    "            '6':{'jst':55,  'ist': 1,'jen':56,'ien':25},\n",
    "            '7':{'jst':25,'ist':1, 'jen':26,'ien':25}}"
   ]
  },
  {
   "cell_type": "code",
   "execution_count": 3,
   "metadata": {
    "collapsed": true
   },
   "outputs": [],
   "source": [
    "grid6 = nc.Dataset('/ocean/jieliu/research/meopar/river-treatment/bathy_meter_SalishSea6.nc')\n",
    "X = grid6.variables['nav_lon'][380:510,240:397]\n",
    "Y = grid6.variables['nav_lat'][380:510,240:397]\n",
    "bathy = grid6.variables['Bathymetry'][380:510,240:397]"
   ]
  },
  {
   "cell_type": "code",
   "execution_count": 4,
   "metadata": {
    "collapsed": true
   },
   "outputs": [],
   "source": [
    "## mask\n",
    "mesh = nc.Dataset('/data/jieliu/MEOPAR/river-treatment/oct8_101e061e05/mesh_mask.nc')\n",
    "tmask = mesh.variables['tmask'][0,:,380:510,240:397]\n",
    "e3t = mesh.variables['e3t'][0,:,380:510,240:397]\n",
    "e2t = mesh.variables['e2t'][0,380:510,240:397]\n",
    "e1t = mesh.variables['e1t'][0,380:510,240:397]\n",
    "np_mask = np.abs(1-tmask) "
   ]
  },
  {
   "cell_type": "code",
   "execution_count": 5,
   "metadata": {
    "collapsed": true
   },
   "outputs": [],
   "source": [
    "def get_OPwinds(stationsOP,OPlon,OPlat,filesOP,j,i,duration,sax,eax):\n",
    "    \"This function was made to get model winds' speed and direction\"\n",
    "    wind_speed = {}; wind_dir = {}; time = {}; lat={}; lon={}; press={}; temp={}; therm={};\n",
    "    solar={}; precip={}; qair={}; lon = {};lat = {};\n",
    "\n",
    "    for  modOP in stationsOP:   \n",
    "        \n",
    "        [j,i]=wind.find_model_point(X[j,i],Y[j,i],OPlon,OPlat)\n",
    "        lon[modOP] = OPlon[j,i]\n",
    "        lat[modOP]=OPlat[j,i]\n",
    "        print(j,i,lon[modOP],lat[modOP])\n",
    "\n",
    "        [wind_speed[modOP],wind_dir[modOP],time[modOP],\n",
    "         press[modOP],temp[modOP],solar[modOP],\n",
    "         therm[modOP],qair[modOP],precip[modOP]] = wind.compile_OP(filesOP,j,i)    \n",
    "      \n",
    "    return wind_speed, wind_dir"
   ]
  },
  {
   "cell_type": "code",
   "execution_count": 9,
   "metadata": {
    "collapsed": true
   },
   "outputs": [],
   "source": [
    "def Integral_Velocity(hours,v_may):\n",
    "    \"\"\"\n",
    "    To integral any velocity component in hours we define\n",
    "    \"\"\"\n",
    "    v_integral = np.zeros(v_may.shape[1]/hours)\n",
    "    j = 0\n",
    "    for i in np.arange(0,v_may.shape[1],hours):\n",
    "        v_integral[j] = np.sum(v_may[0,i:i+hours])\n",
    "        j = j +1\n",
    "    return v_integral"
   ]
  },
  {
   "cell_type": "code",
   "execution_count": 6,
   "metadata": {
    "collapsed": false
   },
   "outputs": [
    {
     "name": "stdout",
     "output_type": "stream",
     "text": [
      "135 151 -123.302707487 49.0907848354\n"
     ]
    }
   ],
   "source": [
    "import glob\n",
    "X = grid6.variables['nav_lon']\n",
    "Y = grid6.variables['nav_lat']\n",
    "OP = nc.Dataset('/results/forcing/atmospheric/GEM2.5/operational/ops_y2014m10d01.nc')\n",
    "OPlon =OP.variables['nav_lon'][:]-360\n",
    "OPlat = OP.variables['nav_lat'][:]\n",
    "filesOP = glob.glob('/results/forcing/atmospheric/GEM2.5/operational/ops_y2015m05d*.nc')\n",
    "filesOP.sort(key=os.path.basename)\n",
    "start = '1-May-2015'; end = '31-May-2015';\n",
    "start2 = '31-May-2015'; end2 = '31-May-2015';\n",
    "endd = '31-May-2015';\n",
    "stations = ['Sandheads']; stationsOP =['Sandheads_OP'];\n",
    "sax=datetime.datetime.strptime(start,'%d-%b-%Y')\n",
    "eax=datetime.datetime.strptime(endd,'%d-%b-%Y')\n",
    "\n",
    "wind_speedMay,wind_dirMay =get_OPwinds(stationsOP,OPlon,OPlat,filesOP,426,293,\\\n",
    "                       27,sax,eax)"
   ]
  },
  {
   "cell_type": "code",
   "execution_count": 7,
   "metadata": {
    "collapsed": true
   },
   "outputs": [],
   "source": [
    "## May\n",
    "wind_dir_correctMay = []\n",
    "for dire in wind_dirMay['Sandheads_OP']:\n",
    "    dire_corre = 450 - dire\n",
    "    wind_dir_correctMay.append(dire_corre)\n",
    "df_may = pd.DataFrame({\"speed\": wind_speedMay['Sandheads_OP'], \"direction\": wind_dir_correctMay})"
   ]
  },
  {
   "cell_type": "code",
   "execution_count": 13,
   "metadata": {
    "collapsed": true
   },
   "outputs": [],
   "source": [
    "CrossU_may = np.zeros([1,len(df_may)])\n",
    "AlongV_may = np.zeros([1,len(df_may)])\n",
    "for i in np.arange(len(df_may)):\n",
    "    u = df_may.speed[i] * np.cos((450-df_may.direction[i])*np.pi/180) ## eastward wind \n",
    "    v = df_may.speed[i] * np.sin((450-df_may.direction[i])*np.pi/180) ## northward wind \n",
    "    #rotate\n",
    "    theta = np.pi*29/180\n",
    "    CrossU_may[0,i] = u*np.cos(theta) + v*np.sin(theta)\n",
    "    AlongV_may[0,i] = -u*np.sin(theta) +v*np.cos(theta) "
   ]
  },
  {
   "cell_type": "code",
   "execution_count": 14,
   "metadata": {
    "collapsed": false
   },
   "outputs": [
    {
     "name": "stderr",
     "output_type": "stream",
     "text": [
      "/ocean/jieliu/Anaconda/lib/python3.5/site-packages/ipykernel/__main__.py:5: VisibleDeprecationWarning: using a non-integer number instead of an integer will result in an error in the future\n"
     ]
    },
    {
     "data": {
      "text/plain": [
       "120.3658937535092"
      ]
     },
     "execution_count": 14,
     "metadata": {},
     "output_type": "execute_result"
    }
   ],
   "source": [
    "CU_may_inte = Integral_Velocity(24,CrossU_may)\n",
    "np.sum(CU_may_inte)"
   ]
  },
  {
   "cell_type": "code",
   "execution_count": 15,
   "metadata": {
    "collapsed": false
   },
   "outputs": [
    {
     "name": "stderr",
     "output_type": "stream",
     "text": [
      "/ocean/jieliu/Anaconda/lib/python3.5/site-packages/ipykernel/__main__.py:5: VisibleDeprecationWarning: using a non-integer number instead of an integer will result in an error in the future\n"
     ]
    },
    {
     "data": {
      "text/plain": [
       "37.6819473241124"
      ]
     },
     "execution_count": 15,
     "metadata": {},
     "output_type": "execute_result"
    }
   ],
   "source": [
    "AV_may_inte = Integral_Velocity(24,AlongV_may)\n",
    "np.sum(AV_may_inte)"
   ]
  },
  {
   "cell_type": "code",
   "execution_count": 16,
   "metadata": {
    "collapsed": false
   },
   "outputs": [
    {
     "name": "stdout",
     "output_type": "stream",
     "text": [
      "135 151 -123.302707487 49.0907848354\n"
     ]
    }
   ],
   "source": [
    "filesOP = glob.glob('/results/forcing/atmospheric/GEM2.5/operational/ops_y2016m01d*.nc')\n",
    "filesOP.sort(key=os.path.basename)\n",
    "start = '1-Jan-2016'; end = '31-Jan-2016';\n",
    "start2 = '31-Jan-2016'; end2 = '31-Jan-2016';\n",
    "endd = '31-Jan-2016';\n",
    "stations = ['Sandheads']; stationsOP =['Sandheads_OP'];\n",
    "sax=datetime.datetime.strptime(start,'%d-%b-%Y')\n",
    "eax=datetime.datetime.strptime(endd,'%d-%b-%Y')\n",
    "\n",
    "wind_speedJan,wind_dirJan =get_OPwinds(stationsOP,OPlon,OPlat,filesOP,426,293,\\\n",
    "                       27,sax,eax)"
   ]
  },
  {
   "cell_type": "code",
   "execution_count": 17,
   "metadata": {
    "collapsed": true
   },
   "outputs": [],
   "source": [
    "## Jan\n",
    "wind_dir_correctJan = []\n",
    "for dire in wind_dirJan['Sandheads_OP']:\n",
    "    dire_corre =  450 - dire \n",
    "    wind_dir_correctJan.append(dire_corre)\n",
    "df_jan = pd.DataFrame({\"speed\": wind_speedJan['Sandheads_OP'], \"direction\": wind_dir_correctJan})"
   ]
  },
  {
   "cell_type": "code",
   "execution_count": 18,
   "metadata": {
    "collapsed": true
   },
   "outputs": [],
   "source": [
    "CrossU_jan = np.zeros([1,len(df_jan)])\n",
    "AlongV_jan = np.zeros([1,len(df_jan)])\n",
    "for i in np.arange(len(df_jan)):\n",
    "    u = df_jan.speed[i] * np.cos((450-df_jan.direction[i])*np.pi/180)\n",
    "    v = df_jan.speed[i] * np.sin((450-df_jan.direction[i])*np.pi/180)\n",
    "    #rotate\n",
    "    theta = np.pi*29/180\n",
    "    CrossU_jan[0,i] = u*np.cos(theta) + v*np.sin(theta)\n",
    "    AlongV_jan[0,i] = -u*np.sin(theta) +v*np.cos(theta) "
   ]
  },
  {
   "cell_type": "code",
   "execution_count": 19,
   "metadata": {
    "collapsed": false
   },
   "outputs": [
    {
     "name": "stderr",
     "output_type": "stream",
     "text": [
      "/ocean/jieliu/Anaconda/lib/python3.5/site-packages/ipykernel/__main__.py:5: VisibleDeprecationWarning: using a non-integer number instead of an integer will result in an error in the future\n"
     ]
    },
    {
     "data": {
      "text/plain": [
       "-753.92639700723043"
      ]
     },
     "execution_count": 19,
     "metadata": {},
     "output_type": "execute_result"
    }
   ],
   "source": [
    "CU_jan_inte = Integral_Velocity(24,CrossU_jan)\n",
    "np.sum(CU_jan_inte)"
   ]
  },
  {
   "cell_type": "code",
   "execution_count": 20,
   "metadata": {
    "collapsed": false
   },
   "outputs": [
    {
     "name": "stderr",
     "output_type": "stream",
     "text": [
      "/ocean/jieliu/Anaconda/lib/python3.5/site-packages/ipykernel/__main__.py:5: VisibleDeprecationWarning: using a non-integer number instead of an integer will result in an error in the future\n"
     ]
    },
    {
     "data": {
      "text/plain": [
       "1387.3010893099661"
      ]
     },
     "execution_count": 20,
     "metadata": {},
     "output_type": "execute_result"
    }
   ],
   "source": [
    "AV_jan_inte = Integral_Velocity(24,AlongV_jan)\n",
    "np.sum(AV_jan_inte)"
   ]
  },
  {
   "cell_type": "code",
   "execution_count": 21,
   "metadata": {
    "collapsed": false
   },
   "outputs": [
    {
     "name": "stdout",
     "output_type": "stream",
     "text": [
      "135 151 -123.302707487 49.0907848354\n"
     ]
    }
   ],
   "source": [
    "## Oct\n",
    "filesOP = glob.glob('/results/forcing/atmospheric/GEM2.5/operational/ops_y2014m10d*.nc')\n",
    "filesOP.sort(key=os.path.basename)\n",
    "\n",
    "OP = nc.Dataset('/results/forcing/atmospheric/GEM2.5/operational/ops_y2014m10d01.nc')\n",
    "OPlon =OP.variables['nav_lon'][:]-360\n",
    "OPlat = OP.variables['nav_lat'][:]\n",
    "\n",
    "start = '1-Oct-2014'; end = '31-Oct-2014';\n",
    "start2 = '31-Oct-2014'; end2 = '31-Oct-2014';\n",
    "endd = '31-Oct-2014';\n",
    "stations = ['Sandheads']; stationsOP =['Sandheads_OP'];\n",
    "sax=datetime.datetime.strptime(start,'%d-%b-%Y')\n",
    "eax=datetime.datetime.strptime(endd,'%d-%b-%Y')\n",
    "\n",
    "wind_speed,wind_dir =get_OPwinds(stationsOP,OPlon,OPlat,filesOP,426,293,\\\n",
    "                            27,sax,eax)"
   ]
  },
  {
   "cell_type": "code",
   "execution_count": 22,
   "metadata": {
    "collapsed": true
   },
   "outputs": [],
   "source": [
    "## Oct\n",
    "wind_dir_correct = []\n",
    "for dire in wind_dir['Sandheads_OP']:\n",
    "    dire_corre =  450 - dire\n",
    "    wind_dir_correct.append(dire_corre)\n",
    "## load into a pandas frame\n",
    "df_oct = pd.DataFrame({\"speed\": wind_speed['Sandheads_OP'], \"direction\": wind_dir_correct})"
   ]
  },
  {
   "cell_type": "code",
   "execution_count": 23,
   "metadata": {
    "collapsed": true
   },
   "outputs": [],
   "source": [
    "CrossU_oct = np.zeros([1,len(df_oct)])\n",
    "AlongV_oct = np.zeros([1,len(df_oct)])\n",
    "for i in np.arange(len(df_oct)):\n",
    "    u = df_oct.speed[i] * np.cos((450-df_oct.direction[i])*np.pi/180)\n",
    "    v = df_oct.speed[i] * np.sin((450-df_oct.direction[i])*np.pi/180)\n",
    "    #rotate\n",
    "    theta = np.pi*29/180\n",
    "    CrossU_oct[0,i] = u*np.cos(theta) + v*np.sin(theta)\n",
    "    AlongV_oct[0,i] = -u*np.sin(theta) +v*np.cos(theta) "
   ]
  },
  {
   "cell_type": "code",
   "execution_count": 24,
   "metadata": {
    "collapsed": false
   },
   "outputs": [
    {
     "name": "stderr",
     "output_type": "stream",
     "text": [
      "/ocean/jieliu/Anaconda/lib/python3.5/site-packages/ipykernel/__main__.py:5: VisibleDeprecationWarning: using a non-integer number instead of an integer will result in an error in the future\n"
     ]
    },
    {
     "data": {
      "text/plain": [
       "-509.6422162608427"
      ]
     },
     "execution_count": 24,
     "metadata": {},
     "output_type": "execute_result"
    }
   ],
   "source": [
    "CU_oct_inte = Integral_Velocity(24,CrossU_oct)\n",
    "np.sum(CU_oct_inte)"
   ]
  },
  {
   "cell_type": "code",
   "execution_count": 25,
   "metadata": {
    "collapsed": false
   },
   "outputs": [
    {
     "name": "stderr",
     "output_type": "stream",
     "text": [
      "/ocean/jieliu/Anaconda/lib/python3.5/site-packages/ipykernel/__main__.py:5: VisibleDeprecationWarning: using a non-integer number instead of an integer will result in an error in the future\n"
     ]
    },
    {
     "data": {
      "text/plain": [
       "1548.2755867583935"
      ]
     },
     "execution_count": 25,
     "metadata": {},
     "output_type": "execute_result"
    }
   ],
   "source": [
    "AV_oct_inte = Integral_Velocity(24,AlongV_oct)\n",
    "np.sum(AV_oct_inte)"
   ]
  },
  {
   "cell_type": "code",
   "execution_count": null,
   "metadata": {
    "collapsed": true
   },
   "outputs": [],
   "source": []
  }
 ],
 "metadata": {
  "anaconda-cloud": {},
  "kernelspec": {
   "display_name": "Python [Root]",
   "language": "python",
   "name": "Python [Root]"
  },
  "language_info": {
   "codemirror_mode": {
    "name": "ipython",
    "version": 3
   },
   "file_extension": ".py",
   "mimetype": "text/x-python",
   "name": "python",
   "nbconvert_exporter": "python",
   "pygments_lexer": "ipython3",
   "version": "3.5.2"
  }
 },
 "nbformat": 4,
 "nbformat_minor": 0
}
