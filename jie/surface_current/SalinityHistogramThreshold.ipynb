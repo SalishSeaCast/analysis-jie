{
 "cells": [
  {
   "cell_type": "markdown",
   "metadata": {},
   "source": [
    "* Check if 10.5 m is deep enough to trap the plume according to the plume threshold."
   ]
  },
  {
   "cell_type": "code",
   "execution_count": 1,
   "metadata": {
    "collapsed": true
   },
   "outputs": [],
   "source": [
    "import numpy as np\n",
    "import netCDF4 as nc\n",
    "from salishsea_tools import (nc_tools,viz_tools,tidetools,geo_tools)\n",
    "import datetime, os\n",
    "from glob import glob\n",
    "import matplotlib.pyplot as plt\n",
    "import DetermineEdgePlume as DEP\n",
    "import R_mixStuff as RS\n",
    "import seaborn as sns\n",
    "import warnings\n",
    "warnings.filterwarnings(\"ignore\")\n",
    "sns.set(style=\"whitegrid\")\n",
    "sns.set_context(\"notebook\", font_scale=1.7, rc={\"lines.linewidth\": 2})\n",
    "%matplotlib inline"
   ]
  },
  {
   "cell_type": "code",
   "execution_count": 2,
   "metadata": {
    "collapsed": true
   },
   "outputs": [],
   "source": [
    "sites = {'Sandheads': {'lat': 49.10,'lon': -123.30,'j' : 46,'i' : 53},\n",
    "        'NS':{'lat':49.17,'lon':-123.30,'j': 60,'i':61},\n",
    "        'WS':{'lat':49.11,'lon':-123.40,'j': 53,'i':38}}"
   ]
  },
  {
   "cell_type": "code",
   "execution_count": 3,
   "metadata": {
    "collapsed": true
   },
   "outputs": [],
   "source": [
    "grid6 = nc.Dataset('/ocean/jieliu/research/meopar/river-treatment/bathy_meter_SalishSea6.nc')\n",
    "X = grid6.variables['nav_lon'][:, :]\n",
    "Y = grid6.variables['nav_lat'][:, :]\n",
    "bathy = grid6.variables['Bathymetry'][:, :]\n",
    "## tmask\n",
    "mesh = nc.Dataset('/data/jieliu/MEOPAR/river-treatment/oct8_101e061e05/mesh_mask.nc')\n",
    "tmask = mesh.variables['tmask'][0,:,380:510,240:397]\n",
    "np_mask = np.abs(1-tmask) "
   ]
  },
  {
   "cell_type": "code",
   "execution_count": 4,
   "metadata": {
    "collapsed": false
   },
   "outputs": [],
   "source": [
    "## load grid_T model results\n",
    "janall_T = nc.Dataset('/data/jieliu/MEOPAR/SurfaceCurrent/Jan2016combineall/jan2016all_T.nc')\n",
    "octall_T = nc.Dataset('/data/jieliu/MEOPAR/SurfaceCurrent/Oct2014combineall/oct2014all_T.nc')\n",
    "mayall_T = nc.Dataset('/data/jieliu/MEOPAR/SurfaceCurrent/May2015combineall/may2015all_T.nc')"
   ]
  },
  {
   "cell_type": "code",
   "execution_count": 5,
   "metadata": {
    "collapsed": true
   },
   "outputs": [],
   "source": [
    "def Extract_Salinity(grid_T,stn,tst,ted,dep):\n",
    "    \"\"\"\n",
    "    Extract salinity at a single depth at a station, in order to plot the histogram\n",
    "    \"\"\"\n",
    "    S = grid_T.variables['vosaline']\n",
    "    S_Extract= S[tst:ted+1,dep,sites[stn]['j'],sites[stn]['i']]\n",
    "\n",
    "    return S_Extract"
   ]
  },
  {
   "cell_type": "code",
   "execution_count": 6,
   "metadata": {
    "collapsed": false
   },
   "outputs": [],
   "source": [
    "S_jan = Extract_Salinity(janall_T,'NS',0,743,10)\n",
    "S_oct = Extract_Salinity(octall_T,'NS',0,743,10)\n",
    "S_may = Extract_Salinity(mayall_T,'NS',0,743,10)"
   ]
  },
  {
   "cell_type": "code",
   "execution_count": 11,
   "metadata": {
    "collapsed": false
   },
   "outputs": [
    {
     "data": {
      "image/png": "[encoded data removed]",
      "text/plain": [
       "<matplotlib.figure.Figure at 0x7f5bddc32e10>"
      ]
     },
     "metadata": {},
     "output_type": "display_data"
    }
   ],
   "source": [
    "fig,axs = plt.subplots(1,3,figsize = (17,5))\n",
    "ax = axs[0]\n",
    "ax.hist(S_jan,bins = 30)\n",
    "ax.plot([24.7,24.7],[1e0,1e3],'--') ## plume threshold based on criteria\n",
    "ax = axs[1]\n",
    "ax.hist(S_oct,bins = 30)\n",
    "ax.plot([25.3,25.3],[1e0,1e3],'--')\n",
    "ax = axs[2]\n",
    "ax.hist(S_may,bins = 30)\n",
    "ax.plot([18.3,18.3],[1e0,1e3],'--')\n",
    "for ax in axs.flatten():\n",
    "    ax.set_ylim([1e0,1e3])\n",
    "    ax.set_yscale('log')\n",
    "    ax.set_xlim([0,30])\n",
    "    ax.set_xlabel('Practical salinity')\n",
    "    ax.set_ylabel('Number of occurrence')\n",
    "plt.show()"
   ]
  },
  {
   "cell_type": "code",
   "execution_count": 12,
   "metadata": {
    "collapsed": false
   },
   "outputs": [
    {
     "data": {
      "text/plain": [
       "0.01881720430107527"
      ]
     },
     "execution_count": 12,
     "metadata": {},
     "output_type": "execute_result"
    }
   ],
   "source": [
    "14/744"
   ]
  },
  {
   "cell_type": "code",
   "execution_count": null,
   "metadata": {
    "collapsed": true
   },
   "outputs": [],
   "source": []
  }
 ],
 "metadata": {
  "anaconda-cloud": {},
  "kernelspec": {
   "display_name": "Python [Root]",
   "language": "python",
   "name": "Python [Root]"
  },
  "language_info": {
   "codemirror_mode": {
    "name": "ipython",
    "version": 3
   },
   "file_extension": ".py",
   "mimetype": "text/x-python",
   "name": "python",
   "nbconvert_exporter": "python",
   "pygments_lexer": "ipython3",
   "version": "3.5.2"
  }
 },
 "nbformat": 4,
 "nbformat_minor": 0
}
