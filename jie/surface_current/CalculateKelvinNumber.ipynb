{
 "cells": [
  {
   "cell_type": "markdown",
   "metadata": {},
   "source": [
    "* Calculate mouth Kelvin number."
   ]
  },
  {
   "cell_type": "code",
   "execution_count": 1,
   "metadata": {
    "collapsed": true
   },
   "outputs": [],
   "source": [
    "import numpy as np\n",
    "import netCDF4 as nc\n",
    "from salishsea_tools import (nc_tools,viz_tools,tidetools,geo_tools)\n",
    "import matplotlib.pyplot as plt\n",
    "import FroudeNumber as FN\n",
    "import warnings\n",
    "warnings.filterwarnings(\"ignore\")\n",
    "import seaborn as sns\n",
    "sns.set(style=\"whitegrid\")\n",
    "sns.set_context(\"notebook\", font_scale=1.5, rc={\"lines.linewidth\": 2.5})\n",
    "%matplotlib inline"
   ]
  },
  {
   "cell_type": "code",
   "execution_count": 2,
   "metadata": {
    "collapsed": true
   },
   "outputs": [],
   "source": [
    "grid6 = nc.Dataset('/ocean/jieliu/research/meopar/river-treatment/bathy_meter_SalishSea6.nc')\n",
    "X = grid6.variables['nav_lon'][:, :]\n",
    "Y = grid6.variables['nav_lat'][:, :]\n",
    "bathy = grid6.variables['Bathymetry'][:, :]\n",
    "## tmask\n",
    "mesh = nc.Dataset('/data/jieliu/MEOPAR/river-treatment/oct8_101e061e05/mesh_mask.nc')\n",
    "tmask = mesh.variables['tmask'][0,:,380:510,240:397]\n",
    "np_mask = np.abs(1-tmask) \n",
    "e3t = mesh.variables['e3t'][0,:,380:510,240:397]"
   ]
  },
  {
   "cell_type": "code",
   "execution_count": 3,
   "metadata": {
    "collapsed": true
   },
   "outputs": [],
   "source": [
    "## May results\n",
    "all_T = nc.Dataset('/data/jieliu/MEOPAR/SurfaceCurrent/May2015combineall/may2015all_T.nc','r')\n",
    "all_U = nc.Dataset('/data/jieliu/MEOPAR/SurfaceCurrent/May2015combineall/may2015all_U.nc','r')"
   ]
  },
  {
   "cell_type": "code",
   "execution_count": 4,
   "metadata": {
    "collapsed": true
   },
   "outputs": [],
   "source": [
    "## Oct results\n",
    "octall_T = nc.Dataset('/data/jieliu/MEOPAR/SurfaceCurrent/Oct2014combineall/oct2014all_T.nc','r')\n",
    "octall_U = nc.Dataset('/data/jieliu/MEOPAR/SurfaceCurrent/Oct2014combineall/oct2014all_T.nc','r')"
   ]
  },
  {
   "cell_type": "code",
   "execution_count": 5,
   "metadata": {
    "collapsed": true
   },
   "outputs": [],
   "source": [
    "## Jan results\n",
    "janall_T = nc.Dataset('/data/jieliu/MEOPAR/SurfaceCurrent/Jan2016combineall/jan2016all_T.nc','r')\n",
    "janall_U = nc.Dataset('/data/jieliu/MEOPAR/SurfaceCurrent/Jan2016combineall/jan2016all_U.nc','r')"
   ]
  },
  {
   "cell_type": "code",
   "execution_count": 6,
   "metadata": {
    "collapsed": true
   },
   "outputs": [],
   "source": [
    "def calculate_density(t, s):\n",
    "    \"\"\"Caluclates the density given temperature in deg C (t)\n",
    "    and salinity in psu (s).\n",
    "\n",
    "    returns the density as an array (rho)\n",
    "    \"\"\"\n",
    "    rho = (\n",
    "        999.842594 + 6.793952e-2 * t\n",
    "        - 9.095290e-3 * t*t + 1.001685e-4 * t*t*t\n",
    "        - 1.120083e-6 * t*t*t*t + 6.536332e-9 * t*t*t*t*t\n",
    "        + 8.24493e-1 * s - 4.0899e-3 * t*s\n",
    "        + 7.6438e-5 * t*t*s - 8.2467e-7 * t*t*t*s\n",
    "        + 5.3875e-9 * t*t*t*t*s - 5.72466e-3 * s**1.5\n",
    "        + 1.0227e-4 * t*s**1.5 - 1.6546e-6 * t*t*s**1.5\n",
    "        + 4.8314e-4 * s*s)\n",
    "    return rho"
   ]
  },
  {
   "cell_type": "code",
   "execution_count": 7,
   "metadata": {
    "collapsed": false
   },
   "outputs": [],
   "source": [
    "## select mouth grid point \n",
    "T = all_T.variables['votemper'][:,:,40,72]\n",
    "S = all_T.variables['vosaline'][:,:,40,72]\n",
    "DEPTH = all_T.variables['deptht']\n",
    "SSH = all_T.variables['sossheig']\n",
    "rho = calculate_density(T,S)"
   ]
  },
  {
   "cell_type": "code",
   "execution_count": 31,
   "metadata": {
    "collapsed": true
   },
   "outputs": [],
   "source": [
    "def Calculate_ReducedGravity(rho,dep,j,i):\n",
    "    \"\"\"\n",
    "    calculate reduced gravity, g' = g(rho0 - integral(rho dz)/integral(dz))/rho0\n",
    "    \"\"\"\n",
    "    g = 9.80665\n",
    "    rho0 = 1023\n",
    "    rho_dz = np.zeros([SSH.shape[0],dep])\n",
    "    dz = np.zeros(dep)\n",
    "    for t in range(SSH.shape[0]):\n",
    "        for z in range(dep):\n",
    "            adj_ssh = 1+SSH[t,j,i]/np.sum(e3t[:,j,i]*tmask[:,j,i],axis = 0)\n",
    "            rho_dz[t,z] = rho[t,z] * e3t[z, j,i]* adj_ssh * tmask[z,j,i]\n",
    "            dz[z]= e3t[z, j,i]* adj_ssh * tmask[z,j,i]\n",
    "    integral_rho_dz = np.nanmean(np.nansum(rho_dz, axis = 1))\n",
    "    integral_dz = np.nansum(dz)\n",
    "    g_prime = np.sqrt(g*(rho0-integral_rho_dz/integral_dz)/rho0)\n",
    "    return g_prime, rho_dz,dz"
   ]
  },
  {
   "cell_type": "code",
   "execution_count": 9,
   "metadata": {
    "collapsed": true
   },
   "outputs": [],
   "source": [
    "def Calculate_RossbyDeformationRadius(g_prime, h):\n",
    "    \"\"\"\n",
    "    \"\"\"\n",
    "    f = 1e-4\n",
    "    RDR = np.sqrt(g_prime*h)/f\n",
    "    return RDR"
   ]
  },
  {
   "cell_type": "code",
   "execution_count": 24,
   "metadata": {
    "collapsed": false
   },
   "outputs": [
    {
     "name": "stdout",
     "output_type": "stream",
     "text": [
      "Rossby deformation radius is  21.514020258  km in May\n"
     ]
    }
   ],
   "source": [
    "## In May\n",
    "g_prime_may,integral_rho_dz, integral_dz = Calculate_ReducedGravity(rho,8,40,72)\n",
    "RDR_may = Calculate_RossbyDeformationRadius(g_prime_may,8)\n",
    "print('Rossby deformation radius is ', RDR_may/1e3, ' km in May')"
   ]
  },
  {
   "cell_type": "code",
   "execution_count": 38,
   "metadata": {
    "collapsed": false
   },
   "outputs": [
    {
     "name": "stdout",
     "output_type": "stream",
     "text": [
      "Rossby deformation radius is  21.514020258  km in Oct\n"
     ]
    }
   ],
   "source": [
    "## In oct\n",
    "T = octall_T.variables['votemper'][:,:,40,72]\n",
    "S = octall_T.variables['vosaline'][:,:,40,72]\n",
    "SSH = octall_T.variables['sossheig']\n",
    "rho = calculate_density(T,S)\n",
    "g_prime_oct,rho_dz, dz = Calculate_ReducedGravity(rho,8,40,72)\n",
    "RDR_oct = Calculate_RossbyDeformationRadius(g_prime_oct,8)\n",
    "print('Rossby deformation radius is ', RDR_oct/1e3, ' km in Oct')"
   ]
  },
  {
   "cell_type": "code",
   "execution_count": 32,
   "metadata": {
    "collapsed": false
   },
   "outputs": [
    {
     "name": "stdout",
     "output_type": "stream",
     "text": [
      "Rossby deformation radius is  nan  km in Jan\n"
     ]
    }
   ],
   "source": [
    "# In Jan\n",
    "T = janall_T.variables['votemper'][:,:,40,72]\n",
    "S = janall_T.variables['vosaline'][:,:,40,72]\n",
    "SSH = janall_T.variables['sossheig']\n",
    "rho = calculate_density(T,S)\n",
    "g_prime_jan,rho_dz, dz = Calculate_ReducedGravity(rho,8,40,72)\n",
    "RDR_jan = Calculate_RossbyDeformationRadius(g_prime_jan,8)\n",
    "print('Rossby deformation radius is ', RDR_jan/1e3, ' km in Jan')"
   ]
  },
  {
   "cell_type": "code",
   "execution_count": 13,
   "metadata": {
    "collapsed": false
   },
   "outputs": [
    {
     "data": {
      "text/plain": [
       "nan"
      ]
     },
     "execution_count": 13,
     "metadata": {},
     "output_type": "execute_result"
    }
   ],
   "source": [
    "g_prime_jan"
   ]
  },
  {
   "cell_type": "code",
   "execution_count": 18,
   "metadata": {
    "collapsed": false
   },
   "outputs": [
    {
     "data": {
      "text/plain": [
       "8323.4885827432117"
      ]
     },
     "execution_count": 18,
     "metadata": {},
     "output_type": "execute_result"
    }
   ],
   "source": [
    "np.nanmean(np.nansum(rho_dz_jan, axis = 1))"
   ]
  },
  {
   "cell_type": "code",
   "execution_count": 26,
   "metadata": {
    "collapsed": false
   },
   "outputs": [
    {
     "data": {
      "text/plain": [
       "1104.6573719992978"
      ]
     },
     "execution_count": 26,
     "metadata": {},
     "output_type": "execute_result"
    }
   ],
   "source": [
    "integral_rho_dz/integral_dz"
   ]
  },
  {
   "cell_type": "code",
   "execution_count": 27,
   "metadata": {
    "collapsed": false
   },
   "outputs": [
    {
     "data": {
      "text/plain": [
       "7.5349052056554804"
      ]
     },
     "execution_count": 27,
     "metadata": {},
     "output_type": "execute_result"
    }
   ],
   "source": [
    "integral_dz"
   ]
  },
  {
   "cell_type": "code",
   "execution_count": 30,
   "metadata": {
    "collapsed": false
   },
   "outputs": [
    {
     "data": {
      "text/plain": [
       "array([ 1008.13262939,  1009.10040283,  1012.54522705,  1015.65826416,\n",
       "        1017.65106201,  1018.87414551,  1019.89862061,  1020.07324219,\n",
       "         999.84259033,   999.84259033,   999.84259033,   999.84259033,\n",
       "         999.84259033,   999.84259033,   999.84259033,   999.84259033,\n",
       "         999.84259033,   999.84259033,   999.84259033,   999.84259033,\n",
       "         999.84259033,   999.84259033,   999.84259033,   999.84259033,\n",
       "         999.84259033,   999.84259033,   999.84259033,   999.84259033,\n",
       "         999.84259033,   999.84259033,   999.84259033,   999.84259033,\n",
       "         999.84259033,   999.84259033,   999.84259033,   999.84259033,\n",
       "         999.84259033,   999.84259033,   999.84259033,   999.84259033], dtype=float32)"
      ]
     },
     "execution_count": 30,
     "metadata": {},
     "output_type": "execute_result"
    }
   ],
   "source": [
    "rho[-1,:]"
   ]
  },
  {
   "cell_type": "code",
   "execution_count": 39,
   "metadata": {
    "collapsed": false
   },
   "outputs": [
    {
     "data": {
      "text/plain": [
       "8235.2437437265653"
      ]
     },
     "execution_count": 39,
     "metadata": {},
     "output_type": "execute_result"
    }
   ],
   "source": [
    "np.nanmean(np.nansum(rho_dz,axis = 1))"
   ]
  },
  {
   "cell_type": "code",
   "execution_count": 40,
   "metadata": {
    "collapsed": false
   },
   "outputs": [
    {
     "data": {
      "text/plain": [
       "0.07692307692307693"
      ]
     },
     "execution_count": 40,
     "metadata": {},
     "output_type": "execute_result"
    }
   ],
   "source": [
    "1/13"
   ]
  },
  {
   "cell_type": "code",
   "execution_count": null,
   "metadata": {
    "collapsed": true
   },
   "outputs": [],
   "source": []
  }
 ],
 "metadata": {
  "anaconda-cloud": {},
  "kernelspec": {
   "display_name": "Python [Root]",
   "language": "python",
   "name": "Python [Root]"
  },
  "language_info": {
   "codemirror_mode": {
    "name": "ipython",
    "version": 3
   },
   "file_extension": ".py",
   "mimetype": "text/x-python",
   "name": "python",
   "nbconvert_exporter": "python",
   "pygments_lexer": "ipython3",
   "version": "3.5.2"
  }
 },
 "nbformat": 4,
 "nbformat_minor": 0
}
