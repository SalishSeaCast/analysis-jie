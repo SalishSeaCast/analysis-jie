{
 "cells": [
  {
   "cell_type": "markdown",
   "metadata": {},
   "source": [
    "* Calculate mouth Kelvin number."
   ]
  },
  {
   "cell_type": "code",
   "execution_count": 1,
   "metadata": {
    "collapsed": true
   },
   "outputs": [],
   "source": [
    "import numpy as np\n",
    "import netCDF4 as nc\n",
    "from salishsea_tools import (nc_tools,viz_tools,tidetools,geo_tools)\n",
    "import matplotlib.pyplot as plt\n",
    "import FroudeNumber as FN\n",
    "import warnings\n",
    "warnings.filterwarnings(\"ignore\")\n",
    "import seaborn as sns\n",
    "sns.set(style=\"whitegrid\")\n",
    "sns.set_context(\"notebook\", font_scale=1.5, rc={\"lines.linewidth\": 2.5})\n",
    "%matplotlib inline"
   ]
  },
  {
   "cell_type": "code",
   "execution_count": 2,
   "metadata": {
    "collapsed": true
   },
   "outputs": [],
   "source": [
    "grid6 = nc.Dataset('/ocean/jieliu/research/meopar/river-treatment/bathy_meter_SalishSea6.nc')\n",
    "X = grid6.variables['nav_lon'][:, :]\n",
    "Y = grid6.variables['nav_lat'][:, :]\n",
    "bathy = grid6.variables['Bathymetry'][:, :]\n",
    "## tmask\n",
    "mesh = nc.Dataset('/data/jieliu/MEOPAR/river-treatment/oct8_101e061e05/mesh_mask.nc')\n",
    "tmask = mesh.variables['tmask'][0,:,380:510,240:397]\n",
    "np_mask = np.abs(1-tmask) \n",
    "e3t = mesh.variables['e3t'][0,:,380:510,240:397]"
   ]
  },
  {
   "cell_type": "code",
   "execution_count": 3,
   "metadata": {
    "collapsed": true
   },
   "outputs": [],
   "source": [
    "## May results\n",
    "all_T = nc.Dataset('/data/jieliu/MEOPAR/SurfaceCurrent/May2015combineall/may2015all_T.nc','r')\n",
    "all_U = nc.Dataset('/data/jieliu/MEOPAR/SurfaceCurrent/May2015combineall/may2015all_U.nc','r')"
   ]
  },
  {
   "cell_type": "code",
   "execution_count": 4,
   "metadata": {
    "collapsed": true
   },
   "outputs": [],
   "source": [
    "## Oct results\n",
    "octall_T = nc.Dataset('/data/jieliu/MEOPAR/SurfaceCurrent/Oct2014combineall/oct2014all_T.nc','r')\n",
    "octall_U = nc.Dataset('/data/jieliu/MEOPAR/SurfaceCurrent/Oct2014combineall/oct2014all_T.nc','r')"
   ]
  },
  {
   "cell_type": "code",
   "execution_count": 5,
   "metadata": {
    "collapsed": true
   },
   "outputs": [],
   "source": [
    "## Jan results\n",
    "janall_T = nc.Dataset('/data/jieliu/MEOPAR/SurfaceCurrent/Jan2016combineall/jan2016all_T.nc','r')\n",
    "janall_U = nc.Dataset('/data/jieliu/MEOPAR/SurfaceCurrent/Jan2016combineall/jan2016all_U.nc','r')"
   ]
  },
  {
   "cell_type": "markdown",
   "metadata": {},
   "source": [
    "# Functions"
   ]
  },
  {
   "cell_type": "code",
   "execution_count": 6,
   "metadata": {
    "collapsed": true
   },
   "outputs": [],
   "source": [
    "def calculate_density(t, s):\n",
    "    \"\"\"Caluclates the density given temperature in deg C (t)\n",
    "    and salinity in psu (s).\n",
    "\n",
    "    returns the density as an array (rho)\n",
    "    \"\"\"\n",
    "    rho = (\n",
    "        999.842594 + 6.793952e-2 * t\n",
    "        - 9.095290e-3 * t*t + 1.001685e-4 * t*t*t\n",
    "        - 1.120083e-6 * t*t*t*t + 6.536332e-9 * t*t*t*t*t\n",
    "        + 8.24493e-1 * s - 4.0899e-3 * t*s\n",
    "        + 7.6438e-5 * t*t*s - 8.2467e-7 * t*t*t*s\n",
    "        + 5.3875e-9 * t*t*t*t*s - 5.72466e-3 * s**1.5\n",
    "        + 1.0227e-4 * t*s**1.5 - 1.6546e-6 * t*t*s**1.5\n",
    "        + 4.8314e-4 * s*s)\n",
    "    return rho"
   ]
  },
  {
   "cell_type": "code",
   "execution_count": 7,
   "metadata": {
    "collapsed": true
   },
   "outputs": [],
   "source": [
    "def Calculate_ReducedGravity(rho,dep,j,i):\n",
    "    \"\"\"\n",
    "    calculate reduced gravity, g' = g(rho0 - integral(rho dz)/integral(dz))/rho0\n",
    "    \n",
    "    rho: density calculated based on T and S\n",
    "    \n",
    "    dep: level of depth selected\n",
    "    \n",
    "    j: along-strait index \n",
    "    \n",
    "    i: across-strait index\n",
    "    \n",
    "    return: g_prime\n",
    "    \"\"\"\n",
    "    g = 9.80665\n",
    "    rho0 = 1023.8\n",
    "    rho_dz = np.zeros([SSH.shape[0],dep])\n",
    "    dz = np.zeros(dep)\n",
    "    for t in range(SSH.shape[0]):\n",
    "        for z in range(dep):\n",
    "            adj_ssh = 1+SSH[t,j,i]/np.sum(e3t[:,j,i]*tmask[:,j,i],axis = 0)\n",
    "            rho_dz[t,z] = rho[t,z] * e3t[z, j,i]* adj_ssh * tmask[z,j,i]\n",
    "            dz[z]= e3t[z, j,i]* adj_ssh * tmask[z,j,i]\n",
    "    integral_rho_dz = np.nanmean(np.nansum(rho_dz, axis = 1))\n",
    "    integral_dz = np.nansum(dz)\n",
    "    g_prime = np.sqrt(g*(rho0-integral_rho_dz/integral_dz)/rho0)\n",
    "    return g_prime"
   ]
  },
  {
   "cell_type": "code",
   "execution_count": 8,
   "metadata": {
    "collapsed": true
   },
   "outputs": [],
   "source": [
    "def Calculate_RossbyDeformationRadius(g_prime, h):\n",
    "    \"\"\"\n",
    "    \"\"\"\n",
    "    f = 1e-4\n",
    "    RDR = np.sqrt(g_prime*h)/f\n",
    "    return RDR"
   ]
  },
  {
   "cell_type": "markdown",
   "metadata": {},
   "source": [
    "# calculation"
   ]
  },
  {
   "cell_type": "code",
   "execution_count": 9,
   "metadata": {
    "collapsed": false
   },
   "outputs": [
    {
     "name": "stdout",
     "output_type": "stream",
     "text": [
      "Rossby deformation radius is  26.680952049  km in May\n"
     ]
    }
   ],
   "source": [
    "## In May\n",
    "T = all_T.variables['votemper'][:,:,40,72] ## select mouth grid point\n",
    "S = all_T.variables['vosaline'][:,:,40,72]\n",
    "DEPTH = all_T.variables['deptht']\n",
    "SSH = all_T.variables['sossheig']\n",
    "rho = calculate_density(T,S)\n",
    "g_prime_may = Calculate_ReducedGravity(rho,8,40,72)\n",
    "RDR_may = Calculate_RossbyDeformationRadius(g_prime_may,8)\n",
    "print('Rossby deformation radius is ', RDR_may/1e3, ' km in May')"
   ]
  },
  {
   "cell_type": "code",
   "execution_count": 10,
   "metadata": {
    "collapsed": false
   },
   "outputs": [
    {
     "name": "stdout",
     "output_type": "stream",
     "text": [
      "Rossby deformation radius is  21.6319702359  km in Oct\n"
     ]
    }
   ],
   "source": [
    "## In oct\n",
    "T = octall_T.variables['votemper'][:,:,40,72]\n",
    "S = octall_T.variables['vosaline'][:,:,40,72]\n",
    "SSH = octall_T.variables['sossheig']\n",
    "rho = calculate_density(T,S)\n",
    "g_prime_oct = Calculate_ReducedGravity(rho,8,40,72)\n",
    "RDR_oct = Calculate_RossbyDeformationRadius(g_prime_oct,8)\n",
    "print('Rossby deformation radius is ', RDR_oct/1e3, ' km in Oct')"
   ]
  },
  {
   "cell_type": "code",
   "execution_count": 11,
   "metadata": {
    "collapsed": false
   },
   "outputs": [
    {
     "name": "stdout",
     "output_type": "stream",
     "text": [
      "Rossby deformation radius is  nan  km in Jan\n"
     ]
    }
   ],
   "source": [
    "# In Jan\n",
    "T = janall_T.variables['votemper'][:,:,40,72]\n",
    "S = janall_T.variables['vosaline'][:,:,40,72]\n",
    "SSH = janall_T.variables['sossheig']\n",
    "rho = calculate_density(T,S)\n",
    "g_prime_jan = Calculate_ReducedGravity(rho,8,40,72)\n",
    "RDR_jan = Calculate_RossbyDeformationRadius(g_prime_jan,8)\n",
    "print('Rossby deformation radius is ', RDR_jan/1e3, ' km in Jan')"
   ]
  },
  {
   "cell_type": "markdown",
   "metadata": {},
   "source": [
    "# Test why in Jan Rossby deformation radius not work??"
   ]
  },
  {
   "cell_type": "code",
   "execution_count": 12,
   "metadata": {
    "collapsed": false
   },
   "outputs": [
    {
     "name": "stdout",
     "output_type": "stream",
     "text": [
      "rho0 is 1023.8\n",
      "integral of rho over depths divided by integral of depths is 1104.657372\n"
     ]
    }
   ],
   "source": [
    "dep = 8\n",
    "g = 9.80665\n",
    "rho0 = 1023.8\n",
    "j = 40 ; i = 72\n",
    "rho_dz = np.zeros([SSH.shape[0],dep])\n",
    "dz = np.zeros(dep)\n",
    "for t in range(SSH.shape[0]):\n",
    "    for z in range(dep):\n",
    "        adj_ssh = 1+SSH[t,j,i]/np.sum(e3t[:,j,i]*tmask[:,j,i],axis = 0)\n",
    "        rho_dz[t,z] = rho[t,z] * e3t[z, j,i]* adj_ssh * tmask[z,j,i]\n",
    "        dz[z]= e3t[z, j,i]* adj_ssh * tmask[z,j,i]\n",
    "integral_rho_dz = np.nanmean(np.nansum(rho_dz, axis = 1))\n",
    "integral_dz = np.nansum(dz)\n",
    "g_prime = np.sqrt(g*(rho0-integral_rho_dz/integral_dz)/rho0)\n",
    "print('rho0 is', rho0)\n",
    "print('integral of rho over depths divided by integral of depths is',integral_rho_dz/integral_dz )"
   ]
  },
  {
   "cell_type": "code",
   "execution_count": null,
   "metadata": {
    "collapsed": true
   },
   "outputs": [],
   "source": []
  }
 ],
 "metadata": {
  "anaconda-cloud": {},
  "kernelspec": {
   "display_name": "Python [Root]",
   "language": "python",
   "name": "Python [Root]"
  },
  "language_info": {
   "codemirror_mode": {
    "name": "ipython",
    "version": 3
   },
   "file_extension": ".py",
   "mimetype": "text/x-python",
   "name": "python",
   "nbconvert_exporter": "python",
   "pygments_lexer": "ipython3",
   "version": "3.5.2"
  }
 },
 "nbformat": 4,
 "nbformat_minor": 0
}
