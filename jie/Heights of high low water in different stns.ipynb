{
 "cells": [
  {
   "cell_type": "markdown",
   "metadata": {},
   "source": [
    "This notebook was made to predict the heights and time for high and low waters in New West, Mission, Sandheads, Steveston, Deas Island by relating them to the corresponding higher high and lower low water at Point Atkinson and discharge at Hope."
   ]
  },
  {
   "cell_type": "code",
   "execution_count": 1,
   "metadata": {
    "collapsed": false
   },
   "outputs": [],
   "source": [
    "from salishsea_tools import (nc_tools,viz_tools,stormtools,tidetools,geo_tools)\n",
    "import datetime\n",
    "import glob\n",
    "import os\n",
    "import matplotlib.pyplot as plt\n",
    "import netCDF4 as nc\n",
    "import numpy as np\n",
    "import pandas as pd\n",
    "import matplotlib.pyplot as plt\n",
    "import datetime\n",
    "from nowcast.figures import shared\n",
    "%matplotlib inline"
   ]
  },
  {
   "cell_type": "code",
   "execution_count": 2,
   "metadata": {
    "collapsed": false
   },
   "outputs": [],
   "source": [
    "sites = {\n",
    "    'Sandheads': {\n",
    "        'lat': 49.10,\n",
    "        'lon': -123.30,\n",
    "        'i' : 426,\n",
    "        'j' : 293 },\n",
    "    'Steveston Jetty':{\n",
    "        'lat': 49.124,\n",
    "        'lon': -123.186,\n",
    "        'i' : 424,\n",
    "        'j' : 312},\n",
    "    'Deas Island':{\n",
    "        'lat' : 48.12,\n",
    "        'lon' : -123.07,\n",
    "        'i' : 414,\n",
    "        'j' : 328},    \n",
    "    'New Westminster': {\n",
    "        'lat': 49.21,\n",
    "        'lon': -122.89,\n",
    "        'i': 418,\n",
    "        'j': 365},\n",
    "    'Mission': {\n",
    "        'lat': 48.59,\n",
    "        'lon': -123.2,\n",
    "        'i':  500,\n",
    "        'j':367},}"
   ]
  },
  {
   "cell_type": "code",
   "execution_count": 3,
   "metadata": {
    "collapsed": true
   },
   "outputs": [],
   "source": [
    "SITES = {\n",
    "    'Point Atkinson': {\n",
    "        'lat': 49.33,\n",
    "        'lon': -123.25,\n",
    "        'msl': 3.09,\n",
    "        'stn_no': 7795,\n",
    "        'extreme_ssh': 5.61},\n",
    "    'Victoria': {\n",
    "        'lat': 48.41,\n",
    "        'lon': -123.36,\n",
    "        'msl': 1.8810,\n",
    "        'stn_no': 7120,\n",
    "        'extreme_ssh': 3.76},\n",
    "    'Campbell River': {\n",
    "        'lat': 50.04,\n",
    "        'lon': -125.24,\n",
    "        'msl': 2.916,\n",
    "        'stn_no': 8074,\n",
    "        'extreme_ssh': 5.35},\n",
    "    'Neah Bay': {\n",
    "        'lat': 48.4,\n",
    "        'lon': -124.6,\n",
    "        'stn_no':  9443090},\n",
    "    'Friday Harbor': {\n",
    "        'lat': 48.55,\n",
    "        'lon': -123.016667,\n",
    "        'stn_no': 9449880},\n",
    "    'Cherry Point': {\n",
    "        'lat': 48.866667,\n",
    "        'lon': -122.766667,\n",
    "        'stn_no': 9449424},\n",
    "    'Sandheads': {\n",
    "        'lat': 49.10,\n",
    "        'lon': -123.30},\n",
    "    'Tofino': {\n",
    "        'stn_no': 8615},\n",
    "    }"
   ]
  },
  {
   "cell_type": "code",
   "execution_count": 4,
   "metadata": {
    "collapsed": true
   },
   "outputs": [],
   "source": [
    "def get_model_time_variables(grid_T):\n",
    "    \"\"\"Return start time, end time, and the time counter values from a\n",
    "    NEMO tracer results dataset.\n",
    "\n",
    "    :arg grid_T: Tracer results dataset from NEMO.\n",
    "    :type grid_T: :py:class:`netCDF4.Dataset`\n",
    "\n",
    "    :returns: dataset start time, dataset end time,\n",
    "              and array of output times all as datetime objects.\n",
    "    \"\"\"\n",
    "    time = nc_tools.timestamp(\n",
    "        grid_T, range(grid_T.variables['time_counter'].size))\n",
    "    time = np.array([t.datetime for t in time])\n",
    "    return time[0], time[-1], time"
   ]
  },
  {
   "cell_type": "code",
   "execution_count": 5,
   "metadata": {
    "collapsed": false
   },
   "outputs": [],
   "source": [
    "grid_TT = nc.Dataset('/data/jieliu/MEOPAR/river-treatment/\\\n",
    "/14days_norefraserxml/16jun15/SalishSea_1h_20150616_20150629_grid_T.nc')"
   ]
  },
  {
   "cell_type": "code",
   "execution_count": 6,
   "metadata": {
    "collapsed": false
   },
   "outputs": [],
   "source": [
    "t_orig, t_end, t_nemo = get_model_time_variables(grid_TT)"
   ]
  },
  {
   "cell_type": "code",
   "execution_count": 7,
   "metadata": {
    "collapsed": true
   },
   "outputs": [],
   "source": [
    "def zoomin_period_tide(grid_T, stn_name, PST , MSL = 0):\n",
    "    \"Find out tide heights and time in PST or UTC \\\n",
    "     given a time series at stations we got our tidal predictions\"\n",
    "    time_shift = datetime.timedelta(hours=-7)# 7hrs in summer between PST & UTC\n",
    "    #in winter\n",
    "    t_orig, t_end, t_nemo = get_model_time_variables(grid_T)\n",
    "    ttide = shared.get_tides(stn_name,path = '/ocean/jieliu/research/meopar/tools/SalishSeaNowcast/tidal_predictions/')\n",
    "    time = ttide.time + PST * time_shift\n",
    "    ssh = ttide.pred_all + SITES[stn_name]['msl'] * MSL\n",
    "    ssh_zoom = []\n",
    "    time_zoom = []\n",
    "    for i in np.arange(len(ttide)):\n",
    "        if (time[i].year == t_orig.year) & (time[i].month == t_orig.month)\\\n",
    "        & (time[i].day >= t_orig.day) & (time[i].day <= t_end.day):\n",
    "            ssh_zoom.append(ssh[i])\n",
    "            time_zoom.append(time[i])\n",
    "    return ssh_zoom, time_zoom, t_orig, t_end"
   ]
  },
  {
   "cell_type": "code",
   "execution_count": 8,
   "metadata": {
    "collapsed": false
   },
   "outputs": [],
   "source": [
    "def find_highlow_tide(grid_T, ssh_zoom, time_zoom, t_end, t_orig, PST ):\n",
    "    \"Determine high and low tide heights in PST or UTC at\\\n",
    "    a given day at stations we got our tidal predictions, unit of \\\n",
    "    return ssh_max, ssh_min is feet rather than meter\"\n",
    "    ssh_max = []\n",
    "    ssh_min = []\n",
    "    time_max = []\n",
    "    time_min = []\n",
    "    j = 0\n",
    "    for i in np.arange(t_end.day - t_orig.day +1):\n",
    "        ssh_max.append(max(ssh_zoom[j:j+24])/0.3048)\n",
    "        ssh_min.append(min(ssh_zoom[j:j+24])/0.3048)\n",
    "        time_max.append(time_zoom[ssh_zoom.index(max(ssh_zoom[j:j+24]))])  \n",
    "        time_min.append(time_zoom[ssh_zoom.index(min(ssh_zoom[j:j+24]))]) \n",
    "        j = j +24\n",
    "    return ssh_max, ssh_min, time_max, time_min"
   ]
  },
  {
   "cell_type": "code",
   "execution_count": 9,
   "metadata": {
    "collapsed": false
   },
   "outputs": [],
   "source": [
    "ssh_zoom, time_zoom, t_orig, t_end = zoomin_period_tide(grid_TT,'Point Atkinson', 0, MSL = 0)\n",
    "## I am not sure if MSL should be 0 or 1, does it really matter the relationship between PA and various\n",
    "#stns water level...???"
   ]
  },
  {
   "cell_type": "code",
   "execution_count": 10,
   "metadata": {
    "collapsed": false
   },
   "outputs": [],
   "source": [
    "ssh_max,ssh_min,time_max,time_min=find_highlow_tide(grid_TT, ssh_zoom,time_zoom, t_end, t_orig, 0)"
   ]
  },
  {
   "cell_type": "code",
   "execution_count": 11,
   "metadata": {
    "collapsed": false
   },
   "outputs": [],
   "source": [
    "##combine both max and min tidal anomaly for Point Atkinson\n",
    "ssh_obs = []\n",
    "ssh_obs.append(ssh_max)\n",
    "ssh_obs.append(ssh_min)"
   ]
  },
  {
   "cell_type": "markdown",
   "metadata": {},
   "source": [
    "# SSH for various stns in model results"
   ]
  },
  {
   "cell_type": "code",
   "execution_count": 12,
   "metadata": {
    "collapsed": false
   },
   "outputs": [],
   "source": [
    "ssh_mod = grid_TT.variables['sossheig']\n",
    "time_mod = grid_TT.variables['time_counter'][:]"
   ]
  },
  {
   "cell_type": "code",
   "execution_count": 13,
   "metadata": {
    "collapsed": false
   },
   "outputs": [],
   "source": [
    "t = nc_tools.timestamp(grid_TT, np.arange(time_mod.shape[0]))\n",
    "for ind in range(len(t)):\n",
    "    t[ind] = t[ind].datetime\n",
    "tt = np.array(t) ## convert time_counter into datetime"
   ]
  },
  {
   "cell_type": "code",
   "execution_count": 14,
   "metadata": {
    "collapsed": true
   },
   "outputs": [],
   "source": [
    "def readoff_stn_highlow_waterlevel(t_end, t_orig, jnd, ind, ssh_mod, time_mod):\n",
    "    \"\"\"This function was used to read through high and low water\\\n",
    "        levels at various stns during a time period, the water levels\\\n",
    "        returned are in feet unit instead of meters\"\"\"\n",
    "    ssh_mod_max = []\n",
    "    ssh_mod_min = []\n",
    "    time_mod_max = []\n",
    "    time_mod_min = []\n",
    "    j = 0\n",
    "    for i in np.arange(t_end.day - t_orig.day +1):\n",
    "        ssh_mod_max.append(max(ssh_mod[j:j+23, jnd, ind])/0.3048)\n",
    "        ssh_mod_min.append(min(ssh_mod[j:j+23, jnd, ind])/0.3048)\n",
    "        time_mod_max.append(time_mod[j:j+23][np.argmax(ssh_mod[j:j+23, jnd, ind])])  \n",
    "        time_mod_min.append(time_mod[j:j+23][np.argmin(ssh_mod[j:j+23, jnd, ind])]) \n",
    "        ## need to convert time_mod_min in hour to date!!\n",
    "        j = j +24\n",
    "    return ssh_mod_max, ssh_mod_min, time_mod_max, time_mod_min   "
   ]
  },
  {
   "cell_type": "code",
   "execution_count": 15,
   "metadata": {
    "collapsed": true
   },
   "outputs": [],
   "source": [
    "def readoff_stn_highlow_waterlevel_new(t_end, t_orig, jnd, ind, ssh_mod, tt):\n",
    "    \"\"\"This function was used to read through high and low water\\\n",
    "        levels at various stns during a time period, the water levels\\\n",
    "        returned are in feet unit instead of meters\"\"\"\n",
    "    ssh_mod_max = []\n",
    "    ssh_mod_min = []\n",
    "    time_mod_max = []\n",
    "    time_mod_min = []\n",
    "    j = 0\n",
    "    for i in np.arange(t_end.day - t_orig.day +1):\n",
    "        ssh_mod_max.append(max(ssh_mod[j:j+23, jnd, ind])/0.3048)\n",
    "        ssh_mod_min.append(min(ssh_mod[j:j+23, jnd, ind])/0.3048)\n",
    "        time_mod_max.append(tt[j:j+23][np.argmax(ssh_mod[j:j+23, jnd, ind])])  \n",
    "        time_mod_min.append(tt[j:j+23][np.argmin(ssh_mod[j:j+23, jnd, ind])]) \n",
    "        ## need to convert time_mod_min in hour to date!!\n",
    "        j = j +24\n",
    "    return ssh_mod_max, ssh_mod_min, time_mod_max, time_mod_min   "
   ]
  },
  {
   "cell_type": "code",
   "execution_count": 16,
   "metadata": {
    "collapsed": false
   },
   "outputs": [],
   "source": [
    "def get_time_lag( ttmin, time_min, ttma, time_max ):\n",
    "    \"\"\"This function was made to calculate time lag\n",
    "        of high and low water level between stns and \n",
    "        PA\"\"\"\n",
    "    delta_min = []\n",
    "    delta_max = []\n",
    "    for t1, t2, t3, t4 in zip( ttmin, time_min,ttma, time_max):\n",
    "        diff_min = (t1.hour- t2.hour) * 60 + (t1.minute - t2.minute)\n",
    "        diff_max = (t3.hour- t4.hour) * 60 + (t3.minute - t4.minute)\n",
    "        delta_min.append(diff_min)\n",
    "        delta_max.append(diff_max)\n",
    "    return delta_max, delta_min"
   ]
  },
  {
   "cell_type": "code",
   "execution_count": 17,
   "metadata": {
    "collapsed": false
   },
   "outputs": [],
   "source": [
    "def zoomin_tide_EC(obs):\n",
    "    \"\"\"To select the time period of observation \n",
    "        water levels from Environment Canada\n",
    "        need to fix to include all stns!!!\"\"\"\n",
    "    time_shift = datetime.timedelta(hours=8)\n",
    "    #time = obs['08MH024'][:] + time_shift\n",
    "    wl_zoom = [] ## water level list for stn\n",
    "    time_zoom = []\n",
    "    tt = [] ## final selected time series\n",
    "    for i in obs['08MH028']:\n",
    "        if type(i) != unicode:\n",
    "            c = i +  time_shift\n",
    "            time_zoom.append(c) ## translate to UTC time\n",
    "    for t, j in zip(time_zoom, obs['Unnamed: 1']):\n",
    "        if (t.day >=16) & (t.day <= 29):\n",
    "            tt.append(t)\n",
    "            wl_zoom.append(j)\n",
    "    return tt, wl_zoom"
   ]
  },
  {
   "cell_type": "code",
   "execution_count": 18,
   "metadata": {
    "collapsed": true
   },
   "outputs": [],
   "source": [
    "def find_highlow_tide_EC(tt, wl_zoom):\n",
    "    \"\"\"This function was made to determine\n",
    "        extrema high and low water level\n",
    "        at Fraser gauges\"\"\"\n",
    "    ssh_max = []\n",
    "    ssh_min = []\n",
    "    time_max = []\n",
    "    time_min = []\n",
    "    j=0\n",
    "    for i in np.arange(tt[-1].day - tt[0].day + 1):\n",
    "        ssh_max.append(max(wl_zoom[j: j+24])/0.3048)\n",
    "        ssh_min.append(min(wl_zoom[j: j+24])/0.3048)\n",
    "        time_max.append(tt[wl_zoom.index(max(wl_zoom[j:j+24]))])\n",
    "        time_min.append(tt[wl_zoom.index(min(wl_zoom[j:j+24]))])\n",
    "        j = j + 24\n",
    "    return ssh_max, ssh_min, time_max, time_min"
   ]
  },
  {
   "cell_type": "code",
   "execution_count": 19,
   "metadata": {
    "collapsed": false
   },
   "outputs": [],
   "source": [
    "def zoomin_highlow_FOC(NW):\n",
    "    \"\"\"To extract the time and\n",
    "        water levels from Fisheries & Ocean Canada\n",
    "    \"\"\"\n",
    "    time_shift = datetime.timedelta(hours=8)\n",
    "    wl_zoom = [] ## water level list for stn\n",
    "    t = []\n",
    "    #time_zoom = []\n",
    "    tt = [] ## final selected time series\n",
    "    for i in NW['Obs_date']:\n",
    "        t.append(datetime.datetime.strptime(i,\"%Y/%m/%d %H:%M%S\"))\n",
    "    for j, jj in zip(t, NW['SLEV(metres)']):\n",
    "        c= j - time_shift\n",
    "        tt.append(c)  ## translate to UTC time\n",
    "        wl_zoom.append(jj)\n",
    "    ssh_max = []\n",
    "    ssh_min = []\n",
    "    time_max = []\n",
    "    time_min = []\n",
    "    ii = 0\n",
    "    for i in np.arange(tt[-1].day - tt[0].day + 1):\n",
    "        ssh_max.append(max(wl_zoom[ii: ii+24])/0.3048)\n",
    "        ssh_min.append(min(wl_zoom[ii: ii+24])/0.3048)\n",
    "        time_max.append(tt[wl_zoom.index(max(wl_zoom[ii:ii+24]))])\n",
    "        time_min.append(tt[wl_zoom.index(min(wl_zoom[ii:ii+24]))])\n",
    "        ii = ii + 24\n",
    "    return ssh_max, ssh_min, time_max, time_min"
   ]
  },
  {
   "cell_type": "code",
   "execution_count": 20,
   "metadata": {
    "collapsed": true
   },
   "outputs": [],
   "source": [
    "def print_out_diff_wl(mima, mimi):\n",
    "    \"\"\"To print out difference of high and low\n",
    "        water levels at each Fraser gauge for\n",
    "        both models and obs from EC\n",
    "        Input: mima & mimi are high & low water\n",
    "        levels for stn.\n",
    "        Output: array of their difference[unit feet]\"\"\"\n",
    "    df = []\n",
    "    for i, j in zip(mima, mimi):\n",
    "        d = i -j\n",
    "        df.append(d)\n",
    "    return df"
   ]
  },
  {
   "cell_type": "code",
   "execution_count": 21,
   "metadata": {
    "collapsed": true
   },
   "outputs": [],
   "source": [
    "def plot_height_time_stn(ssh_model, ssh_obs, time_lag_mod, stn):\n",
    "    \"\"\"This function was made to plot water level height\n",
    "    and time lag for Fraser gauges with PA tidal height \"\"\"\n",
    "    fig, axs = plt.subplots(1,2, figsize = (20,10))\n",
    "    axs[0].scatter(ssh_model,ssh_obs,color='blue',s=15,edgecolor='none')\n",
    "    axs[0].text(-2, 4, r'$Q_Hope = 200,000cfs$', fontsize=15)\n",
    "    axs[0].grid()\n",
    "    axs[0].set_xlim([-8, 14])\n",
    "    axs[0].set_ylim([-10, 6])\n",
    "    axs[0].set_xlabel('Water level at ' + stn + ' [feet]')\n",
    "    axs[0].set_ylabel('Point Atkinson Height[feet]')\n",
    "    axs[1].scatter(time_lag_mod,ssh_obs,color='blue',s=15,edgecolor='none')\n",
    "    axs[1].grid()\n",
    "    #ax.set_xlim([4.5, 9.5])\n",
    "    #ax.set_ylim([-10, 6])\n",
    "    axs[1].set_xlabel('Time lag at ' + stn + ' [Minute]')\n",
    "    axs[1].set_ylabel('Point Atkinson Height[feet]')\n",
    "    return fig"
   ]
  },
  {
   "cell_type": "markdown",
   "metadata": {},
   "source": [
    "New Westminster"
   ]
  },
  {
   "cell_type": "code",
   "execution_count": 22,
   "metadata": {
    "collapsed": true
   },
   "outputs": [],
   "source": [
    "## use another time counts\n",
    "tma, tmi, ttma, ttmin = readoff_stn_highlow_waterlevel_new(t_end, t_orig, 418, 365,ssh_mod, tt)"
   ]
  },
  {
   "cell_type": "code",
   "execution_count": 23,
   "metadata": {
    "collapsed": false
   },
   "outputs": [],
   "source": [
    "##combine both max and min water level for NEW WESTMINSTER\n",
    "ssh_model = []\n",
    "ssh_model.append(tma)\n",
    "ssh_model.append(tmi)"
   ]
  },
  {
   "cell_type": "code",
   "execution_count": 24,
   "metadata": {
    "collapsed": false
   },
   "outputs": [
    {
     "data": {
      "text/plain": [
       "[2.3100437141778905,\n",
       " 2.4395590535611928,\n",
       " 2.599081264080338,\n",
       " 2.756062846171262,\n",
       " 2.6874783940202605,\n",
       " 2.6152269264531567,\n",
       " 2.4718605470782506,\n",
       " 2.3481977267528142,\n",
       " 2.1347176684482196,\n",
       " 1.8775044620193517,\n",
       " 1.9404319484089925,\n",
       " 2.0268183993542292,\n",
       " 2.0595106083577068,\n",
       " 2.1672389638705516]"
      ]
     },
     "execution_count": 24,
     "metadata": {},
     "output_type": "execute_result"
    }
   ],
   "source": [
    "df = print_out_diff_wl(tma, tmi)\n",
    "df"
   ]
  },
  {
   "cell_type": "code",
   "execution_count": 25,
   "metadata": {
    "collapsed": false
   },
   "outputs": [
    {
     "name": "stdout",
     "output_type": "stream",
     "text": [
      "Max amplitude of model: 0.84\n",
      "Min amplitude of model: 0.5723\n",
      "Mean amplitude of model: 0.7061\n"
     ]
    }
   ],
   "source": [
    "## average, max and min of the tidal amplitude at NW\n",
    "ddf = np.array(df)\n",
    "mean_ddf_NW = np.mean(ddf)* 0.3048\n",
    "max_ddf_NW = np.max(ddf)* 0.3048\n",
    "min_ddf_NW = np.min(ddf)* 0.3048\n",
    "print ('Max amplitude of model: {0:.4}'.format(max_ddf_NW))\n",
    "print ('Min amplitude of model: {0:.4}'.format(min_ddf_NW))\n",
    "print ('Mean amplitude of model: {0:.4}'.format(mean_ddf_NW))"
   ]
  },
  {
   "cell_type": "code",
   "execution_count": 26,
   "metadata": {
    "collapsed": true
   },
   "outputs": [],
   "source": [
    "delta_max, delta_min = get_time_lag(ttmin, time_min, ttma, time_max)"
   ]
  },
  {
   "cell_type": "code",
   "execution_count": 27,
   "metadata": {
    "collapsed": true
   },
   "outputs": [],
   "source": [
    "##combine both time lag for high and low water level at NEW WESTMINSTER\n",
    "time_lag_mod = []\n",
    "time_lag_mod.append(delta_max)\n",
    "time_lag_mod.append(delta_min)"
   ]
  },
  {
   "cell_type": "code",
   "execution_count": 28,
   "metadata": {
    "collapsed": false
   },
   "outputs": [
    {
     "data": {
      "image/png": "[encoded data removed]",
      "text/plain": [
       "<matplotlib.figure.Figure at 0x7f178911e0b8>"
      ]
     },
     "metadata": {},
     "output_type": "display_data"
    }
   ],
   "source": [
    "fig = plot_height_time_stn(ssh_model, ssh_obs, time_lag_mod, 'New Westminster')"
   ]
  },
  {
   "cell_type": "markdown",
   "metadata": {},
   "source": [
    "* The difference of high and low water level(tide amplitude) for New West is 2-2.8 feet(0.85m). Compared with paper's, which is aroudn 4.5 feet(1.3716m)? Difference is 0.5m. Ours is weak, which means the dissipation of tide at New West in our case is too fast and location of NW is too far. I tried to change the grid point of New West more or less, but the tidal amplitude does not vary much. \n",
    "* I want to see the amplitude of obs but Ages only provide graph, not exact data, maybe I should find somewhere to get the real data and see how much difference it is. Fisheries & Ocean Canada website: http://www.isdm-gdsi.gc.ca/isdm-gdsi/twl-mne/maps-cartes/inventory-inventaire-eng.asp Comparison of this data with model result is as follows: "
   ]
  },
  {
   "cell_type": "markdown",
   "metadata": {},
   "source": [
    "#Load data from Fisheries & Oceans Canada at New Westminster"
   ]
  },
  {
   "cell_type": "code",
   "execution_count": 21,
   "metadata": {
    "collapsed": false
   },
   "outputs": [],
   "source": [
    "NW = pd.read_csv('7654-16-JUN-2015_slev.csv',skiprows=7,index_col=False)"
   ]
  },
  {
   "cell_type": "code",
   "execution_count": 63,
   "metadata": {
    "collapsed": false
   },
   "outputs": [],
   "source": [
    "FOC_max, FOC_min, FOC_tmax, FOC_tmin = zoomin_highlow_FOC(NW)"
   ]
  },
  {
   "cell_type": "code",
   "execution_count": 64,
   "metadata": {
    "collapsed": true
   },
   "outputs": [],
   "source": [
    "##combine both max and min water level for NW with FOC obs\n",
    "ssh_obs_FOC = []\n",
    "ssh_obs_FOC.append(FOC_max[0:14])\n",
    "ssh_obs_FOC.append(FOC_min[0:14])"
   ]
  },
  {
   "cell_type": "code",
   "execution_count": 65,
   "metadata": {
    "collapsed": false
   },
   "outputs": [
    {
     "data": {
      "text/plain": [
       "[6.9225721784776901,\n",
       " 7.3490813648293951,\n",
       " 7.3818897637795278,\n",
       " 7.4803149606299213,\n",
       " 7.2834645669291334,\n",
       " 6.6929133858267704,\n",
       " 6.3320209973753272,\n",
       " 5.4790026246719137,\n",
       " 4.790026246719159,\n",
       " 4.6916010498687664,\n",
       " 5.2821522309711284,\n",
       " 5.6758530183727025,\n",
       " 5.9055118110236204,\n",
       " 6.2992125984251972,\n",
       " 0.0]"
      ]
     },
     "execution_count": 65,
     "metadata": {},
     "output_type": "execute_result"
    }
   ],
   "source": [
    "df = print_out_diff_wl(FOC_max, FOC_min)\n",
    "df"
   ]
  },
  {
   "cell_type": "code",
   "execution_count": 66,
   "metadata": {
    "collapsed": false
   },
   "outputs": [
    {
     "name": "stdout",
     "output_type": "stream",
     "text": [
      "Max amplitude of observation: 2.28\n",
      "Min amplitude of observation: 1.43\n",
      "Mean amplitude of observation: 1.906\n"
     ]
    }
   ],
   "source": [
    "## average, max and min of the tidal amplitude at NW for observation\n",
    "ddf = np.array(df[:-1])\n",
    "mean_ddf_NW = np.mean(ddf)* 0.3048\n",
    "max_ddf_NW = np.max(ddf)* 0.3048\n",
    "min_ddf_NW = np.min(ddf)* 0.3048\n",
    "print ('Max amplitude of observation: {0:.4}'.format(max_ddf_NW))\n",
    "print ('Min amplitude of observation: {0:.4}'.format(min_ddf_NW))\n",
    "print ('Mean amplitude of observation: {0:.4}'.format(mean_ddf_NW))"
   ]
  },
  {
   "cell_type": "code",
   "execution_count": 123,
   "metadata": {
    "collapsed": false
   },
   "outputs": [],
   "source": [
    "delta_max_obs, delta_min_obs = get_time_lag(FOC_tmin, time_min, FOC_tmax, time_max)"
   ]
  },
  {
   "cell_type": "code",
   "execution_count": 130,
   "metadata": {
    "collapsed": true
   },
   "outputs": [],
   "source": [
    "##combine both time lag for high and low water level at NW with FOC obs\n",
    "time_lag_obs = []\n",
    "time_lag_obs.append(delta_max_obs)\n",
    "time_lag_obs.append(delta_min_obs)"
   ]
  },
  {
   "cell_type": "code",
   "execution_count": 149,
   "metadata": {
    "collapsed": false
   },
   "outputs": [
    {
     "data": {
      "image/png": "[encoded data removed]",
      "text/plain": [
       "<matplotlib.figure.Figure at 0x7f4b4f838e90>"
      ]
     },
     "metadata": {},
     "output_type": "display_data"
    }
   ],
   "source": [
    "fig = plot_height_time_stn(ssh_obs_FOC, ssh_obs, time_lag_obs, 'New Westminster')"
   ]
  },
  {
   "cell_type": "markdown",
   "metadata": {},
   "source": [
    "* It is clear to see the amplitude of data ranges from 4-7 feet, while ours is 1-2 feet, dissipates too much, ours is 1-1.5m lower than obs. Need deepen river channel at the beginning more."
   ]
  },
  {
   "cell_type": "markdown",
   "metadata": {},
   "source": [
    "Mission"
   ]
  },
  {
   "cell_type": "code",
   "execution_count": 29,
   "metadata": {
    "collapsed": true
   },
   "outputs": [],
   "source": [
    "## grid cell for Mission is [500, 367]\n",
    "mima, mimi, tmima, tmimi = readoff_stn_highlow_waterlevel_new(t_end, t_orig, 500, 367,ssh_mod, tt)"
   ]
  },
  {
   "cell_type": "code",
   "execution_count": 30,
   "metadata": {
    "collapsed": true
   },
   "outputs": [],
   "source": [
    "##combine both max and min water level for MISIION\n",
    "ssh_model = []\n",
    "ssh_model.append(mima)\n",
    "ssh_model.append(mimi)"
   ]
  },
  {
   "cell_type": "code",
   "execution_count": 31,
   "metadata": {
    "collapsed": true
   },
   "outputs": [],
   "source": [
    "df = print_out_diff_wl(mima, mimi)"
   ]
  },
  {
   "cell_type": "code",
   "execution_count": 32,
   "metadata": {
    "collapsed": false
   },
   "outputs": [
    {
     "data": {
      "text/plain": [
       "[2.2800505317728037,\n",
       " 2.5525133753698954,\n",
       " 2.6381884034224372,\n",
       " 2.7690006522681774,\n",
       " 2.6945554678208552,\n",
       " 2.5566196034899535,\n",
       " 2.4566457183968051,\n",
       " 2.3273857716187401,\n",
       " 2.1067644980322973,\n",
       " 1.8657411490212583,\n",
       " 1.9253645669131147,\n",
       " 2.0164536835327551,\n",
       " 2.0293856230307759,\n",
       " 2.1260902481129156]"
      ]
     },
     "execution_count": 32,
     "metadata": {},
     "output_type": "execute_result"
    }
   ],
   "source": [
    "df"
   ]
  },
  {
   "cell_type": "code",
   "execution_count": 33,
   "metadata": {
    "collapsed": false
   },
   "outputs": [
    {
     "name": "stdout",
     "output_type": "stream",
     "text": [
      "Max amplitude of model: 0.844\n",
      "Min amplitude of model: 0.5687\n",
      "Mean amplitude of model: 0.7042\n"
     ]
    }
   ],
   "source": [
    "## average, max and min of the tidal amplitude at Mission\n",
    "ddf = np.array(df)\n",
    "mean_ddf_MI = np.mean(ddf)* 0.3048\n",
    "max_ddf_MI = np.max(ddf)* 0.3048\n",
    "min_ddf_MI = np.min(ddf)* 0.3048\n",
    "print ('Max amplitude of model: {0:.4}'.format(max_ddf_MI))\n",
    "print ('Min amplitude of model: {0:.4}'.format(min_ddf_MI))\n",
    "print ('Mean amplitude of model: {0:.4}'.format(mean_ddf_MI))"
   ]
  },
  {
   "cell_type": "code",
   "execution_count": 34,
   "metadata": {
    "collapsed": true
   },
   "outputs": [],
   "source": [
    "delta_max, delta_min = get_time_lag(tmimi, time_min, tmima, time_max)"
   ]
  },
  {
   "cell_type": "code",
   "execution_count": 35,
   "metadata": {
    "collapsed": true
   },
   "outputs": [],
   "source": [
    "##combine both time lag for high and low water level at Mission\n",
    "time_lag_mod = []\n",
    "time_lag_mod.append(delta_max)\n",
    "time_lag_mod.append(delta_min)"
   ]
  },
  {
   "cell_type": "code",
   "execution_count": 36,
   "metadata": {
    "collapsed": false
   },
   "outputs": [
    {
     "data": {
      "image/png": "[encoded data removed]",
      "text/plain": [
       "<matplotlib.figure.Figure at 0x7f1787600780>"
      ]
     },
     "metadata": {},
     "output_type": "display_data"
    }
   ],
   "source": [
    "fig = plot_height_time_stn(ssh_model, ssh_obs, time_lag_mod, 'Mission')"
   ]
  },
  {
   "cell_type": "markdown",
   "metadata": {},
   "source": [
    "* Mission in Ages model show vertical line for QHope = 300,000 cfs that are not affected by tide. I will compare it with obs from EC to as follows."
   ]
  },
  {
   "cell_type": "markdown",
   "metadata": {},
   "source": [
    "# Compare with EC data"
   ]
  },
  {
   "cell_type": "code",
   "execution_count": 25,
   "metadata": {
    "collapsed": false
   },
   "outputs": [],
   "source": [
    "obs = pd.read_excel('08MH024_HRLY_2015.xls', skiprows = 0)"
   ]
  },
  {
   "cell_type": "code",
   "execution_count": 27,
   "metadata": {
    "collapsed": false
   },
   "outputs": [],
   "source": [
    "tt, wl_zoom = zoomin_tide_EC(obs)"
   ]
  },
  {
   "cell_type": "code",
   "execution_count": 28,
   "metadata": {
    "collapsed": false
   },
   "outputs": [],
   "source": [
    "obs_max, obs_min, t_max, t_min = find_highlow_tide_EC(tt, wl_zoom)"
   ]
  },
  {
   "cell_type": "code",
   "execution_count": 29,
   "metadata": {
    "collapsed": true
   },
   "outputs": [],
   "source": [
    "##combine both max and min water level for MISIION with EC obs\n",
    "ssh_obs_EC = []\n",
    "ssh_obs_EC.append(obs_max)\n",
    "ssh_obs_EC.append(obs_min)"
   ]
  },
  {
   "cell_type": "code",
   "execution_count": 30,
   "metadata": {
    "collapsed": true
   },
   "outputs": [],
   "source": [
    "df = print_out_diff_wl(obs_max, obs_min)"
   ]
  },
  {
   "cell_type": "code",
   "execution_count": 31,
   "metadata": {
    "collapsed": false
   },
   "outputs": [
    {
     "data": {
      "text/plain": [
       "[0.8956692913385833,\n",
       " 0.78740157480315,\n",
       " 1.053149606299213,\n",
       " 0.9744094488188981,\n",
       " 1.1450131233595808,\n",
       " 1.2237532808398957,\n",
       " 1.1286089238845136,\n",
       " 1.0958005249343827,\n",
       " 0.9940944881889777,\n",
       " 0.8300524934383215,\n",
       " 0.9547244094488185,\n",
       " 0.9547244094488194,\n",
       " 0.9678477690288707,\n",
       " 1.0695538057742793]"
      ]
     },
     "execution_count": 31,
     "metadata": {},
     "output_type": "execute_result"
    }
   ],
   "source": [
    "df"
   ]
  },
  {
   "cell_type": "code",
   "execution_count": 32,
   "metadata": {
    "collapsed": false
   },
   "outputs": [
    {
     "name": "stdout",
     "output_type": "stream",
     "text": [
      "Max amplitude of observation: 0.373\n",
      "Min amplitude of observation: 0.24\n",
      "Mean amplitude of observation: 0.3064\n"
     ]
    }
   ],
   "source": [
    "## average, max and min of the tidal amplitude at Mission for observation\n",
    "ddf = np.array(df)\n",
    "mean_ddf_MI = np.mean(ddf)* 0.3048\n",
    "max_ddf_MI = np.max(ddf)* 0.3048\n",
    "min_ddf_MI = np.min(ddf)* 0.3048\n",
    "print ('Max amplitude of observation: {0:.4}'.format(max_ddf_MI))\n",
    "print ('Min amplitude of observation: {0:.4}'.format(min_ddf_MI))\n",
    "print ('Mean amplitude of observation: {0:.4}'.format(mean_ddf_MI))"
   ]
  },
  {
   "cell_type": "code",
   "execution_count": 33,
   "metadata": {
    "collapsed": true
   },
   "outputs": [],
   "source": [
    "delta_max_obs, delta_min_obs = get_time_lag(t_min, time_min, t_max, time_max)"
   ]
  },
  {
   "cell_type": "code",
   "execution_count": 34,
   "metadata": {
    "collapsed": true
   },
   "outputs": [],
   "source": [
    "##combine both time lag for high and low water level at Mission with EC obs\n",
    "time_lag_obs = []\n",
    "time_lag_obs.append(delta_max_obs)\n",
    "time_lag_obs.append(delta_min_obs)"
   ]
  },
  {
   "cell_type": "code",
   "execution_count": 35,
   "metadata": {
    "collapsed": false
   },
   "outputs": [
    {
     "data": {
      "image/png": "[encoded data removed]",
      "text/plain": [
       "<matplotlib.figure.Figure at 0x7fa2ecd11610>"
      ]
     },
     "metadata": {},
     "output_type": "display_data"
    }
   ],
   "source": [
    "fig = plot_height_time_stn(ssh_obs_EC, ssh_obs, time_lag_obs, 'Mission')"
   ]
  },
  {
   "cell_type": "markdown",
   "metadata": {},
   "source": [
    "* Amplitude of tidal height at Mission in the model is around 1 feet(0.3048m) higher than obs from EC.which means Mission is a little bit near the mouth. Two options I think about so far:\n",
    "* 1 If 0.3048m does not count much in tidal progression to affect surface current direction, that's fine.\n",
    "* 2 If counts, need to widen river channel in the north channel directly connected to edge of domain."
   ]
  },
  {
   "cell_type": "markdown",
   "metadata": {},
   "source": [
    "Deas Island"
   ]
  },
  {
   "cell_type": "code",
   "execution_count": 37,
   "metadata": {
    "collapsed": true
   },
   "outputs": [],
   "source": [
    "## grid cell for Deas Island is [414, 328]\n",
    "mima, mimi, tmima, tmimi = readoff_stn_highlow_waterlevel_new(t_end, t_orig, 414, 328,ssh_mod, tt)"
   ]
  },
  {
   "cell_type": "code",
   "execution_count": 38,
   "metadata": {
    "collapsed": true
   },
   "outputs": [],
   "source": [
    "##combine both max and min water level for DEAS ISLAND\n",
    "ssh_model = []\n",
    "ssh_model.append(mima)\n",
    "ssh_model.append(mimi)"
   ]
  },
  {
   "cell_type": "code",
   "execution_count": 39,
   "metadata": {
    "collapsed": true
   },
   "outputs": [],
   "source": [
    "df = print_out_diff_wl(mima, mimi)"
   ]
  },
  {
   "cell_type": "code",
   "execution_count": 40,
   "metadata": {
    "collapsed": false
   },
   "outputs": [
    {
     "data": {
      "text/plain": [
       "[4.4068917045443072,\n",
       " 4.626988015306277,\n",
       " 4.753810976903269,\n",
       " 4.7962327446211663,\n",
       " 4.6230384253767216,\n",
       " 4.4526509803736927,\n",
       " 4.3374880796342383,\n",
       " 4.096003127066794,\n",
       " 3.7172483646963523,\n",
       " 3.3150736506529679,\n",
       " 3.5573424786094607,\n",
       " 3.7186714060350354,\n",
       " 3.8103653690007722,\n",
       " 3.9771313625057845]"
      ]
     },
     "execution_count": 40,
     "metadata": {},
     "output_type": "execute_result"
    }
   ],
   "source": [
    "df"
   ]
  },
  {
   "cell_type": "code",
   "execution_count": 41,
   "metadata": {
    "collapsed": false
   },
   "outputs": [
    {
     "name": "stdout",
     "output_type": "stream",
     "text": [
      "Max amplitude of model: 1.462\n",
      "Min amplitude of model: 1.01\n",
      "Mean amplitude of model: 1.267\n"
     ]
    }
   ],
   "source": [
    "## average, max and min of the tidal amplitude at Deas Island channel for model\n",
    "ddf = np.array(df)\n",
    "mean_ddf_DI = np.mean(ddf)* 0.3048\n",
    "max_ddf_DI = np.max(ddf)* 0.3048\n",
    "min_ddf_DI = np.min(ddf)* 0.3048\n",
    "print ('Max amplitude of model: {0:.4}'.format(max_ddf_DI))\n",
    "print ('Min amplitude of model: {0:.4}'.format(min_ddf_DI))\n",
    "print ('Mean amplitude of model: {0:.4}'.format(mean_ddf_DI))"
   ]
  },
  {
   "cell_type": "code",
   "execution_count": 42,
   "metadata": {
    "collapsed": true
   },
   "outputs": [],
   "source": [
    "delta_max, delta_min = get_time_lag(tmimi, time_min, tmima, time_max)"
   ]
  },
  {
   "cell_type": "code",
   "execution_count": 43,
   "metadata": {
    "collapsed": true
   },
   "outputs": [],
   "source": [
    "##combine both time lag for high and low water level at Deas Island\n",
    "time_lag_mod = []\n",
    "time_lag_mod.append(delta_max)\n",
    "time_lag_mod.append(delta_min)"
   ]
  },
  {
   "cell_type": "code",
   "execution_count": 44,
   "metadata": {
    "collapsed": false
   },
   "outputs": [
    {
     "data": {
      "image/png": "[encoded data removed]",
      "text/plain": [
       "<matplotlib.figure.Figure at 0x7f1787b163c8>"
      ]
     },
     "metadata": {},
     "output_type": "display_data"
    }
   ],
   "source": [
    "fig = plot_height_time_stn(ssh_model, ssh_obs, time_lag_mod, 'Deas Island')"
   ]
  },
  {
   "cell_type": "markdown",
   "metadata": {},
   "source": [
    "*  Compare with EC data below."
   ]
  },
  {
   "cell_type": "code",
   "execution_count": 36,
   "metadata": {
    "collapsed": true
   },
   "outputs": [],
   "source": [
    "obs = pd.read_excel('08MH053_HRLY_2015.xls', skiprows = 0)"
   ]
  },
  {
   "cell_type": "code",
   "execution_count": 38,
   "metadata": {
    "collapsed": true
   },
   "outputs": [],
   "source": [
    "tt, wl_zoom = zoomin_tide_EC(obs)"
   ]
  },
  {
   "cell_type": "code",
   "execution_count": 39,
   "metadata": {
    "collapsed": true
   },
   "outputs": [],
   "source": [
    "obs_max, obs_min, t_max, t_min = find_highlow_tide_EC(tt, wl_zoom)"
   ]
  },
  {
   "cell_type": "code",
   "execution_count": 40,
   "metadata": {
    "collapsed": true
   },
   "outputs": [],
   "source": [
    "##combine both max and min water level for Deas Island with EC obs\n",
    "ssh_obs_EC = []\n",
    "ssh_obs_EC.append(obs_max)\n",
    "ssh_obs_EC.append(obs_min)"
   ]
  },
  {
   "cell_type": "code",
   "execution_count": 41,
   "metadata": {
    "collapsed": true
   },
   "outputs": [],
   "source": [
    "df = print_out_diff_wl(obs_max, obs_min)"
   ]
  },
  {
   "cell_type": "code",
   "execution_count": 42,
   "metadata": {
    "collapsed": false
   },
   "outputs": [
    {
     "data": {
      "text/plain": [
       "[9.849081364829395,\n",
       " 9.85236220472441,\n",
       " 9.93766404199475,\n",
       " 9.996719160104988,\n",
       " 9.53740157480315,\n",
       " 9.048556430446194,\n",
       " 8.585958005249344,\n",
       " 7.860892388451443,\n",
       " 6.456692913385826,\n",
       " 6.062992125984252,\n",
       " 6.850393700787402,\n",
       " 7.696850393700787,\n",
       " 7.9560367454068235,\n",
       " 8.868110236220472]"
      ]
     },
     "execution_count": 42,
     "metadata": {},
     "output_type": "execute_result"
    }
   ],
   "source": [
    "df"
   ]
  },
  {
   "cell_type": "code",
   "execution_count": 43,
   "metadata": {
    "collapsed": false
   },
   "outputs": [
    {
     "name": "stdout",
     "output_type": "stream",
     "text": [
      "Max amplitude of observation: 3.047\n",
      "Min amplitude of observation: 1.848\n",
      "Mean amplitude of observation: 2.581\n"
     ]
    }
   ],
   "source": [
    "## average, max and min of the tidal amplitude at Deas Island for observation\n",
    "ddf = np.array(df)\n",
    "mean_ddf_DI = np.mean(ddf)* 0.3048\n",
    "max_ddf_DI = np.max(ddf)* 0.3048\n",
    "min_ddf_DI = np.min(ddf)* 0.3048\n",
    "print ('Max amplitude of observation: {0:.4}'.format(max_ddf_DI))\n",
    "print ('Min amplitude of observation: {0:.4}'.format(min_ddf_DI))\n",
    "print ('Mean amplitude of observation: {0:.4}'.format(mean_ddf_DI))"
   ]
  },
  {
   "cell_type": "code",
   "execution_count": 44,
   "metadata": {
    "collapsed": true
   },
   "outputs": [],
   "source": [
    "delta_max_obs, delta_min_obs = get_time_lag(t_min, time_min, t_max, time_max)"
   ]
  },
  {
   "cell_type": "code",
   "execution_count": 45,
   "metadata": {
    "collapsed": true
   },
   "outputs": [],
   "source": [
    "##combine both time lag for high and low water level at Deas Island with EC obs\n",
    "time_lag_obs = []\n",
    "time_lag_obs.append(delta_max_obs)\n",
    "time_lag_obs.append(delta_min_obs)"
   ]
  },
  {
   "cell_type": "code",
   "execution_count": 46,
   "metadata": {
    "collapsed": false
   },
   "outputs": [
    {
     "data": {
      "image/png": "[encoded data removed]",
      "text/plain": [
       "<matplotlib.figure.Figure at 0x7fa2ecd11810>"
      ]
     },
     "metadata": {},
     "output_type": "display_data"
    }
   ],
   "source": [
    "fig = plot_height_time_stn(ssh_obs_EC, ssh_obs, time_lag_obs, 'Deas Island')"
   ]
  },
  {
   "cell_type": "markdown",
   "metadata": {},
   "source": [
    "*  Prediction of water level for Deas Island is 3-5 feet(1-1.5m) lower than obs from EC. Tide dissipate too fast at the beginning of river channel?"
   ]
  },
  {
   "cell_type": "markdown",
   "metadata": {},
   "source": [
    "Sandheads"
   ]
  },
  {
   "cell_type": "code",
   "execution_count": 67,
   "metadata": {
    "collapsed": true
   },
   "outputs": [],
   "source": [
    "## grid cell for Sandheads is [426, 293]\n",
    "mima, mimi, tmima, tmimi = readoff_stn_highlow_waterlevel_new(t_end, t_orig, 426, 293,ssh_mod, tt)"
   ]
  },
  {
   "cell_type": "code",
   "execution_count": 68,
   "metadata": {
    "collapsed": true
   },
   "outputs": [],
   "source": [
    "##combine both max and min water level for SANDHEADS\n",
    "ssh_model = []\n",
    "ssh_model.append(mima)\n",
    "ssh_model.append(mimi)"
   ]
  },
  {
   "cell_type": "code",
   "execution_count": 69,
   "metadata": {
    "collapsed": true
   },
   "outputs": [],
   "source": [
    "df = print_out_diff_wl(mima, mimi)"
   ]
  },
  {
   "cell_type": "code",
   "execution_count": 71,
   "metadata": {
    "collapsed": true
   },
   "outputs": [],
   "source": [
    "delta_max, delta_min = get_time_lag(tmimi, time_min, tmima, time_max)"
   ]
  },
  {
   "cell_type": "code",
   "execution_count": 72,
   "metadata": {
    "collapsed": true
   },
   "outputs": [],
   "source": [
    "##combine both time lag for high and low water level at Sandheads\n",
    "time_lag_mod = []\n",
    "time_lag_mod.append(delta_max)\n",
    "time_lag_mod.append(delta_min)"
   ]
  },
  {
   "cell_type": "code",
   "execution_count": 73,
   "metadata": {
    "collapsed": false
   },
   "outputs": [
    {
     "data": {
      "image/png": "[encoded data removed]",
      "text/plain": [
       "<matplotlib.figure.Figure at 0x7f1071732750>"
      ]
     },
     "metadata": {},
     "output_type": "display_data"
    }
   ],
   "source": [
    "fig = plot_height_time_stn(ssh_model, ssh_obs, time_lag_mod, 'Sandheads')"
   ]
  },
  {
   "cell_type": "markdown",
   "metadata": {},
   "source": [
    "* Compared with Ages model at Steveston, too high water level for both ebb tide and flood tide.\n",
    "* No data of Sandheads from EC available\n",
    "* Turn to look at Steveston which could reflect tide in Sandheads, I think, as they are realy close."
   ]
  },
  {
   "cell_type": "markdown",
   "metadata": {},
   "source": [
    "Steveston Jetty"
   ]
  },
  {
   "cell_type": "code",
   "execution_count": 47,
   "metadata": {
    "collapsed": true
   },
   "outputs": [],
   "source": [
    "## grid cell for Steveston Jetty is [424, 312]\n",
    "mima, mimi, tmima, tmimi = readoff_stn_highlow_waterlevel_new(t_end, t_orig, 424, 312,ssh_mod, tt)"
   ]
  },
  {
   "cell_type": "code",
   "execution_count": 48,
   "metadata": {
    "collapsed": true
   },
   "outputs": [],
   "source": [
    "##combine both max and min water level for Steveston Jetty\n",
    "ssh_model = []\n",
    "ssh_model.append(mima)\n",
    "ssh_model.append(mimi)"
   ]
  },
  {
   "cell_type": "code",
   "execution_count": 49,
   "metadata": {
    "collapsed": true
   },
   "outputs": [],
   "source": [
    "df = print_out_diff_wl(mima, mimi)"
   ]
  },
  {
   "cell_type": "code",
   "execution_count": 50,
   "metadata": {
    "collapsed": false
   },
   "outputs": [
    {
     "data": {
      "text/plain": [
       "[11.740718379108298,\n",
       " 12.023689865753093,\n",
       " 12.003851766035625,\n",
       " 11.497595569905959,\n",
       " 10.832256375961101,\n",
       " 9.7357151232992258,\n",
       " 8.3854016200138197,\n",
       " 7.4179501827620449,\n",
       " 6.6891568774000554,\n",
       " 7.0846166823479759,\n",
       " 7.7706970411335696,\n",
       " 8.6081833664200751,\n",
       " 9.2295222864376267,\n",
       " 9.9025334273110523]"
      ]
     },
     "execution_count": 50,
     "metadata": {},
     "output_type": "execute_result"
    }
   ],
   "source": [
    "df"
   ]
  },
  {
   "cell_type": "code",
   "execution_count": 51,
   "metadata": {
    "collapsed": false
   },
   "outputs": [
    {
     "name": "stdout",
     "output_type": "stream",
     "text": [
      "Max amplitude of model: 3.665\n",
      "Min amplitude of model: 2.039\n",
      "Mean amplitude of model: 2.894\n"
     ]
    }
   ],
   "source": [
    "## average, max and min of the tidal amplitude at Steveston for model\n",
    "ddf = np.array(df)\n",
    "mean_ddf_ST = np.mean(ddf)* 0.3048\n",
    "max_ddf_ST = np.max(ddf)* 0.3048\n",
    "min_ddf_ST = np.min(ddf)* 0.3048\n",
    "print ('Max amplitude of model: {0:.4}'.format(max_ddf_ST))\n",
    "print ('Min amplitude of model: {0:.4}'.format(min_ddf_ST))\n",
    "print ('Mean amplitude of model: {0:.4}'.format(mean_ddf_ST))"
   ]
  },
  {
   "cell_type": "code",
   "execution_count": 52,
   "metadata": {
    "collapsed": true
   },
   "outputs": [],
   "source": [
    "delta_max, delta_min = get_time_lag(tmimi, time_min, tmima, time_max)"
   ]
  },
  {
   "cell_type": "code",
   "execution_count": 53,
   "metadata": {
    "collapsed": true
   },
   "outputs": [],
   "source": [
    "##combine both time lag for high and low water level at Sandheads\n",
    "time_lag_mod = []\n",
    "time_lag_mod.append(delta_max)\n",
    "time_lag_mod.append(delta_min)"
   ]
  },
  {
   "cell_type": "code",
   "execution_count": 54,
   "metadata": {
    "collapsed": false
   },
   "outputs": [
    {
     "data": {
      "image/png": "[encoded data removed]",
      "text/plain": [
       "<matplotlib.figure.Figure at 0x7f1786d78d68>"
      ]
     },
     "metadata": {},
     "output_type": "display_data"
    }
   ],
   "source": [
    "fig = plot_height_time_stn(ssh_model, ssh_obs, time_lag_mod, 'Steveston')"
   ]
  },
  {
   "cell_type": "markdown",
   "metadata": {},
   "source": [
    "* Compare with EC at Steveston below:"
   ]
  },
  {
   "cell_type": "code",
   "execution_count": 47,
   "metadata": {
    "collapsed": true
   },
   "outputs": [],
   "source": [
    "obs = pd.read_excel('08MH028_HRLY_2015.xls', skiprows = 0)"
   ]
  },
  {
   "cell_type": "code",
   "execution_count": 49,
   "metadata": {
    "collapsed": true
   },
   "outputs": [],
   "source": [
    "tt, wl_zoom = zoomin_tide_EC(obs)"
   ]
  },
  {
   "cell_type": "code",
   "execution_count": 50,
   "metadata": {
    "collapsed": true
   },
   "outputs": [],
   "source": [
    "obs_max, obs_min, t_max, t_min = find_highlow_tide_EC(tt, wl_zoom)"
   ]
  },
  {
   "cell_type": "code",
   "execution_count": 51,
   "metadata": {
    "collapsed": true
   },
   "outputs": [],
   "source": [
    "##combine both max and min water level for Deas Island with EC obs\n",
    "ssh_obs_EC = []\n",
    "ssh_obs_EC.append(obs_max)\n",
    "ssh_obs_EC.append(obs_min)"
   ]
  },
  {
   "cell_type": "code",
   "execution_count": 52,
   "metadata": {
    "collapsed": true
   },
   "outputs": [],
   "source": [
    "df = print_out_diff_wl(obs_max, obs_min)"
   ]
  },
  {
   "cell_type": "code",
   "execution_count": 53,
   "metadata": {
    "collapsed": false
   },
   "outputs": [
    {
     "data": {
      "text/plain": [
       "[11.309055118110237,\n",
       " 11.453412073490814,\n",
       " 11.459973753280838,\n",
       " 11.249999999999998,\n",
       " 10.590551181102363,\n",
       " 10.095144356955378,\n",
       " 9.41272965879265,\n",
       " 8.372703412073491,\n",
       " 7.103018372703412,\n",
       " 6.87992125984252,\n",
       " 7.513123359580053,\n",
       " 8.29068241469816,\n",
       " 8.884514435695538,\n",
       " 9.49803149606299]"
      ]
     },
     "execution_count": 53,
     "metadata": {},
     "output_type": "execute_result"
    }
   ],
   "source": [
    "df"
   ]
  },
  {
   "cell_type": "code",
   "execution_count": 54,
   "metadata": {
    "collapsed": false
   },
   "outputs": [
    {
     "name": "stdout",
     "output_type": "stream",
     "text": [
      "Max amplitude of observation: 3.493\n",
      "Min amplitude of observation: 2.097\n",
      "Mean amplitude of observation: 2.876\n"
     ]
    }
   ],
   "source": [
    "## average, max and min of the tidal amplitude at Steveston for observation\n",
    "ddf = np.array(df)\n",
    "mean_ddf_ST = np.mean(ddf)* 0.3048\n",
    "max_ddf_ST = np.max(ddf)* 0.3048\n",
    "min_ddf_ST = np.min(ddf)* 0.3048\n",
    "print ('Max amplitude of observation: {0:.4}'.format(max_ddf_ST))\n",
    "print ('Min amplitude of observation: {0:.4}'.format(min_ddf_ST))\n",
    "print ('Mean amplitude of observation: {0:.4}'.format(mean_ddf_ST))"
   ]
  },
  {
   "cell_type": "code",
   "execution_count": 55,
   "metadata": {
    "collapsed": true
   },
   "outputs": [],
   "source": [
    "delta_max_obs, delta_min_obs = get_time_lag(t_min, time_min, t_max, time_max)"
   ]
  },
  {
   "cell_type": "code",
   "execution_count": 56,
   "metadata": {
    "collapsed": true
   },
   "outputs": [],
   "source": [
    "##combine both time lag for high and low water level at Deas Island with EC obs\n",
    "time_lag_obs = []\n",
    "time_lag_obs.append(delta_max_obs)\n",
    "time_lag_obs.append(delta_min_obs)"
   ]
  },
  {
   "cell_type": "code",
   "execution_count": 57,
   "metadata": {
    "collapsed": false
   },
   "outputs": [
    {
     "data": {
      "image/png": "[encoded data removed]",
      "text/plain": [
       "<matplotlib.figure.Figure at 0x7fa2ecfd7390>"
      ]
     },
     "metadata": {},
     "output_type": "display_data"
    }
   ],
   "source": [
    "fig = plot_height_time_stn(ssh_obs_EC, ssh_obs, time_lag_obs, 'Steveston')"
   ]
  },
  {
   "cell_type": "markdown",
   "metadata": {},
   "source": [
    "* Tidal amplitude difference between model result and obs from EC is not prominent, but still model is around 0.4-1 feet(0.1-0.3m) higher than obs, i guess this may be caused by 13km location difference, that is, our jetty location is 13km further to the strait than obs, so tidal amplitude is larger, I assume."
   ]
  },
  {
   "cell_type": "markdown",
   "metadata": {},
   "source": [
    "* In summary, compared with Ages graph and data from EC, amplitude of New West is 0.5m lower, further to mouth, Mission is 0.3m higher, close to mouth?  Deas Island is 1-1.5m lower, maybe tide propagate too fast at beginning of river channel. Steveston is good, I think. \n",
    "* For New Westminster, tide dissipates too much, which means tide feels difficult to propagate in my narrow and shallow river channel, if I reserve the length, I should deepen the depth for original river channel which I did not change mostly.\n",
    "* As for Deas Island, this is part of original river channel, it dissipates fast, deepen depth or widen width could of original river channel helps.\n",
    "* For Mission:\n",
    "1 If the 0.3m high water level caused by tide: depth of Mission too deep? Need to decrease depth? \n",
    "2 Ages paper suggested Mission may not be affected by tide during freshet(Qhope = 300,000 cfs), so that 0.3m high water level may also caused by river discharge. Is that the river discharge source is only one grid cell with 3m depth that is too concentrated? So either deepen the depth of source or widen the source point should be considered.\n"
   ]
  },
  {
   "cell_type": "code",
   "execution_count": null,
   "metadata": {
    "collapsed": true
   },
   "outputs": [],
   "source": []
  }
 ],
 "metadata": {
  "anaconda-cloud": {},
  "kernelspec": {
   "display_name": "Python [Root]",
   "language": "python",
   "name": "Python [Root]"
  },
  "language_info": {
   "codemirror_mode": {
    "name": "ipython",
    "version": 3
   },
   "file_extension": ".py",
   "mimetype": "text/x-python",
   "name": "python",
   "nbconvert_exporter": "python",
   "pygments_lexer": "ipython3",
   "version": "3.5.2"
  }
 },
 "nbformat": 4,
 "nbformat_minor": 0
}
