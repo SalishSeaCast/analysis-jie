{
 "cells": [
  {
   "cell_type": "markdown",
   "metadata": {},
   "source": [
    "* This notebook was made to look at tidal heights at Steveston, Deas Island channel, New Westminster and Mission in the deepening river channel case."
   ]
  },
  {
   "cell_type": "code",
   "execution_count": 1,
   "metadata": {
    "collapsed": false
   },
   "outputs": [],
   "source": [
    "from salishsea_tools import (nc_tools,viz_tools,stormtools,tidetools,)\n",
    "from nowcast.figures import shared\n",
    "import datetime\n",
    "import glob\n",
    "import os\n",
    "import matplotlib.pyplot as plt\n",
    "import netCDF4 as nc\n",
    "import numpy as np\n",
    "import matplotlib.pyplot as plt\n",
    "import datetime\n",
    "%matplotlib inline"
   ]
  },
  {
   "cell_type": "code",
   "execution_count": 2,
   "metadata": {
    "collapsed": false
   },
   "outputs": [],
   "source": [
    "sites = {\n",
    "    'Sandheads': {\n",
    "        'lat': 49.10,\n",
    "        'lon': -123.30,\n",
    "        'i' : 77, #426 start from 349 fortran start from 350\n",
    "        'j' : 34, #293 start from 259 fortran start from 260\n",
    "   \n",
    "    },\n",
    "    'Steveston':{\n",
    "        'lat': 49.1057,\n",
    "        'lon': -123.1032,\n",
    "        'i' :  75,#424\n",
    "        'j' :  53,#312\n",
    "    },\n",
    "    'Deas Island':{\n",
    "        'lat' : 48.12,\n",
    "        'lon' : -123.07,\n",
    "        'i' : 65,#414,\n",
    "        'j' : 69,#328\n",
    "    },    \n",
    "    'New Westminster': {\n",
    "        'lat': 49.21,\n",
    "        'lon': -122.89,\n",
    "        'i': 69,#418,\n",
    "        'j': 106,#365\n",
    "        },\n",
    "\n",
    "    'Mission': {\n",
    "        'lat': 48.59,\n",
    "        'lon': -123.2,\n",
    "        'i':  151,#500,\n",
    "        'j':108,#367\n",
    "    },\n",
    "    'Edge of domain':{\n",
    "        'lat': 49.580574,\n",
    "        'lon': -123.01498,\n",
    "        'i': 151, ##500\n",
    "        'j': 136, ##395\n",
    "    },\n",
    "    'nowcasts edge of domain':{\n",
    "        'lat': 49.130043,\n",
    "        'lon': -123.04199,\n",
    "        'i': 65, ## 414\n",
    "        'j': 75, ## 334\n",
    "    },\n",
    "\n",
    "        }\n",
    "## location of Steveston from EC is:\n",
    "#-123.185, 49.1242, so 13km away from\n",
    "#our location for that in the model "
   ]
  },
  {
   "cell_type": "code",
   "execution_count": 3,
   "metadata": {
    "collapsed": true
   },
   "outputs": [],
   "source": [
    "SITES = {\n",
    "    'Point Atkinson': {\n",
    "        'lat': 49.33,\n",
    "        'lon': -123.25,\n",
    "        'msl': 3.09,\n",
    "        'stn_no': 7795,\n",
    "        'extreme_ssh': 5.61},\n",
    "    'Victoria': {\n",
    "        'lat': 48.41,\n",
    "        'lon': -123.36,\n",
    "        'msl': 1.8810,\n",
    "        'stn_no': 7120,\n",
    "        'extreme_ssh': 3.76},\n",
    "    'Campbell River': {\n",
    "        'lat': 50.04,\n",
    "        'lon': -125.24,\n",
    "        'msl': 2.916,\n",
    "        'stn_no': 8074,\n",
    "        'extreme_ssh': 5.35},\n",
    "    'Neah Bay': {\n",
    "        'lat': 48.4,\n",
    "        'lon': -124.6,\n",
    "        'stn_no':  9443090},\n",
    "    'Friday Harbor': {\n",
    "        'lat': 48.55,\n",
    "        'lon': -123.016667,\n",
    "        'stn_no': 9449880},\n",
    "    'Cherry Point': {\n",
    "        'lat': 48.866667,\n",
    "        'lon': -122.766667,\n",
    "        'stn_no': 9449424},\n",
    "    'Sandheads': {\n",
    "        'lat': 49.10,\n",
    "        'lon': -123.30},\n",
    "    'Tofino': {\n",
    "        'stn_no': 8615},\n",
    "    }"
   ]
  },
  {
   "cell_type": "code",
   "execution_count": 4,
   "metadata": {
    "collapsed": true
   },
   "outputs": [],
   "source": [
    "def get_model_time_variables(grid_T):\n",
    "    \"\"\"Return start time, end time, and the time counter values from a\n",
    "    NEMO tracer results dataset.\n",
    "\n",
    "    :arg grid_T: Tracer results dataset from NEMO.\n",
    "    :type grid_T: :py:class:`netCDF4.Dataset`\n",
    "\n",
    "    :returns: dataset start time, dataset end time,\n",
    "              and array of output times all as datetime objects.\n",
    "    \"\"\"\n",
    "    time = nc_tools.timestamp(\n",
    "        grid_T, range(grid_T.variables['time_counter'].size))\n",
    "    time = np.array([t.datetime for t in time])\n",
    "    return time[0], time[-1], time"
   ]
  },
  {
   "cell_type": "code",
   "execution_count": 5,
   "metadata": {
    "collapsed": false
   },
   "outputs": [],
   "source": [
    "grid_TT = nc.Dataset('/data/jieliu/MEOPAR/river-treatment/14nor_NWSmoo/1hplumeT06160629smoo.nc')"
   ]
  },
  {
   "cell_type": "code",
   "execution_count": 6,
   "metadata": {
    "collapsed": false
   },
   "outputs": [],
   "source": [
    "t_orig, t_end, t_nemo = get_model_time_variables(grid_TT)"
   ]
  },
  {
   "cell_type": "code",
   "execution_count": 11,
   "metadata": {
    "collapsed": true
   },
   "outputs": [],
   "source": [
    "def zoomin_period_tide(grid_T,stn_name,PST , MSL = 0):\n",
    "    \"Find out tide heights and time in PST or UTC \\\n",
    "     given a time series at stations we got our tidal predictions\"\n",
    "    time_shift = datetime.timedelta(hours=-7)# 7hrs in summer, 8hrs \n",
    "    #in winter\n",
    "    t_orig, t_end, t_nemo = get_model_time_variables(grid_T)\n",
    "    #ttide = figures.get_tides(stn_name)\n",
    "    tfile = '/ocean/jieliu/research/meopar/tools/SalishSeaNowcast/tidal_predictions/Point Atkinson_t_tide_compare8_31-Dec-2013_02-Dec-2015.csv'\n",
    "    ttide, msl = stormtools.load_tidal_predictions(tfile)\n",
    "    time = ttide.time + PST * time_shift\n",
    "    ssh = ttide.pred_all + SITES[stn_name]['msl'] * MSL\n",
    "    ssh_zoom = []\n",
    "    time_zoom = []\n",
    "    for i in np.arange(len(ttide)):\n",
    "        if (time[i].year == t_orig.year) & (time[i].month == t_orig.month)\\\n",
    "        & (time[i].day >= t_orig.day) & (time[i].day <= t_end.day):\n",
    "            ssh_zoom.append(ssh[i])\n",
    "            time_zoom.append(time[i])\n",
    "    return ssh_zoom, time_zoom, t_orig, t_end"
   ]
  },
  {
   "cell_type": "code",
   "execution_count": 8,
   "metadata": {
    "collapsed": true
   },
   "outputs": [],
   "source": [
    "def find_highlow_tide(grid_T, ssh_zoom, time_zoom, t_end, t_orig, PST ):\n",
    "    \"Determine high and low tide heights in PST or UTC at\\\n",
    "    a given day at stations we got our tidal predictions, unit of \\\n",
    "    return ssh_max, ssh_min is feet rather than meter\"\n",
    "    ssh_max = []\n",
    "    ssh_min = []\n",
    "    time_max = []\n",
    "    time_min = []\n",
    "    j = 0\n",
    "    for i in np.arange(t_end.day - t_orig.day +1):\n",
    "        ssh_max.append(max(ssh_zoom[j:j+24])/0.3048)\n",
    "        ssh_min.append(min(ssh_zoom[j:j+24])/0.3048)\n",
    "        time_max.append(time_zoom[ssh_zoom.index(max(ssh_zoom[j:j+24]))])  \n",
    "        time_min.append(time_zoom[ssh_zoom.index(min(ssh_zoom[j:j+24]))]) \n",
    "        j = j +24\n",
    "    return ssh_max, ssh_min, time_max, time_min"
   ]
  },
  {
   "cell_type": "code",
   "execution_count": 9,
   "metadata": {
    "collapsed": true
   },
   "outputs": [],
   "source": [
    "def print_out_diff_PA(ssh_max, ssh_min, meter):\n",
    "    \"\"\"This function was made to print out\n",
    "        tidal range in meters/feet\n",
    "        at Point Atkinson to determine\n",
    "        which is spring/neap tide in the strait\"\"\"\n",
    "    diff = []\n",
    "    if meter ==0:\n",
    "        for i, j in zip(ssh_max,ssh_min):\n",
    "            dd =i-j\n",
    "            diff.append(dd)\n",
    "    elif meter ==1:\n",
    "        for i, j in zip(ssh_max,ssh_min):\n",
    "            dd =(i-j)* 0.3048\n",
    "            diff.append(dd)\n",
    "    return diff"
   ]
  },
  {
   "cell_type": "code",
   "execution_count": 12,
   "metadata": {
    "collapsed": false
   },
   "outputs": [],
   "source": [
    "ssh_zoom, time_zoom, t_orig, t_end = zoomin_period_tide(grid_TT, 'Point Atkinson',0, MSL = 0)"
   ]
  },
  {
   "cell_type": "code",
   "execution_count": 13,
   "metadata": {
    "collapsed": true
   },
   "outputs": [],
   "source": [
    "ssh_max,ssh_min,time_max,time_min=find_highlow_tide(grid_TT, ssh_zoom,time_zoom, t_end, t_orig, 0)"
   ]
  },
  {
   "cell_type": "code",
   "execution_count": 14,
   "metadata": {
    "collapsed": false
   },
   "outputs": [
    {
     "data": {
      "text/plain": [
       "[3.944944,\n",
       " 3.9744409999999997,\n",
       " 3.8581020000000001,\n",
       " 3.7223330000000003,\n",
       " 3.4125260000000002,\n",
       " 3.0934720000000002,\n",
       " 2.7087030000000003,\n",
       " 2.509903,\n",
       " 2.201384,\n",
       " 2.2007780000000001,\n",
       " 2.3974890000000002,\n",
       " 2.6195279999999999,\n",
       " 2.8796240000000002,\n",
       " 3.1192619999999995]"
      ]
     },
     "execution_count": 14,
     "metadata": {},
     "output_type": "execute_result"
    }
   ],
   "source": [
    "diff = print_out_diff_PA(ssh_max,ssh_min, meter =1)\n",
    "diff ## tidal range at PA in  meters!!! June 24 has the smallest tidal range that I regard it as neap tide"
   ]
  },
  {
   "cell_type": "code",
   "execution_count": 15,
   "metadata": {
    "collapsed": false
   },
   "outputs": [],
   "source": [
    "##combine both max and min tidal anomaly for Point Atkinson\n",
    "ssh_obs = []\n",
    "ssh_obs.append(ssh_max)\n",
    "ssh_obs.append(ssh_min)"
   ]
  },
  {
   "cell_type": "markdown",
   "metadata": {},
   "source": [
    "# For new river channel model results(without smoothed bathymetry6)"
   ]
  },
  {
   "cell_type": "code",
   "execution_count": 16,
   "metadata": {
    "collapsed": true
   },
   "outputs": [],
   "source": [
    "ssh_mod = grid_TT.variables['sossheig']\n",
    "time_mod = grid_TT.variables['time_counter'][:]"
   ]
  },
  {
   "cell_type": "code",
   "execution_count": 17,
   "metadata": {
    "collapsed": false
   },
   "outputs": [
    {
     "data": {
      "text/plain": [
       "(336, 170, 138)"
      ]
     },
     "execution_count": 17,
     "metadata": {},
     "output_type": "execute_result"
    }
   ],
   "source": [
    "ssh_mod.shape"
   ]
  },
  {
   "cell_type": "code",
   "execution_count": 18,
   "metadata": {
    "collapsed": true
   },
   "outputs": [],
   "source": [
    "t = nc_tools.timestamp(grid_TT, np.arange(time_mod.shape[0]))\n",
    "for ind in range(len(t)):\n",
    "    t[ind] = t[ind].datetime\n",
    "tt = np.array(t) ## convert time_counter into datetime"
   ]
  },
  {
   "cell_type": "code",
   "execution_count": 19,
   "metadata": {
    "collapsed": true
   },
   "outputs": [],
   "source": [
    "def readoff_stn_highlow_waterlevel(t_end, t_orig, jnd, ind, ssh_mod, time_mod):\n",
    "    \"\"\"This function was used to read through high and low water\\\n",
    "        levels at various stns during a time period, the water levels\\\n",
    "        returned are in feet unit instead of meters\"\"\"\n",
    "    ssh_mod_max = []\n",
    "    ssh_mod_min = []\n",
    "    time_mod_max = []\n",
    "    time_mod_min = []\n",
    "    j = 0\n",
    "    for i in np.arange(t_end.day - t_orig.day +1):\n",
    "        ssh_mod_max.append(max(ssh_mod[j:j+23, jnd, ind])/0.3048)\n",
    "        ssh_mod_min.append(min(ssh_mod[j:j+23, jnd, ind])/0.3048)\n",
    "        time_mod_max.append(time_mod[j:j+23][np.argmax(ssh_mod[j:j+23, jnd, ind])])  \n",
    "        time_mod_min.append(time_mod[j:j+23][np.argmin(ssh_mod[j:j+23, jnd, ind])]) \n",
    "        ## need to convert time_mod_min in hour to date!!\n",
    "        j = j +24\n",
    "    return ssh_mod_max, ssh_mod_min, time_mod_max, time_mod_min  "
   ]
  },
  {
   "cell_type": "code",
   "execution_count": 20,
   "metadata": {
    "collapsed": true
   },
   "outputs": [],
   "source": [
    "def readoff_stn_highlow_waterlevel_new(t_end, t_orig, jnd, ind, ssh_mod, tt):\n",
    "    \"\"\"This function was used to read through high and low water\\\n",
    "        levels at various stns during a time period, the water levels\\\n",
    "        returned are in feet unit instead of meters\"\"\"\n",
    "    ssh_mod_max = []\n",
    "    ssh_mod_min = []\n",
    "    time_mod_max = []\n",
    "    time_mod_min = []\n",
    "    j = 0\n",
    "    for i in np.arange(t_end.day - t_orig.day +1):\n",
    "        ssh_mod_max.append(max(ssh_mod[j:j+23, jnd, ind])/0.3048)\n",
    "        ssh_mod_min.append(min(ssh_mod[j:j+23, jnd, ind])/0.3048)\n",
    "        time_mod_max.append(tt[j:j+23][np.argmax(ssh_mod[j:j+23, jnd, ind])])  \n",
    "        time_mod_min.append(tt[j:j+23][np.argmin(ssh_mod[j:j+23, jnd, ind])]) \n",
    "        ## need to convert time_mod_min in hour to date!!\n",
    "        j = j +24\n",
    "    return ssh_mod_max, ssh_mod_min, time_mod_max, time_mod_min "
   ]
  },
  {
   "cell_type": "code",
   "execution_count": 21,
   "metadata": {
    "collapsed": true
   },
   "outputs": [],
   "source": [
    "def get_time_lag( ttmin, time_min, ttma, time_max ):\n",
    "    \"\"\"This function was made to calculate time lag\n",
    "        of high and low water level between stns and \n",
    "        PA\"\"\"\n",
    "    delta_min = []\n",
    "    delta_max = []\n",
    "    for t1, t2, t3, t4 in zip( ttmin, time_min,ttma, time_max):\n",
    "        diff_min = (t1.hour- t2.hour) * 60 + (t1.minute - t2.minute)\n",
    "        diff_max = (t3.hour- t4.hour) * 60 + (t3.minute - t4.minute)\n",
    "        delta_min.append(diff_min)\n",
    "        delta_max.append(diff_max)\n",
    "    return delta_max, delta_min"
   ]
  },
  {
   "cell_type": "code",
   "execution_count": 22,
   "metadata": {
    "collapsed": true
   },
   "outputs": [],
   "source": [
    "def print_out_diff_wl(mima, mimi):\n",
    "    \"\"\"To print out difference of high and low\n",
    "        water levels at each Fraser gauge for\n",
    "        both models and obs from EC\n",
    "        Input: mima & mimi are high & low water\n",
    "        levels for stn.\n",
    "        Output: array of their difference[unit feet]\"\"\"\n",
    "    df = []\n",
    "    for i, j in zip(mima, mimi):\n",
    "        d = i -j\n",
    "        df.append(d)\n",
    "    return df"
   ]
  },
  {
   "cell_type": "code",
   "execution_count": 23,
   "metadata": {
    "collapsed": true
   },
   "outputs": [],
   "source": [
    "def plot_height_time_stn(ssh_model, ssh_obs, time_lag_mod, stn):\n",
    "    \"\"\"This function was made to plot water level height\n",
    "    and time lag for Fraser gauges with PA tidal height \"\"\"\n",
    "    fig, axs = plt.subplots(1,2, figsize = (20,10))\n",
    "    axs[0].scatter(ssh_model,ssh_obs,color='blue',s=15,edgecolor='none')\n",
    "    axs[0].text(-2, 4, r'$Q_Hope = 200,000cfs$', fontsize=15)\n",
    "    axs[0].grid()\n",
    "    axs[0].set_xlim([-8, 14])\n",
    "    axs[0].set_ylim([-10, 6])\n",
    "    axs[0].set_xlabel('Water level at ' + stn + ' [feet]')\n",
    "    axs[0].set_ylabel('Point Atkinson Height[feet]')\n",
    "    axs[1].scatter(time_lag_mod,ssh_obs,color='blue',s=15,edgecolor='none')\n",
    "    axs[1].grid()\n",
    "    #ax.set_xlim([4.5, 9.5])\n",
    "    #ax.set_ylim([-10, 6])\n",
    "    axs[1].set_xlabel('Time lag at ' + stn + ' [Minute]')\n",
    "    axs[1].set_ylabel('Point Atkinson Height[feet]')\n",
    "    return fig"
   ]
  },
  {
   "cell_type": "markdown",
   "metadata": {},
   "source": [
    "* New Westminster"
   ]
  },
  {
   "cell_type": "code",
   "execution_count": 24,
   "metadata": {
    "collapsed": true
   },
   "outputs": [],
   "source": [
    "## use another time counts[69,106]\n",
    "tma, tmi, ttma, ttmin = readoff_stn_highlow_waterlevel_new(t_end, t_orig, 69, 106,ssh_mod, tt)"
   ]
  },
  {
   "cell_type": "code",
   "execution_count": 25,
   "metadata": {
    "collapsed": true
   },
   "outputs": [],
   "source": [
    "##combine both max and min water level for NEW WESTMINSTER\n",
    "ssh_model = []\n",
    "ssh_model.append(tma)\n",
    "ssh_model.append(tmi)"
   ]
  },
  {
   "cell_type": "code",
   "execution_count": 26,
   "metadata": {
    "collapsed": false
   },
   "outputs": [
    {
     "data": {
      "text/plain": [
       "[9.4463899144976153,\n",
       " 9.9100092342832262,\n",
       " 9.845245697992679,\n",
       " 9.7306367997422303,\n",
       " 8.986762228600309,\n",
       " 8.439783818452689,\n",
       " 8.0343411154947244,\n",
       " 7.1584405939722933,\n",
       " 6.0345874802915871,\n",
       " 5.8501509624457579,\n",
       " 6.2796770255240242,\n",
       " 6.7612294137008551,\n",
       " 7.0614551543563682,\n",
       " 7.4423595363386656]"
      ]
     },
     "execution_count": 26,
     "metadata": {},
     "output_type": "execute_result"
    }
   ],
   "source": [
    "df = print_out_diff_wl(tma, tmi)\n",
    "df"
   ]
  },
  {
   "cell_type": "code",
   "execution_count": 27,
   "metadata": {
    "collapsed": false
   },
   "outputs": [
    {
     "name": "stdout",
     "output_type": "stream",
     "text": [
      "Max amplitude of model: 3.021\n",
      "Min amplitude of model: 1.783\n",
      "Mean amplitude of model: 2.416\n"
     ]
    }
   ],
   "source": [
    "## average, max and min of the tidal amplitude at NW\n",
    "ddf = np.array(df)\n",
    "mean_ddf_NW = np.mean(ddf)* 0.3048\n",
    "max_ddf_NW = np.max(ddf)* 0.3048\n",
    "min_ddf_NW = np.min(ddf)* 0.3048\n",
    "print ('Max amplitude of model: {0:.4}'.format(max_ddf_NW))\n",
    "print ('Min amplitude of model: {0:.4}'.format(min_ddf_NW))\n",
    "print ('Mean amplitude of model: {0:.4}'.format(mean_ddf_NW))"
   ]
  },
  {
   "cell_type": "code",
   "execution_count": 28,
   "metadata": {
    "collapsed": false
   },
   "outputs": [],
   "source": [
    "delta_max, delta_min = get_time_lag(ttmin, time_min, ttma, time_max)"
   ]
  },
  {
   "cell_type": "markdown",
   "metadata": {},
   "source": [
    "* For spring tidal range in the strait about 4.0m, 50min delay at New Westminster."
   ]
  },
  {
   "cell_type": "code",
   "execution_count": 29,
   "metadata": {
    "collapsed": false
   },
   "outputs": [
    {
     "data": {
      "text/plain": [
       "[30, 30, 30, 30, 30, 30, 30, 90, 30, 90, 90, 30, 90, 90]"
      ]
     },
     "execution_count": 29,
     "metadata": {},
     "output_type": "execute_result"
    }
   ],
   "source": [
    "delta_max"
   ]
  },
  {
   "cell_type": "markdown",
   "metadata": {},
   "source": [
    "* For neap tidal range in the strait about 2m, 100min delay at New Westminster."
   ]
  },
  {
   "cell_type": "code",
   "execution_count": 30,
   "metadata": {
    "collapsed": false
   },
   "outputs": [
    {
     "data": {
      "text/plain": [
       "[150, 90, 150, 90, 30, -1290, -1350, 30, 30, 90, 90, 150, 90, 90]"
      ]
     },
     "execution_count": 30,
     "metadata": {},
     "output_type": "execute_result"
    }
   ],
   "source": [
    "delta_min"
   ]
  },
  {
   "cell_type": "markdown",
   "metadata": {},
   "source": [
    "* My question: \n",
    "* 1 different datum based in literture and PA prediction in my case?\n",
    "* 2 ours are hourly result, not accurate enough to calculate minutes."
   ]
  },
  {
   "cell_type": "code",
   "execution_count": 31,
   "metadata": {
    "collapsed": true
   },
   "outputs": [],
   "source": [
    "##combine both time lag for high and low water level at NEW WESTMINSTER\n",
    "time_lag_mod = []\n",
    "time_lag_mod.append(delta_max)\n",
    "time_lag_mod.append(delta_min)"
   ]
  },
  {
   "cell_type": "code",
   "execution_count": 32,
   "metadata": {
    "collapsed": false
   },
   "outputs": [
    {
     "data": {
      "image/png": "[encoded data removed]",
      "text/plain": [
       "<matplotlib.figure.Figure at 0x7f97d612a160>"
      ]
     },
     "metadata": {},
     "output_type": "display_data"
    }
   ],
   "source": [
    "fig = plot_height_time_stn(ssh_model, ssh_obs, time_lag_mod, 'New Westminster')"
   ]
  },
  {
   "cell_type": "markdown",
   "metadata": {},
   "source": [
    "* Mission"
   ]
  },
  {
   "cell_type": "code",
   "execution_count": 33,
   "metadata": {
    "collapsed": false
   },
   "outputs": [],
   "source": [
    "## grid cell for Mission is [151, 108]\n",
    "mima, mimi, tmima, tmimi = readoff_stn_highlow_waterlevel_new(t_end, t_orig, 151, 108,ssh_mod, tt)"
   ]
  },
  {
   "cell_type": "code",
   "execution_count": 34,
   "metadata": {
    "collapsed": true
   },
   "outputs": [],
   "source": [
    "##combine both max and min water level for MISIION\n",
    "ssh_model = []\n",
    "ssh_model.append(mima)\n",
    "ssh_model.append(mimi)"
   ]
  },
  {
   "cell_type": "code",
   "execution_count": 35,
   "metadata": {
    "collapsed": false
   },
   "outputs": [
    {
     "data": {
      "text/plain": [
       "[9.2832458613738602,\n",
       " 9.8456569710193964,\n",
       " 9.5544258753458653,\n",
       " 9.4941541738319266,\n",
       " 9.4869994653726177,\n",
       " 8.7685446441906869,\n",
       " 7.8438128542712349,\n",
       " 7.0015472064180937,\n",
       " 5.898122868825757,\n",
       " 5.6103519176247865,\n",
       " 6.0589015092749605,\n",
       " 6.4418137347291458,\n",
       " 6.6365281075943168,\n",
       " 7.019025527840367]"
      ]
     },
     "execution_count": 35,
     "metadata": {},
     "output_type": "execute_result"
    }
   ],
   "source": [
    "df = print_out_diff_wl(mima, mimi)\n",
    "df"
   ]
  },
  {
   "cell_type": "code",
   "execution_count": 36,
   "metadata": {
    "collapsed": false
   },
   "outputs": [
    {
     "name": "stdout",
     "output_type": "stream",
     "text": [
      "Max amplitude of model: 3.001\n",
      "Min amplitude of model: 1.71\n",
      "Mean amplitude of model: 2.372\n"
     ]
    }
   ],
   "source": [
    "## average, max and min of the tidal amplitude at Mission\n",
    "ddf = np.array(df)\n",
    "mean_ddf_MI = np.mean(ddf)* 0.3048\n",
    "max_ddf_MI = np.max(ddf)* 0.3048\n",
    "min_ddf_MI = np.min(ddf)* 0.3048\n",
    "print ('Max amplitude of model: {0:.4}'.format(max_ddf_MI))\n",
    "print ('Min amplitude of model: {0:.4}'.format(min_ddf_MI))\n",
    "print ('Mean amplitude of model: {0:.4}'.format(mean_ddf_MI))"
   ]
  },
  {
   "cell_type": "code",
   "execution_count": 37,
   "metadata": {
    "collapsed": true
   },
   "outputs": [],
   "source": [
    "delta_max, delta_min = get_time_lag(tmimi, time_min, tmima, time_max)"
   ]
  },
  {
   "cell_type": "markdown",
   "metadata": {},
   "source": [
    "* 190min delay for high water in the Ages model at Mission"
   ]
  },
  {
   "cell_type": "code",
   "execution_count": 38,
   "metadata": {
    "collapsed": false
   },
   "outputs": [
    {
     "data": {
      "text/plain": [
       "[30, 30, 90, 30, 30, 90, 30, 90, 90, 150, 90, 90, 150, 90]"
      ]
     },
     "execution_count": 38,
     "metadata": {},
     "output_type": "execute_result"
    }
   ],
   "source": [
    "delta_max"
   ]
  },
  {
   "cell_type": "markdown",
   "metadata": {},
   "source": [
    "* 370min delay for low water in the Ages model at Mission"
   ]
  },
  {
   "cell_type": "code",
   "execution_count": 39,
   "metadata": {
    "collapsed": false
   },
   "outputs": [
    {
     "data": {
      "text/plain": [
       "[210, 150, 150, -1230, -1290, -1290, -1290, 90, 90, 150, 150, 210, 210, 150]"
      ]
     },
     "execution_count": 39,
     "metadata": {},
     "output_type": "execute_result"
    }
   ],
   "source": [
    "delta_min"
   ]
  },
  {
   "cell_type": "code",
   "execution_count": 40,
   "metadata": {
    "collapsed": true
   },
   "outputs": [],
   "source": [
    "##combine both time lag for high and low water level at Mission\n",
    "time_lag_mod = []\n",
    "time_lag_mod.append(delta_max)\n",
    "time_lag_mod.append(delta_min)"
   ]
  },
  {
   "cell_type": "code",
   "execution_count": 41,
   "metadata": {
    "collapsed": false
   },
   "outputs": [
    {
     "data": {
      "image/png": "[encoded data removed]",
      "text/plain": [
       "<matplotlib.figure.Figure at 0x7f97d59c7d68>"
      ]
     },
     "metadata": {},
     "output_type": "display_data"
    }
   ],
   "source": [
    "fig = plot_height_time_stn(ssh_model, ssh_obs, time_lag_mod, 'Mission')"
   ]
  },
  {
   "cell_type": "markdown",
   "metadata": {},
   "source": [
    "* Tide nearly no dissipation"
   ]
  },
  {
   "cell_type": "markdown",
   "metadata": {},
   "source": [
    "* Deas Island channel"
   ]
  },
  {
   "cell_type": "code",
   "execution_count": 42,
   "metadata": {
    "collapsed": true
   },
   "outputs": [],
   "source": [
    "## grid cell for Deas Island is [65,69]\n",
    "mima, mimi, tmima, tmimi = readoff_stn_highlow_waterlevel_new(t_end, t_orig, 65, 69,ssh_mod, tt)"
   ]
  },
  {
   "cell_type": "code",
   "execution_count": 43,
   "metadata": {
    "collapsed": true
   },
   "outputs": [],
   "source": [
    "##combine both max and min water level for DEAS ISLAND\n",
    "ssh_model = []\n",
    "ssh_model.append(mima)\n",
    "ssh_model.append(mimi)"
   ]
  },
  {
   "cell_type": "code",
   "execution_count": 44,
   "metadata": {
    "collapsed": false
   },
   "outputs": [
    {
     "data": {
      "text/plain": [
       "[11.199445236386275,\n",
       " 11.647417554705161,\n",
       " 11.505492794232104,\n",
       " 11.205801500735944,\n",
       " 10.419019798594196,\n",
       " 9.5487943315130508,\n",
       " 8.0652077366986603,\n",
       " 7.5534956035964438,\n",
       " 6.6894846247250008,\n",
       " 6.8373806051069046,\n",
       " 7.499603461718622,\n",
       " 8.1833629939812678,\n",
       " 8.880841763313672,\n",
       " 9.3361485035713585]"
      ]
     },
     "execution_count": 44,
     "metadata": {},
     "output_type": "execute_result"
    }
   ],
   "source": [
    "df = print_out_diff_wl(mima, mimi)\n",
    "df"
   ]
  },
  {
   "cell_type": "code",
   "execution_count": 45,
   "metadata": {
    "collapsed": false
   },
   "outputs": [
    {
     "name": "stdout",
     "output_type": "stream",
     "text": [
      "Max amplitude of model: 3.55\n",
      "Min amplitude of model: 2.039\n",
      "Mean amplitude of model: 2.799\n"
     ]
    }
   ],
   "source": [
    "## average, max and min of the tidal amplitude at Deas Island channel for model\n",
    "ddf = np.array(df)\n",
    "mean_ddf_DI = np.mean(ddf)* 0.3048\n",
    "max_ddf_DI = np.max(ddf)* 0.3048\n",
    "min_ddf_DI = np.min(ddf)* 0.3048\n",
    "print ('Max amplitude of model: {0:.4}'.format(max_ddf_DI))\n",
    "print ('Min amplitude of model: {0:.4}'.format(min_ddf_DI))\n",
    "print ('Mean amplitude of model: {0:.4}'.format(mean_ddf_DI))"
   ]
  },
  {
   "cell_type": "code",
   "execution_count": 46,
   "metadata": {
    "collapsed": true
   },
   "outputs": [],
   "source": [
    "delta_max, delta_min = get_time_lag(tmimi, time_min, tmima, time_max)"
   ]
  },
  {
   "cell_type": "markdown",
   "metadata": {},
   "source": [
    "* 10min delay at Deas Island for spring tide with tidal range of 5m at PA."
   ]
  },
  {
   "cell_type": "code",
   "execution_count": 47,
   "metadata": {
    "collapsed": false
   },
   "outputs": [
    {
     "data": {
      "text/plain": [
       "[30, -30, 30, 30, -30, 30, 30, 30, 30, 30, 30, -30, 30, 30]"
      ]
     },
     "execution_count": 47,
     "metadata": {},
     "output_type": "execute_result"
    }
   ],
   "source": [
    "delta_max"
   ]
  },
  {
   "cell_type": "markdown",
   "metadata": {},
   "source": [
    "* 70min delay at Deas Island for neap tides with tidal range of 0.5m at PA."
   ]
  },
  {
   "cell_type": "code",
   "execution_count": 48,
   "metadata": {
    "collapsed": false
   },
   "outputs": [
    {
     "data": {
      "text/plain": [
       "[30, 30, 90, 30, 30, 30, -30, 30, 30, 30, 30, 30, 30, 30]"
      ]
     },
     "execution_count": 48,
     "metadata": {},
     "output_type": "execute_result"
    }
   ],
   "source": [
    "delta_min"
   ]
  },
  {
   "cell_type": "code",
   "execution_count": 49,
   "metadata": {
    "collapsed": true
   },
   "outputs": [],
   "source": [
    "##combine both time lag for high and low water level at Deas Island\n",
    "time_lag_mod = []\n",
    "time_lag_mod.append(delta_max)\n",
    "time_lag_mod.append(delta_min)"
   ]
  },
  {
   "cell_type": "code",
   "execution_count": 50,
   "metadata": {
    "collapsed": false
   },
   "outputs": [
    {
     "data": {
      "image/png": "[encoded data removed]",
      "text/plain": [
       "<matplotlib.figure.Figure at 0x7f97d5192c50>"
      ]
     },
     "metadata": {},
     "output_type": "display_data"
    }
   ],
   "source": [
    "fig = plot_height_time_stn(ssh_model, ssh_obs, time_lag_mod, 'Deas Island')"
   ]
  },
  {
   "cell_type": "markdown",
   "metadata": {},
   "source": [
    "* Steveston"
   ]
  },
  {
   "cell_type": "code",
   "execution_count": 51,
   "metadata": {
    "collapsed": true
   },
   "outputs": [],
   "source": [
    "## grid cell for Steveston Jetty is [75, 53]\n",
    "mima, mimi, tmima, tmimi = readoff_stn_highlow_waterlevel_new(t_end, t_orig, 75, 53,ssh_mod, tt)"
   ]
  },
  {
   "cell_type": "code",
   "execution_count": 52,
   "metadata": {
    "collapsed": true
   },
   "outputs": [],
   "source": [
    "##combine both max and min water level for Steveston Jetty\n",
    "ssh_model = []\n",
    "ssh_model.append(mima)\n",
    "ssh_model.append(mimi)"
   ]
  },
  {
   "cell_type": "code",
   "execution_count": 53,
   "metadata": {
    "collapsed": false
   },
   "outputs": [
    {
     "data": {
      "text/plain": [
       "[11.77422213429228,\n",
       " 12.179261117469606,\n",
       " 12.045962212905483,\n",
       " 11.42875728957609,\n",
       " 10.896161237726687,\n",
       " 9.7002421464194146,\n",
       " 8.4157151187185839,\n",
       " 7.3909655878237217,\n",
       " 6.6535212001775506,\n",
       " 7.1049598962303211,\n",
       " 7.8241030375162754,\n",
       " 8.6714260847236844,\n",
       " 9.2954292228528512,\n",
       " 9.9426531416224684]"
      ]
     },
     "execution_count": 53,
     "metadata": {},
     "output_type": "execute_result"
    }
   ],
   "source": [
    "df = print_out_diff_wl(mima, mimi)\n",
    "df"
   ]
  },
  {
   "cell_type": "code",
   "execution_count": 54,
   "metadata": {
    "collapsed": false
   },
   "outputs": [
    {
     "name": "stdout",
     "output_type": "stream",
     "text": [
      "Max amplitude of model: 3.712\n",
      "Min amplitude of model: 2.028\n",
      "Mean amplitude of model: 2.903\n"
     ]
    }
   ],
   "source": [
    "## average, max and min of the tidal amplitude at Steveston for model\n",
    "ddf = np.array(df)\n",
    "mean_ddf_ST = np.mean(ddf)* 0.3048\n",
    "max_ddf_ST = np.max(ddf)* 0.3048\n",
    "min_ddf_ST = np.min(ddf)* 0.3048\n",
    "print ('Max amplitude of model: {0:.4}'.format(max_ddf_ST))\n",
    "print ('Min amplitude of model: {0:.4}'.format(min_ddf_ST))\n",
    "print ('Mean amplitude of model: {0:.4}'.format(mean_ddf_ST))"
   ]
  },
  {
   "cell_type": "code",
   "execution_count": 55,
   "metadata": {
    "collapsed": true
   },
   "outputs": [],
   "source": [
    "delta_max, delta_min = get_time_lag(tmimi, time_min, tmima, time_max)"
   ]
  },
  {
   "cell_type": "markdown",
   "metadata": {},
   "source": [
    "* 5min delay at Steveston for spring tide with tidal range of 5m at PA."
   ]
  },
  {
   "cell_type": "code",
   "execution_count": 56,
   "metadata": {
    "collapsed": false
   },
   "outputs": [
    {
     "data": {
      "text/plain": [
       "[-30, -30, 30, -30, -30, 30, -30, 30, -30, 30, 30, -30, 30, -30]"
      ]
     },
     "execution_count": 56,
     "metadata": {},
     "output_type": "execute_result"
    }
   ],
   "source": [
    "delta_max"
   ]
  },
  {
   "cell_type": "markdown",
   "metadata": {},
   "source": [
    "* 25min delay at Steveston for spring tide with tidal range of 5m at PA."
   ]
  },
  {
   "cell_type": "code",
   "execution_count": 57,
   "metadata": {
    "collapsed": false
   },
   "outputs": [
    {
     "data": {
      "text/plain": [
       "[30, -30, 30, 30, -30, 30, -30, 30, 30, 30, -30, 30, 30, -30]"
      ]
     },
     "execution_count": 57,
     "metadata": {},
     "output_type": "execute_result"
    }
   ],
   "source": [
    "delta_min"
   ]
  },
  {
   "cell_type": "code",
   "execution_count": 58,
   "metadata": {
    "collapsed": true
   },
   "outputs": [],
   "source": [
    "##combine both time lag for high and low water level at Steveston Jetty\n",
    "time_lag_mod = []\n",
    "time_lag_mod.append(delta_max)\n",
    "time_lag_mod.append(delta_min)"
   ]
  },
  {
   "cell_type": "code",
   "execution_count": 59,
   "metadata": {
    "collapsed": false
   },
   "outputs": [
    {
     "data": {
      "image/png": "[encoded data removed]",
      "text/plain": [
       "<matplotlib.figure.Figure at 0x7f97d4e5b198>"
      ]
     },
     "metadata": {},
     "output_type": "display_data"
    }
   ],
   "source": [
    "fig = plot_height_time_stn(ssh_model, ssh_obs, time_lag_mod, 'Steveston')"
   ]
  },
  {
   "cell_type": "markdown",
   "metadata": {},
   "source": [
    "* Looks good at Steveston\n",
    "* In this case, overdo the tide in the river, which seldom dissipate in the channel. Too high water level at Mission!"
   ]
  },
  {
   "cell_type": "markdown",
   "metadata": {},
   "source": [
    "* Edge of new river channel model domain"
   ]
  },
  {
   "cell_type": "code",
   "execution_count": 60,
   "metadata": {
    "collapsed": true
   },
   "outputs": [],
   "source": [
    "## grid cell for edge of new river treatment is [151, 136]\n",
    "mima, mimi, tmima, tmimi = readoff_stn_highlow_waterlevel_new(t_end, t_orig, 151, 136,ssh_mod, tt)"
   ]
  },
  {
   "cell_type": "code",
   "execution_count": 61,
   "metadata": {
    "collapsed": true
   },
   "outputs": [],
   "source": [
    "##combine both max and min water level for edge of model domain\n",
    "ssh_model = []\n",
    "ssh_model.append(mima)\n",
    "ssh_model.append(mimi)"
   ]
  },
  {
   "cell_type": "code",
   "execution_count": 62,
   "metadata": {
    "collapsed": false
   },
   "outputs": [
    {
     "data": {
      "text/plain": [
       "[8.873280401774279,\n",
       " 9.3845045805133864,\n",
       " 9.1190487537484142,\n",
       " 9.2578797144057567,\n",
       " 9.1423648666209125,\n",
       " 8.4186919287746669,\n",
       " 7.5191657335113664,\n",
       " 6.7001649635670386,\n",
       " 5.6596937298461842,\n",
       " 5.4042268143551233,\n",
       " 5.7599249630775358,\n",
       " 6.1552239254390777,\n",
       " 6.3860360679664003,\n",
       " 6.6348534869396776]"
      ]
     },
     "execution_count": 62,
     "metadata": {},
     "output_type": "execute_result"
    }
   ],
   "source": [
    "df = print_out_diff_wl(mima, mimi)\n",
    "df"
   ]
  },
  {
   "cell_type": "code",
   "execution_count": 63,
   "metadata": {
    "collapsed": false
   },
   "outputs": [
    {
     "name": "stdout",
     "output_type": "stream",
     "text": [
      "Max amplitude of model: 2.86\n",
      "Min amplitude of model: 1.647\n",
      "Mean amplitude of model: 2.273\n"
     ]
    }
   ],
   "source": [
    "## average, max and min of the tidal amplitude at edge of model domain \n",
    "ddf = np.array(df)\n",
    "mean_ddf_ST = np.mean(ddf)* 0.3048\n",
    "max_ddf_ST = np.max(ddf)* 0.3048\n",
    "min_ddf_ST = np.min(ddf)* 0.3048\n",
    "print ('Max amplitude of model: {0:.4}'.format(max_ddf_ST))\n",
    "print ('Min amplitude of model: {0:.4}'.format(min_ddf_ST))\n",
    "print ('Mean amplitude of model: {0:.4}'.format(mean_ddf_ST))"
   ]
  },
  {
   "cell_type": "code",
   "execution_count": 64,
   "metadata": {
    "collapsed": true
   },
   "outputs": [],
   "source": [
    "delta_max, delta_min = get_time_lag(tmimi, time_min, tmima, time_max)"
   ]
  },
  {
   "cell_type": "code",
   "execution_count": 65,
   "metadata": {
    "collapsed": false
   },
   "outputs": [
    {
     "data": {
      "text/plain": [
       "[30, 30, 90, 90, 30, 90, 30, 90, 90, 150, 90, 90, 150, 90]"
      ]
     },
     "execution_count": 65,
     "metadata": {},
     "output_type": "execute_result"
    }
   ],
   "source": [
    "delta_max"
   ]
  },
  {
   "cell_type": "code",
   "execution_count": 66,
   "metadata": {
    "collapsed": false
   },
   "outputs": [
    {
     "data": {
      "text/plain": [
       "[210, 150, 150, -1230, -1290, -1290, -1290, 90, 150, 210, 150, 210, 210, 150]"
      ]
     },
     "execution_count": 66,
     "metadata": {},
     "output_type": "execute_result"
    }
   ],
   "source": [
    "delta_min"
   ]
  },
  {
   "cell_type": "code",
   "execution_count": 67,
   "metadata": {
    "collapsed": true
   },
   "outputs": [],
   "source": [
    "##combine both time lag for high and low water level at Steveston Jetty\n",
    "time_lag_mod = []\n",
    "time_lag_mod.append(delta_max)\n",
    "time_lag_mod.append(delta_min)"
   ]
  },
  {
   "cell_type": "code",
   "execution_count": 68,
   "metadata": {
    "collapsed": false
   },
   "outputs": [
    {
     "data": {
      "image/png": "[encoded data removed]",
      "text/plain": [
       "<matplotlib.figure.Figure at 0x7f97d4e6b5c0>"
      ]
     },
     "metadata": {},
     "output_type": "display_data"
    }
   ],
   "source": [
    "fig = plot_height_time_stn(ssh_model, ssh_obs, time_lag_mod, 'Edge of domain')"
   ]
  },
  {
   "cell_type": "markdown",
   "metadata": {},
   "source": [
    "# New results in the Fraser River stations(with smoothed bathymetry6)"
   ]
  },
  {
   "cell_type": "code",
   "execution_count": 70,
   "metadata": {
    "collapsed": true
   },
   "outputs": [],
   "source": [
    "grid_T = nc.Dataset('/data/jieliu/MEOPAR/river-treatment/14nor_NWSmoo/1hplumeT06160629smoo.nc')"
   ]
  },
  {
   "cell_type": "code",
   "execution_count": 72,
   "metadata": {
    "collapsed": false
   },
   "outputs": [],
   "source": [
    "t_orig, t_end, t_nemo = get_model_time_variables(grid_T)"
   ]
  },
  {
   "cell_type": "code",
   "execution_count": 73,
   "metadata": {
    "collapsed": true
   },
   "outputs": [],
   "source": [
    "ssh_zoom, time_zoom, t_orig, t_end = zoomin_period_tide(grid_T,'Point Atkinson', 0, MSL = 0)"
   ]
  },
  {
   "cell_type": "code",
   "execution_count": 74,
   "metadata": {
    "collapsed": true
   },
   "outputs": [],
   "source": [
    "ssh_max,ssh_min,time_max,time_min=find_highlow_tide(grid_T, ssh_zoom,time_zoom, t_end, t_orig, 0)"
   ]
  },
  {
   "cell_type": "code",
   "execution_count": 75,
   "metadata": {
    "collapsed": false
   },
   "outputs": [
    {
     "data": {
      "text/plain": [
       "[3.944944,\n",
       " 3.9744409999999997,\n",
       " 3.8581020000000001,\n",
       " 3.7223330000000003,\n",
       " 3.4125260000000002,\n",
       " 3.0934720000000002,\n",
       " 2.7087030000000003,\n",
       " 2.509903,\n",
       " 2.201384,\n",
       " 2.2007780000000001,\n",
       " 2.3974890000000002,\n",
       " 2.6195279999999999,\n",
       " 2.8796240000000002,\n",
       " 3.1192619999999995]"
      ]
     },
     "execution_count": 75,
     "metadata": {},
     "output_type": "execute_result"
    }
   ],
   "source": [
    "diff = print_out_diff_PA(ssh_max,ssh_min, meter =1)\n",
    "diff ## tidal range at PA in  meters!!! June 24 has the smallest tidal range that I regard it as neap tide"
   ]
  },
  {
   "cell_type": "code",
   "execution_count": 76,
   "metadata": {
    "collapsed": true
   },
   "outputs": [],
   "source": [
    "##combine both max and min tidal anomaly for Point Atkinson\n",
    "ssh_obs = []\n",
    "ssh_obs.append(ssh_max)\n",
    "ssh_obs.append(ssh_min)"
   ]
  },
  {
   "cell_type": "code",
   "execution_count": 77,
   "metadata": {
    "collapsed": true
   },
   "outputs": [],
   "source": [
    "ssh_mod = grid_T.variables['sossheig']\n",
    "time_mod = grid_T.variables['time_counter'][:]"
   ]
  },
  {
   "cell_type": "code",
   "execution_count": 78,
   "metadata": {
    "collapsed": true
   },
   "outputs": [],
   "source": [
    "t = nc_tools.timestamp(grid_T, np.arange(time_mod.shape[0]))\n",
    "for ind in range(len(t)):\n",
    "    t[ind] = t[ind].datetime\n",
    "tt = np.array(t) ## convert time_counter into datetime"
   ]
  },
  {
   "cell_type": "markdown",
   "metadata": {},
   "source": [
    "* New Westminster"
   ]
  },
  {
   "cell_type": "code",
   "execution_count": 79,
   "metadata": {
    "collapsed": true
   },
   "outputs": [],
   "source": [
    "## use another time counts[69,106]\n",
    "tma, tmi, ttma, ttmin = readoff_stn_highlow_waterlevel_new(t_end, t_orig, 69, 106,ssh_mod, tt)"
   ]
  },
  {
   "cell_type": "code",
   "execution_count": 80,
   "metadata": {
    "collapsed": true
   },
   "outputs": [],
   "source": [
    "##combine both max and min water level for NEW WESTMINSTER\n",
    "ssh_model = []\n",
    "ssh_model.append(tma)\n",
    "ssh_model.append(tmi)"
   ]
  },
  {
   "cell_type": "code",
   "execution_count": 81,
   "metadata": {
    "collapsed": false
   },
   "outputs": [
    {
     "data": {
      "text/plain": [
       "[9.4463899144976153,\n",
       " 9.9100092342832262,\n",
       " 9.845245697992679,\n",
       " 9.7306367997422303,\n",
       " 8.986762228600309,\n",
       " 8.439783818452689,\n",
       " 8.0343411154947244,\n",
       " 7.1584405939722933,\n",
       " 6.0345874802915871,\n",
       " 5.8501509624457579,\n",
       " 6.2796770255240242,\n",
       " 6.7612294137008551,\n",
       " 7.0614551543563682,\n",
       " 7.4423595363386656]"
      ]
     },
     "execution_count": 81,
     "metadata": {},
     "output_type": "execute_result"
    }
   ],
   "source": [
    "df = print_out_diff_wl(tma, tmi)\n",
    "df"
   ]
  },
  {
   "cell_type": "code",
   "execution_count": 82,
   "metadata": {
    "collapsed": false
   },
   "outputs": [
    {
     "name": "stdout",
     "output_type": "stream",
     "text": [
      "Max amplitude of model: 3.021\n",
      "Min amplitude of model: 1.783\n",
      "Mean amplitude of model: 2.416\n"
     ]
    }
   ],
   "source": [
    "## average, max and min of the tidal amplitude at NW\n",
    "ddf = np.array(df)\n",
    "mean_ddf_NW = np.mean(ddf)* 0.3048\n",
    "max_ddf_NW = np.max(ddf)* 0.3048\n",
    "min_ddf_NW = np.min(ddf)* 0.3048\n",
    "print ('Max amplitude of model: {0:.4}'.format(max_ddf_NW))\n",
    "print ('Min amplitude of model: {0:.4}'.format(min_ddf_NW))\n",
    "print ('Mean amplitude of model: {0:.4}'.format(mean_ddf_NW))"
   ]
  },
  {
   "cell_type": "code",
   "execution_count": 83,
   "metadata": {
    "collapsed": true
   },
   "outputs": [],
   "source": [
    "delta_max, delta_min = get_time_lag(ttmin, time_min, ttma, time_max)"
   ]
  },
  {
   "cell_type": "code",
   "execution_count": 84,
   "metadata": {
    "collapsed": false
   },
   "outputs": [
    {
     "data": {
      "text/plain": [
       "[30, 30, 30, 30, 30, 30, 30, 90, 30, 90, 90, 30, 90, 90]"
      ]
     },
     "execution_count": 84,
     "metadata": {},
     "output_type": "execute_result"
    }
   ],
   "source": [
    "delta_max"
   ]
  },
  {
   "cell_type": "code",
   "execution_count": 85,
   "metadata": {
    "collapsed": false
   },
   "outputs": [
    {
     "data": {
      "text/plain": [
       "[150, 90, 150, 90, 30, -1290, -1350, 30, 30, 90, 90, 150, 90, 90]"
      ]
     },
     "execution_count": 85,
     "metadata": {},
     "output_type": "execute_result"
    }
   ],
   "source": [
    "delta_min"
   ]
  },
  {
   "cell_type": "markdown",
   "metadata": {},
   "source": [
    "* Mission"
   ]
  },
  {
   "cell_type": "code",
   "execution_count": 86,
   "metadata": {
    "collapsed": true
   },
   "outputs": [],
   "source": [
    "## grid cell for Mission is [151, 108]\n",
    "mima, mimi, tmima, tmimi = readoff_stn_highlow_waterlevel_new(t_end, t_orig, 151, 108,ssh_mod, tt)"
   ]
  },
  {
   "cell_type": "code",
   "execution_count": 87,
   "metadata": {
    "collapsed": true
   },
   "outputs": [],
   "source": [
    "##combine both max and min water level for MISIION\n",
    "ssh_model = []\n",
    "ssh_model.append(mima)\n",
    "ssh_model.append(mimi)"
   ]
  },
  {
   "cell_type": "code",
   "execution_count": 88,
   "metadata": {
    "collapsed": false
   },
   "outputs": [
    {
     "data": {
      "text/plain": [
       "[9.2832458613738602,\n",
       " 9.8456569710193964,\n",
       " 9.5544258753458653,\n",
       " 9.4941541738319266,\n",
       " 9.4869994653726177,\n",
       " 8.7685446441906869,\n",
       " 7.8438128542712349,\n",
       " 7.0015472064180937,\n",
       " 5.898122868825757,\n",
       " 5.6103519176247865,\n",
       " 6.0589015092749605,\n",
       " 6.4418137347291458,\n",
       " 6.6365281075943168,\n",
       " 7.019025527840367]"
      ]
     },
     "execution_count": 88,
     "metadata": {},
     "output_type": "execute_result"
    }
   ],
   "source": [
    "df = print_out_diff_wl(mima, mimi)\n",
    "df"
   ]
  },
  {
   "cell_type": "code",
   "execution_count": 89,
   "metadata": {
    "collapsed": false
   },
   "outputs": [
    {
     "name": "stdout",
     "output_type": "stream",
     "text": [
      "Max amplitude of model: 3.001\n",
      "Min amplitude of model: 1.71\n",
      "Mean amplitude of model: 2.372\n"
     ]
    }
   ],
   "source": [
    "## average, max and min of the tidal amplitude at Mission\n",
    "ddf = np.array(df)\n",
    "mean_ddf_MI = np.mean(ddf)* 0.3048\n",
    "max_ddf_MI = np.max(ddf)* 0.3048\n",
    "min_ddf_MI = np.min(ddf)* 0.3048\n",
    "print ('Max amplitude of model: {0:.4}'.format(max_ddf_MI))\n",
    "print ('Min amplitude of model: {0:.4}'.format(min_ddf_MI))\n",
    "print ('Mean amplitude of model: {0:.4}'.format(mean_ddf_MI))"
   ]
  },
  {
   "cell_type": "code",
   "execution_count": 90,
   "metadata": {
    "collapsed": true
   },
   "outputs": [],
   "source": [
    "delta_max, delta_min = get_time_lag(tmimi, time_min, tmima, time_max)"
   ]
  },
  {
   "cell_type": "code",
   "execution_count": 91,
   "metadata": {
    "collapsed": false
   },
   "outputs": [
    {
     "data": {
      "text/plain": [
       "[30, 30, 90, 30, 30, 90, 30, 90, 90, 150, 90, 90, 150, 90]"
      ]
     },
     "execution_count": 91,
     "metadata": {},
     "output_type": "execute_result"
    }
   ],
   "source": [
    "delta_max"
   ]
  },
  {
   "cell_type": "code",
   "execution_count": 92,
   "metadata": {
    "collapsed": false
   },
   "outputs": [
    {
     "data": {
      "text/plain": [
       "[210, 150, 150, -1230, -1290, -1290, -1290, 90, 90, 150, 150, 210, 210, 150]"
      ]
     },
     "execution_count": 92,
     "metadata": {},
     "output_type": "execute_result"
    }
   ],
   "source": [
    "delta_min"
   ]
  },
  {
   "cell_type": "markdown",
   "metadata": {},
   "source": [
    "* Deas Island"
   ]
  },
  {
   "cell_type": "code",
   "execution_count": 93,
   "metadata": {
    "collapsed": true
   },
   "outputs": [],
   "source": [
    "## grid cell for Deas Island is [65,69]\n",
    "mima, mimi, tmima, tmimi = readoff_stn_highlow_waterlevel_new(t_end, t_orig, 65, 69,ssh_mod, tt)"
   ]
  },
  {
   "cell_type": "code",
   "execution_count": 94,
   "metadata": {
    "collapsed": true
   },
   "outputs": [],
   "source": [
    "##combine both max and min water level for Deas ISALND\n",
    "ssh_model = []\n",
    "ssh_model.append(mima)\n",
    "ssh_model.append(mimi)"
   ]
  },
  {
   "cell_type": "code",
   "execution_count": 95,
   "metadata": {
    "collapsed": false
   },
   "outputs": [
    {
     "data": {
      "text/plain": [
       "[11.199445236386275,\n",
       " 11.647417554705161,\n",
       " 11.505492794232104,\n",
       " 11.205801500735944,\n",
       " 10.419019798594196,\n",
       " 9.5487943315130508,\n",
       " 8.0652077366986603,\n",
       " 7.5534956035964438,\n",
       " 6.6894846247250008,\n",
       " 6.8373806051069046,\n",
       " 7.499603461718622,\n",
       " 8.1833629939812678,\n",
       " 8.880841763313672,\n",
       " 9.3361485035713585]"
      ]
     },
     "execution_count": 95,
     "metadata": {},
     "output_type": "execute_result"
    }
   ],
   "source": [
    "df = print_out_diff_wl(mima, mimi)\n",
    "df"
   ]
  },
  {
   "cell_type": "code",
   "execution_count": 96,
   "metadata": {
    "collapsed": false
   },
   "outputs": [
    {
     "name": "stdout",
     "output_type": "stream",
     "text": [
      "Max amplitude of model: 3.55\n",
      "Min amplitude of model: 2.039\n",
      "Mean amplitude of model: 2.799\n"
     ]
    }
   ],
   "source": [
    "## average, max and min of the tidal amplitude at Deas Island channel for model\n",
    "ddf = np.array(df)\n",
    "mean_ddf_DI = np.mean(ddf)* 0.3048\n",
    "max_ddf_DI = np.max(ddf)* 0.3048\n",
    "min_ddf_DI = np.min(ddf)* 0.3048\n",
    "print ('Max amplitude of model: {0:.4}'.format(max_ddf_DI))\n",
    "print ('Min amplitude of model: {0:.4}'.format(min_ddf_DI))\n",
    "print ('Mean amplitude of model: {0:.4}'.format(mean_ddf_DI))"
   ]
  },
  {
   "cell_type": "code",
   "execution_count": 97,
   "metadata": {
    "collapsed": true
   },
   "outputs": [],
   "source": [
    "delta_max, delta_min = get_time_lag(tmimi, time_min, tmima, time_max)"
   ]
  },
  {
   "cell_type": "code",
   "execution_count": 98,
   "metadata": {
    "collapsed": false
   },
   "outputs": [
    {
     "data": {
      "text/plain": [
       "[30, -30, 30, 30, -30, 30, 30, 30, 30, 30, 30, -30, 30, 30]"
      ]
     },
     "execution_count": 98,
     "metadata": {},
     "output_type": "execute_result"
    }
   ],
   "source": [
    "delta_max"
   ]
  },
  {
   "cell_type": "code",
   "execution_count": 99,
   "metadata": {
    "collapsed": false
   },
   "outputs": [
    {
     "data": {
      "text/plain": [
       "[30, 30, 90, 30, 30, 30, -30, 30, 30, 30, 30, 30, 30, 30]"
      ]
     },
     "execution_count": 99,
     "metadata": {},
     "output_type": "execute_result"
    }
   ],
   "source": [
    "delta_min"
   ]
  },
  {
   "cell_type": "markdown",
   "metadata": {},
   "source": [
    "* Steveston "
   ]
  },
  {
   "cell_type": "code",
   "execution_count": 100,
   "metadata": {
    "collapsed": true
   },
   "outputs": [],
   "source": [
    "## grid cell for Steveston Jetty is [75, 53]\n",
    "mima, mimi, tmima, tmimi = readoff_stn_highlow_waterlevel_new(t_end, t_orig, 75, 53,ssh_mod, tt)"
   ]
  },
  {
   "cell_type": "code",
   "execution_count": 101,
   "metadata": {
    "collapsed": true
   },
   "outputs": [],
   "source": [
    "##combine both max and min water level for Steveston Jetty\n",
    "ssh_model = []\n",
    "ssh_model.append(mima)\n",
    "ssh_model.append(mimi)"
   ]
  },
  {
   "cell_type": "code",
   "execution_count": 102,
   "metadata": {
    "collapsed": false
   },
   "outputs": [
    {
     "data": {
      "text/plain": [
       "[11.77422213429228,\n",
       " 12.179261117469606,\n",
       " 12.045962212905483,\n",
       " 11.42875728957609,\n",
       " 10.896161237726687,\n",
       " 9.7002421464194146,\n",
       " 8.4157151187185839,\n",
       " 7.3909655878237217,\n",
       " 6.6535212001775506,\n",
       " 7.1049598962303211,\n",
       " 7.8241030375162754,\n",
       " 8.6714260847236844,\n",
       " 9.2954292228528512,\n",
       " 9.9426531416224684]"
      ]
     },
     "execution_count": 102,
     "metadata": {},
     "output_type": "execute_result"
    }
   ],
   "source": [
    "df = print_out_diff_wl(mima, mimi)\n",
    "df"
   ]
  },
  {
   "cell_type": "code",
   "execution_count": 103,
   "metadata": {
    "collapsed": false
   },
   "outputs": [
    {
     "name": "stdout",
     "output_type": "stream",
     "text": [
      "Max amplitude of model: 3.712\n",
      "Min amplitude of model: 2.028\n",
      "Mean amplitude of model: 2.903\n"
     ]
    }
   ],
   "source": [
    "## average, max and min of the tidal amplitude at Steveston for model\n",
    "ddf = np.array(df)\n",
    "mean_ddf_ST = np.mean(ddf)* 0.3048\n",
    "max_ddf_ST = np.max(ddf)* 0.3048\n",
    "min_ddf_ST = np.min(ddf)* 0.3048\n",
    "print ('Max amplitude of model: {0:.4}'.format(max_ddf_ST))\n",
    "print ('Min amplitude of model: {0:.4}'.format(min_ddf_ST))\n",
    "print ('Mean amplitude of model: {0:.4}'.format(mean_ddf_ST))"
   ]
  },
  {
   "cell_type": "code",
   "execution_count": 104,
   "metadata": {
    "collapsed": true
   },
   "outputs": [],
   "source": [
    "delta_max, delta_min = get_time_lag(tmimi, time_min, tmima, time_max)"
   ]
  },
  {
   "cell_type": "code",
   "execution_count": 105,
   "metadata": {
    "collapsed": false
   },
   "outputs": [
    {
     "data": {
      "text/plain": [
       "[-30, -30, 30, -30, -30, 30, -30, 30, -30, 30, 30, -30, 30, -30]"
      ]
     },
     "execution_count": 105,
     "metadata": {},
     "output_type": "execute_result"
    }
   ],
   "source": [
    "delta_max"
   ]
  },
  {
   "cell_type": "code",
   "execution_count": 106,
   "metadata": {
    "collapsed": false
   },
   "outputs": [
    {
     "data": {
      "text/plain": [
       "[30, -30, 30, 30, -30, 30, -30, 30, 30, 30, -30, 30, 30, -30]"
      ]
     },
     "execution_count": 106,
     "metadata": {},
     "output_type": "execute_result"
    }
   ],
   "source": [
    "delta_min"
   ]
  },
  {
   "cell_type": "markdown",
   "metadata": {},
   "source": [
    "* Compared tidal heights and time lag results of smoothed bathymetry6 with original bathymetry6, there is very little difference, which could be considered as the same. Therefore, almost no difference was caused by smoothed/unsmoothed bathymetry6. "
   ]
  },
  {
   "cell_type": "markdown",
   "metadata": {
    "collapsed": true
   },
   "source": [
    "# For nowcast results"
   ]
  },
  {
   "cell_type": "markdown",
   "metadata": {},
   "source": [
    "* Deas Island"
   ]
  },
  {
   "cell_type": "code",
   "execution_count": 31,
   "metadata": {
    "collapsed": true
   },
   "outputs": [],
   "source": [
    "def readoff_stn_highlow_waterlevel_nowcast(tf, to, ssh_daily, tt):\n",
    "    \"\"\"This function was used to read through high and low water\\\n",
    "        levels at various stns during a time period, the water levels\\\n",
    "        returned are in feet unit instead of meters in nowcasts results\"\"\"\n",
    "    ssh_mod_max = []\n",
    "    ssh_mod_min = []\n",
    "    time_mod_max = []\n",
    "    time_mod_min = []\n",
    "    j = 0\n",
    "    for i in np.arange(tf.day - to.day +1):\n",
    "        ssh_mod_max.append(max(ssh_daily[j:j+23])/0.3048)\n",
    "        ssh_mod_min.append(min(ssh_daily[j:j+23])/0.3048)\n",
    "        time_mod_max.append(tt[j:j+23][np.argmax(ssh_daily[j:j+23])])  \n",
    "        time_mod_min.append(tt[j:j+23][np.argmin(ssh_daily[j:j+23])]) \n",
    "        ## need to convert time_mod_min in hour to date!!\n",
    "        j = j +24\n",
    "    return ssh_mod_max, ssh_mod_min, time_mod_max, time_mod_min "
   ]
  },
  {
   "cell_type": "code",
   "execution_count": 25,
   "metadata": {
    "collapsed": false
   },
   "outputs": [],
   "source": [
    "to = datetime.datetime(2015,6,16)\n",
    "tf = datetime.datetime(2015,6,29)\n",
    "files = analyze.get_filenames(to,tf,'1h','grid_T','/data/dlatorne/MEOPAR/SalishSea/nowcast/')\n",
    "##combine files\n",
    "ssh_daily, time_daily = analyze.combine_files(files, 'sossheig',\\\n",
    "                                    'None',sites['Deas Island']['i'] + 349,sites['Deas Island']['j']+ 259)"
   ]
  },
  {
   "cell_type": "code",
   "execution_count": 27,
   "metadata": {
    "collapsed": false
   },
   "outputs": [],
   "source": [
    "now_ssh_max, now_ssh_min, t_now_max, t_now_min = \\\n",
    "readoff_stn_highlow_waterlevel_nowcast(tf, to,ssh_daily, tt)"
   ]
  },
  {
   "cell_type": "code",
   "execution_count": 29,
   "metadata": {
    "collapsed": false
   },
   "outputs": [],
   "source": [
    "##combine both max and min water level for Deas Island of nowcast\n",
    "ssh_model = []\n",
    "ssh_model.append(now_ssh_max)\n",
    "ssh_model.append(now_ssh_min)"
   ]
  },
  {
   "cell_type": "code",
   "execution_count": 30,
   "metadata": {
    "collapsed": false
   },
   "outputs": [
    {
     "data": {
      "text/plain": [
       "[5.595015845899507,\n",
       " 6.5110769034839988,\n",
       " 6.9130362889037666,\n",
       " 7.1768850831222029,\n",
       " 6.8874876662658577,\n",
       " 6.4792761730709723,\n",
       " 6.2586505728678432,\n",
       " 5.9011568171106612,\n",
       " 5.1694538864720201,\n",
       " 5.1036053227158042,\n",
       " 5.5085854565729617,\n",
       " 5.8998031605259946,\n",
       " 6.1981347719515396,\n",
       " 6.3906652056013193]"
      ]
     },
     "execution_count": 30,
     "metadata": {},
     "output_type": "execute_result"
    }
   ],
   "source": [
    "df = print_out_diff_wl(now_ssh_max, now_ssh_min)\n",
    "df"
   ]
  },
  {
   "cell_type": "code",
   "execution_count": 31,
   "metadata": {
    "collapsed": false
   },
   "outputs": [
    {
     "name": "stdout",
     "output_type": "stream",
     "text": [
      "Max amplitude of model: 2.188\n",
      "Min amplitude of model: 1.556\n",
      "Mean amplitude of model: 1.872\n"
     ]
    }
   ],
   "source": [
    "## average, max and min of the tidal amplitude at Deas Island of nowcast\n",
    "ddf = np.array(df)\n",
    "mean_ddf_DI_now = np.mean(ddf)* 0.3048\n",
    "max_ddf_DI_now = np.max(ddf)* 0.3048\n",
    "min_ddf_DI_now = np.min(ddf)* 0.3048\n",
    "print ('Max amplitude of model: {0:.4}'.format(max_ddf_DI_now))\n",
    "print ('Min amplitude of model: {0:.4}'.format(min_ddf_DI_now))\n",
    "print ('Mean amplitude of model: {0:.4}'.format(mean_ddf_DI_now))"
   ]
  },
  {
   "cell_type": "code",
   "execution_count": 32,
   "metadata": {
    "collapsed": true
   },
   "outputs": [],
   "source": [
    "delta_max, delta_min = get_time_lag(t_now_min, time_min, t_now_max, time_max)"
   ]
  },
  {
   "cell_type": "markdown",
   "metadata": {},
   "source": [
    "* Same time lag phase with new model results"
   ]
  },
  {
   "cell_type": "code",
   "execution_count": 33,
   "metadata": {
    "collapsed": false
   },
   "outputs": [
    {
     "data": {
      "text/plain": [
       "[30, -30, 30, 30, -30, 30, 30, 30, 30, -30, 30, -30, 30, 30]"
      ]
     },
     "execution_count": 33,
     "metadata": {},
     "output_type": "execute_result"
    }
   ],
   "source": [
    "delta_max"
   ]
  },
  {
   "cell_type": "markdown",
   "metadata": {},
   "source": [
    "* More time lag than observations and new results, which should be around 40-50min for 3-4m tidal height at PA."
   ]
  },
  {
   "cell_type": "code",
   "execution_count": 34,
   "metadata": {
    "collapsed": false
   },
   "outputs": [
    {
     "data": {
      "text/plain": [
       "[150, 90, 90, 90, 30, 30, 30, 30, 30, 90, 30, 90, 90, 90]"
      ]
     },
     "execution_count": 34,
     "metadata": {},
     "output_type": "execute_result"
    }
   ],
   "source": [
    "delta_min "
   ]
  },
  {
   "cell_type": "markdown",
   "metadata": {},
   "source": [
    "* In summary, time lag of falling for low water level in Deas Island in nowcasts results is more than in the observations and new model results. Tidal range at Deas Island in the nowcasts is also too small which indicates tides dissipate too much and river not deep enough, so overall, the new river channel looks good for tide!"
   ]
  },
  {
   "cell_type": "markdown",
   "metadata": {
    "collapsed": true
   },
   "source": [
    "* Edge of river channel for nowcasts"
   ]
  },
  {
   "cell_type": "code",
   "execution_count": 32,
   "metadata": {
    "collapsed": true
   },
   "outputs": [],
   "source": [
    "to = datetime.datetime(2015,6,16)\n",
    "tf = datetime.datetime(2015,6,29)\n",
    "files = analyze.get_filenames(to,tf,'1h','grid_T','/data/dlatorne/MEOPAR/SalishSea/nowcast/')\n",
    "##combine files\n",
    "ssh_daily, time_daily = analyze.combine_files(files, 'sossheig',\\\n",
    "        'None',sites['nowcasts edge of domain']['i'] + 349,sites['nowcasts edge of domain']['j']+ 259)"
   ]
  },
  {
   "cell_type": "code",
   "execution_count": 33,
   "metadata": {
    "collapsed": true
   },
   "outputs": [],
   "source": [
    "now_ssh_max, now_ssh_min, t_now_max, t_now_min = \\\n",
    "readoff_stn_highlow_waterlevel_nowcast(tf, to,ssh_daily, tt)"
   ]
  },
  {
   "cell_type": "code",
   "execution_count": 34,
   "metadata": {
    "collapsed": true
   },
   "outputs": [],
   "source": [
    "##combine both max and min water level for edge of river channel of nowcast\n",
    "ssh_model = []\n",
    "ssh_model.append(now_ssh_max)\n",
    "ssh_model.append(now_ssh_min)"
   ]
  },
  {
   "cell_type": "code",
   "execution_count": 35,
   "metadata": {
    "collapsed": false
   },
   "outputs": [
    {
     "data": {
      "text/plain": [
       "[5.0832624510517261,\n",
       " 5.9603878695351558,\n",
       " 6.3853622157507992,\n",
       " 6.6591185710717991,\n",
       " 6.3742350498483242,\n",
       " 6.0777271073556003,\n",
       " 5.8822624453800554,\n",
       " 5.5171359144640091,\n",
       " 4.8399528884512231,\n",
       " 4.7378429747003272,\n",
       " 5.1311036361640516,\n",
       " 5.4680776811151226,\n",
       " 5.7532034785024759,\n",
       " 5.9432197078632241]"
      ]
     },
     "execution_count": 35,
     "metadata": {},
     "output_type": "execute_result"
    }
   ],
   "source": [
    "df = print_out_diff_wl(now_ssh_max, now_ssh_min)\n",
    "df"
   ]
  },
  {
   "cell_type": "code",
   "execution_count": 36,
   "metadata": {
    "collapsed": false
   },
   "outputs": [
    {
     "name": "stdout",
     "output_type": "stream",
     "text": [
      "Max amplitude of model: 2.03\n",
      "Min amplitude of model: 1.444\n",
      "Mean amplitude of model: 1.738\n"
     ]
    }
   ],
   "source": [
    "## average, max and min of the tidal amplitude at edge of river channel for nowcast\n",
    "ddf = np.array(df)\n",
    "mean_ddf_DI_now = np.mean(ddf)* 0.3048\n",
    "max_ddf_DI_now = np.max(ddf)* 0.3048\n",
    "min_ddf_DI_now = np.min(ddf)* 0.3048\n",
    "print ('Max amplitude of model: {0:.4}'.format(max_ddf_DI_now))\n",
    "print ('Min amplitude of model: {0:.4}'.format(min_ddf_DI_now))\n",
    "print ('Mean amplitude of model: {0:.4}'.format(mean_ddf_DI_now))"
   ]
  },
  {
   "cell_type": "code",
   "execution_count": 37,
   "metadata": {
    "collapsed": true
   },
   "outputs": [],
   "source": [
    "delta_max, delta_min = get_time_lag(t_now_min, time_min, t_now_max, time_max)"
   ]
  },
  {
   "cell_type": "code",
   "execution_count": 38,
   "metadata": {
    "collapsed": false
   },
   "outputs": [
    {
     "data": {
      "text/plain": [
       "[30, -30, 30, 30, -30, 30, 30, 30, 30, 30, 30, -30, 30, 30]"
      ]
     },
     "execution_count": 38,
     "metadata": {},
     "output_type": "execute_result"
    }
   ],
   "source": [
    "delta_max"
   ]
  },
  {
   "cell_type": "code",
   "execution_count": 39,
   "metadata": {
    "collapsed": false
   },
   "outputs": [
    {
     "data": {
      "text/plain": [
       "[150, 90, 90, 90, 30, -1290, -1350, 30, 30, 90, 90, 90, 90, 90]"
      ]
     },
     "execution_count": 39,
     "metadata": {},
     "output_type": "execute_result"
    }
   ],
   "source": [
    "delta_min"
   ]
  },
  {
   "cell_type": "markdown",
   "metadata": {
    "collapsed": true
   },
   "source": [
    "# Tidal heights inside Fraser River with shallowing of Mission to 3m"
   ]
  },
  {
   "cell_type": "code",
   "execution_count": 30,
   "metadata": {
    "collapsed": true
   },
   "outputs": [],
   "source": [
    "grid_T = nc.Dataset('/data/jieliu/MEOPAR/river-treatment/14nor_Missionto3m/1hplume06160629Mission3mgridT.nc')"
   ]
  },
  {
   "cell_type": "code",
   "execution_count": 31,
   "metadata": {
    "collapsed": true
   },
   "outputs": [],
   "source": [
    "t_orig, t_end, t_nemo = figures.get_model_time_variables(grid_T)"
   ]
  },
  {
   "cell_type": "code",
   "execution_count": 32,
   "metadata": {
    "collapsed": true
   },
   "outputs": [],
   "source": [
    "ssh_zoom, time_zoom, t_orig, t_end = zoomin_period_tide(grid_T,'Point Atkinson', 0, MSL = 0)"
   ]
  },
  {
   "cell_type": "code",
   "execution_count": 33,
   "metadata": {
    "collapsed": false
   },
   "outputs": [],
   "source": [
    "ssh_max,ssh_min,time_max,time_min=find_highlow_tide(grid_T, ssh_zoom,time_zoom, t_end, t_orig, 0)"
   ]
  },
  {
   "cell_type": "code",
   "execution_count": 34,
   "metadata": {
    "collapsed": false
   },
   "outputs": [
    {
     "data": {
      "text/plain": [
       "[3.8687930000000001,\n",
       " 3.918593,\n",
       " 3.8374999999999999,\n",
       " 3.7140400000000002,\n",
       " 3.42435,\n",
       " 3.1029149999999999,\n",
       " 2.7207910000000002,\n",
       " 2.530821,\n",
       " 2.2094269999999998,\n",
       " 2.2002399999999995,\n",
       " 2.4000440000000003,\n",
       " 2.6093839999999999,\n",
       " 2.867623,\n",
       " 3.1096960000000005]"
      ]
     },
     "execution_count": 34,
     "metadata": {},
     "output_type": "execute_result"
    }
   ],
   "source": [
    "diff = print_out_diff_PA(ssh_max,ssh_min, meter =1)\n",
    "diff"
   ]
  },
  {
   "cell_type": "code",
   "execution_count": 35,
   "metadata": {
    "collapsed": true
   },
   "outputs": [],
   "source": [
    "##combine both max and min tidal anomaly for Point Atkinson\n",
    "ssh_obs = []\n",
    "ssh_obs.append(ssh_max)\n",
    "ssh_obs.append(ssh_min)"
   ]
  },
  {
   "cell_type": "code",
   "execution_count": 36,
   "metadata": {
    "collapsed": true
   },
   "outputs": [],
   "source": [
    "ssh_mod = grid_T.variables['sossheig']\n",
    "time_mod = grid_T.variables['time_counter'][:]"
   ]
  },
  {
   "cell_type": "code",
   "execution_count": 37,
   "metadata": {
    "collapsed": true
   },
   "outputs": [],
   "source": [
    "t = nc_tools.timestamp(grid_T, np.arange(time_mod.shape[0]))\n",
    "for ind in range(len(t)):\n",
    "    t[ind] = t[ind].datetime\n",
    "tt = np.array(t) ## convert time_counter into datetime"
   ]
  },
  {
   "cell_type": "markdown",
   "metadata": {},
   "source": [
    "* Steveston jetty"
   ]
  },
  {
   "cell_type": "code",
   "execution_count": 38,
   "metadata": {
    "collapsed": true
   },
   "outputs": [],
   "source": [
    "##grid cell for Steveston jetty is [79,33]\n",
    "mima, mimi, tmima, tmimi = readoff_stn_highlow_waterlevel_new(t_end,t_orig,79,33,ssh_mod,tt)"
   ]
  },
  {
   "cell_type": "code",
   "execution_count": 39,
   "metadata": {
    "collapsed": true
   },
   "outputs": [],
   "source": [
    "##combine both max and min water level for steveston jetty\n",
    "ssh_model = []\n",
    "ssh_model.append(mima)\n",
    "ssh_model.append(mimi)"
   ]
  },
  {
   "cell_type": "code",
   "execution_count": 40,
   "metadata": {
    "collapsed": false
   },
   "outputs": [
    {
     "data": {
      "text/plain": [
       "[11.79045579564853,\n",
       " 12.205660421391485,\n",
       " 12.087898617341448,\n",
       " 11.40861373560948,\n",
       " 10.819110501156704,\n",
       " 9.6648254888889973,\n",
       " 8.4595167104966364,\n",
       " 7.4140725564456043,\n",
       " 6.6603424902663146,\n",
       " 7.019223855549269,\n",
       " 7.6827594614404386,\n",
       " 8.675307035446167,\n",
       " 9.2481006318189962,\n",
       " 9.9478204419293732]"
      ]
     },
     "execution_count": 40,
     "metadata": {},
     "output_type": "execute_result"
    }
   ],
   "source": [
    "df = print_out_diff_wl(mima,mimi)\n",
    "df"
   ]
  },
  {
   "cell_type": "code",
   "execution_count": 41,
   "metadata": {
    "collapsed": false
   },
   "outputs": [
    {
     "name": "stdout",
     "output_type": "stream",
     "text": [
      "Max amplitude of model: 3.72\n",
      "Min amplitude of model: 2.03\n",
      "Mean amplitude of model: 2.897\n"
     ]
    }
   ],
   "source": [
    "## average, max and min of the tidal amplitude at STEVESTON JETTY for model\n",
    "ddf = np.array(df)\n",
    "mean_ddf_DI = np.mean(ddf)* 0.3048\n",
    "max_ddf_DI = np.max(ddf)* 0.3048\n",
    "min_ddf_DI = np.min(ddf)* 0.3048\n",
    "print ('Max amplitude of model: {0:.4}'.format(max_ddf_DI))\n",
    "print ('Min amplitude of model: {0:.4}'.format(min_ddf_DI))\n",
    "print ('Mean amplitude of model: {0:.4}'.format(mean_ddf_DI))"
   ]
  },
  {
   "cell_type": "code",
   "execution_count": 42,
   "metadata": {
    "collapsed": true
   },
   "outputs": [],
   "source": [
    "delta_max, delta_min = get_time_lag(tmimi, time_min, tmima, time_max)"
   ]
  },
  {
   "cell_type": "code",
   "execution_count": 43,
   "metadata": {
    "collapsed": false
   },
   "outputs": [
    {
     "data": {
      "text/plain": [
       "[-30, -30, 30, -30, -30, 30, -30, 30, -30, 30, 30, -30, 30, -30]"
      ]
     },
     "execution_count": 43,
     "metadata": {},
     "output_type": "execute_result"
    }
   ],
   "source": [
    "delta_max"
   ]
  },
  {
   "cell_type": "code",
   "execution_count": 44,
   "metadata": {
    "collapsed": false
   },
   "outputs": [
    {
     "data": {
      "text/plain": [
       "[30, -30, -30, 30, -30, 30, -30, 30, 30, 30, -30, 30, -30, -30]"
      ]
     },
     "execution_count": 44,
     "metadata": {},
     "output_type": "execute_result"
    }
   ],
   "source": [
    "delta_min"
   ]
  },
  {
   "cell_type": "markdown",
   "metadata": {},
   "source": [
    "* Deas Island"
   ]
  },
  {
   "cell_type": "code",
   "execution_count": 36,
   "metadata": {
    "collapsed": true
   },
   "outputs": [],
   "source": [
    "## grid cell for Deas Island is [65,69]\n",
    "mima, mimi, tmima, tmimi = readoff_stn_highlow_waterlevel_new(t_end, t_orig, 65, 69,ssh_mod, tt)"
   ]
  },
  {
   "cell_type": "code",
   "execution_count": 37,
   "metadata": {
    "collapsed": true
   },
   "outputs": [],
   "source": [
    "##combine both max and min water level for DEAS ISLAND\n",
    "ssh_model = []\n",
    "ssh_model.append(mima)\n",
    "ssh_model.append(mimi)"
   ]
  },
  {
   "cell_type": "code",
   "execution_count": 38,
   "metadata": {
    "collapsed": false
   },
   "outputs": [
    {
     "data": {
      "text/plain": [
       "[11.61805053395549,\n",
       " 12.01319412922296,\n",
       " 11.775470937643778,\n",
       " 11.35792045455592,\n",
       " 10.572795479942181,\n",
       " 9.6167260267603112,\n",
       " 8.1716561958858662,\n",
       " 7.5528318957080991,\n",
       " 6.7108750265101431,\n",
       " 7.0264620652661858,\n",
       " 7.6728818688805642,\n",
       " 8.5092439582654489,\n",
       " 9.2321473938899388,\n",
       " 9.7041461724308853]"
      ]
     },
     "execution_count": 38,
     "metadata": {},
     "output_type": "execute_result"
    }
   ],
   "source": [
    "df = print_out_diff_wl(mima, mimi)\n",
    "df"
   ]
  },
  {
   "cell_type": "code",
   "execution_count": 39,
   "metadata": {
    "collapsed": false
   },
   "outputs": [
    {
     "name": "stdout",
     "output_type": "stream",
     "text": [
      "Max amplitude of model: 3.662\n",
      "Min amplitude of model: 2.045\n",
      "Mean amplitude of model: 2.864\n"
     ]
    }
   ],
   "source": [
    "## average, max and min of the tidal amplitude at Deas Island channel for model\n",
    "ddf = np.array(df)\n",
    "mean_ddf_DI = np.mean(ddf)* 0.3048\n",
    "max_ddf_DI = np.max(ddf)* 0.3048\n",
    "min_ddf_DI = np.min(ddf)* 0.3048\n",
    "print ('Max amplitude of model: {0:.4}'.format(max_ddf_DI))\n",
    "print ('Min amplitude of model: {0:.4}'.format(min_ddf_DI))\n",
    "print ('Mean amplitude of model: {0:.4}'.format(mean_ddf_DI))"
   ]
  },
  {
   "cell_type": "code",
   "execution_count": 40,
   "metadata": {
    "collapsed": true
   },
   "outputs": [],
   "source": [
    "delta_max, delta_min = get_time_lag(tmimi, time_min, tmima, time_max)"
   ]
  },
  {
   "cell_type": "code",
   "execution_count": 41,
   "metadata": {
    "collapsed": false
   },
   "outputs": [
    {
     "data": {
      "text/plain": [
       "[-30, -30, 30, -30, -30, 30, -30, 30, 30, 30, 30, -30, 30, 30]"
      ]
     },
     "execution_count": 41,
     "metadata": {},
     "output_type": "execute_result"
    }
   ],
   "source": [
    "delta_max"
   ]
  },
  {
   "cell_type": "code",
   "execution_count": 42,
   "metadata": {
    "collapsed": false
   },
   "outputs": [
    {
     "data": {
      "text/plain": [
       "[30, 30, -30, 30, -30, 30, -30, 30, 30, 30, 30, 30, 30, -30]"
      ]
     },
     "execution_count": 42,
     "metadata": {},
     "output_type": "execute_result"
    }
   ],
   "source": [
    "delta_min"
   ]
  },
  {
   "cell_type": "code",
   "execution_count": 43,
   "metadata": {
    "collapsed": true
   },
   "outputs": [],
   "source": [
    "##combine both time lag for high and low water level at NEW WESTMINSTER\n",
    "time_lag_mod = []\n",
    "time_lag_mod.append(delta_max)\n",
    "time_lag_mod.append(delta_min)"
   ]
  },
  {
   "cell_type": "markdown",
   "metadata": {},
   "source": [
    "* New Westminster"
   ]
  },
  {
   "cell_type": "code",
   "execution_count": 20,
   "metadata": {
    "collapsed": true
   },
   "outputs": [],
   "source": [
    "## use another time counts[69,106]\n",
    "tma, tmi, ttma, ttmin = readoff_stn_highlow_waterlevel_new(t_end, t_orig, 69, 106,ssh_mod, tt)"
   ]
  },
  {
   "cell_type": "code",
   "execution_count": 21,
   "metadata": {
    "collapsed": true
   },
   "outputs": [],
   "source": [
    "##combine both max and min water level for NEW WESTMINSTER\n",
    "ssh_model = []\n",
    "ssh_model.append(tma)\n",
    "ssh_model.append(tmi)"
   ]
  },
  {
   "cell_type": "code",
   "execution_count": 22,
   "metadata": {
    "collapsed": false
   },
   "outputs": [
    {
     "data": {
      "text/plain": [
       "[10.321799303915871,\n",
       " 10.532328462976171,\n",
       " 10.597079288302444,\n",
       " 10.253029858346373,\n",
       " 9.5669676860173531,\n",
       " 8.5959651964543049,\n",
       " 7.9083090692054565,\n",
       " 7.3123511093182199,\n",
       " 6.3917256911282774,\n",
       " 6.3171840500174543,\n",
       " 7.0587333457989327,\n",
       " 7.6852463127121213,\n",
       " 8.175167941984542,\n",
       " 8.7895003829415383]"
      ]
     },
     "execution_count": 22,
     "metadata": {},
     "output_type": "execute_result"
    }
   ],
   "source": [
    "df = print_out_diff_wl(tma, tmi)\n",
    "df"
   ]
  },
  {
   "cell_type": "code",
   "execution_count": 23,
   "metadata": {
    "collapsed": false
   },
   "outputs": [
    {
     "name": "stdout",
     "output_type": "stream",
     "text": [
      "Max amplitude of model: 3.23\n",
      "Min amplitude of model: 1.925\n",
      "Mean amplitude of model: 2.602\n"
     ]
    }
   ],
   "source": [
    "## average, max and min of the tidal amplitude at NW\n",
    "ddf = np.array(df)\n",
    "mean_ddf_NW = np.mean(ddf)* 0.3048\n",
    "max_ddf_NW = np.max(ddf)* 0.3048\n",
    "min_ddf_NW = np.min(ddf)* 0.3048\n",
    "print ('Max amplitude of model: {0:.4}'.format(max_ddf_NW))\n",
    "print ('Min amplitude of model: {0:.4}'.format(min_ddf_NW))\n",
    "print ('Mean amplitude of model: {0:.4}'.format(mean_ddf_NW))"
   ]
  },
  {
   "cell_type": "code",
   "execution_count": 24,
   "metadata": {
    "collapsed": true
   },
   "outputs": [],
   "source": [
    "delta_max, delta_min = get_time_lag(ttmin, time_min, ttma, time_max)"
   ]
  },
  {
   "cell_type": "code",
   "execution_count": 25,
   "metadata": {
    "collapsed": false
   },
   "outputs": [
    {
     "data": {
      "text/plain": [
       "[30, -30, 30, 30, -30, 30, 30, 30, 30, 30, 30, 30, 30, 30]"
      ]
     },
     "execution_count": 25,
     "metadata": {},
     "output_type": "execute_result"
    }
   ],
   "source": [
    "delta_max"
   ]
  },
  {
   "cell_type": "code",
   "execution_count": 26,
   "metadata": {
    "collapsed": false
   },
   "outputs": [
    {
     "data": {
      "text/plain": [
       "[90, 90, 30, 90, 30, 30, -1350, 30, 30, 30, 30, 90, 90, 30]"
      ]
     },
     "execution_count": 26,
     "metadata": {},
     "output_type": "execute_result"
    }
   ],
   "source": [
    "delta_min"
   ]
  },
  {
   "cell_type": "code",
   "execution_count": 27,
   "metadata": {
    "collapsed": true
   },
   "outputs": [],
   "source": [
    "##combine both time lag for high and low water level at NEW WESTMINSTER\n",
    "time_lag_mod = []\n",
    "time_lag_mod.append(delta_max)\n",
    "time_lag_mod.append(delta_min)"
   ]
  },
  {
   "cell_type": "code",
   "execution_count": 28,
   "metadata": {
    "collapsed": false
   },
   "outputs": [
    {
     "data": {
      "image/png": "[encoded data removed]",
      "text/plain": [
       "<matplotlib.figure.Figure at 0x7f9f84eacc10>"
      ]
     },
     "metadata": {},
     "output_type": "display_data"
    }
   ],
   "source": [
    "fig = plot_height_time_stn(ssh_model, ssh_obs, time_lag_mod, 'New Westminster')"
   ]
  },
  {
   "cell_type": "markdown",
   "metadata": {},
   "source": [
    "* Mission"
   ]
  },
  {
   "cell_type": "code",
   "execution_count": 50,
   "metadata": {
    "collapsed": true
   },
   "outputs": [],
   "source": [
    "## grid cell for Mission is [151, 108]\n",
    "mima, mimi, tmima, tmimi = readoff_stn_highlow_waterlevel_new(t_end, t_orig, 151, 108,ssh_mod, tt)"
   ]
  },
  {
   "cell_type": "code",
   "execution_count": 51,
   "metadata": {
    "collapsed": true
   },
   "outputs": [],
   "source": [
    "##combine both max and min water level for MISIION\n",
    "ssh_model = []\n",
    "ssh_model.append(mima)\n",
    "ssh_model.append(mimi)"
   ]
  },
  {
   "cell_type": "code",
   "execution_count": 52,
   "metadata": {
    "collapsed": false
   },
   "outputs": [
    {
     "data": {
      "text/plain": [
       "[0.66072452725387976,\n",
       " 0.66626572546370966,\n",
       " 0.68251385776389739,\n",
       " 0.71365689355244299,\n",
       " 0.68338211440038776,\n",
       " 0.65777245468980539,\n",
       " 0.64137726631064496,\n",
       " 0.59500297536374092,\n",
       " 0.54713778608427077,\n",
       " 0.49685242920723027,\n",
       " 0.52653429076427827,\n",
       " 0.54571415808570123,\n",
       " 0.54808895731848395,\n",
       " 0.57151937109279061]"
      ]
     },
     "execution_count": 52,
     "metadata": {},
     "output_type": "execute_result"
    }
   ],
   "source": [
    "df = print_out_diff_wl(mima, mimi)\n",
    "df"
   ]
  },
  {
   "cell_type": "code",
   "execution_count": 53,
   "metadata": {
    "collapsed": false
   },
   "outputs": [
    {
     "name": "stdout",
     "output_type": "stream",
     "text": [
      "Max amplitude of model: 0.2175\n",
      "Min amplitude of model: 0.1514\n",
      "Mean amplitude of model: 0.1859\n"
     ]
    }
   ],
   "source": [
    "## average, max and min of the tidal amplitude at Mission\n",
    "ddf = np.array(df)\n",
    "mean_ddf_MI = np.mean(ddf)* 0.3048\n",
    "max_ddf_MI = np.max(ddf)* 0.3048\n",
    "min_ddf_MI = np.min(ddf)* 0.3048\n",
    "print ('Max amplitude of model: {0:.4}'.format(max_ddf_MI))\n",
    "print ('Min amplitude of model: {0:.4}'.format(min_ddf_MI))\n",
    "print ('Mean amplitude of model: {0:.4}'.format(mean_ddf_MI))"
   ]
  },
  {
   "cell_type": "code",
   "execution_count": 54,
   "metadata": {
    "collapsed": true
   },
   "outputs": [],
   "source": [
    "delta_max, delta_min = get_time_lag(tmimi, time_min, tmima, time_max)"
   ]
  },
  {
   "cell_type": "code",
   "execution_count": 55,
   "metadata": {
    "collapsed": false
   },
   "outputs": [
    {
     "data": {
      "text/plain": [
       "[810, 210, 210, 210, 210, 210, 210, 270, 210, 210, 210, 210, 210, 210]"
      ]
     },
     "execution_count": 55,
     "metadata": {},
     "output_type": "execute_result"
    }
   ],
   "source": [
    "delta_max"
   ]
  },
  {
   "cell_type": "code",
   "execution_count": 56,
   "metadata": {
    "collapsed": false
   },
   "outputs": [
    {
     "data": {
      "text/plain": [
       "[-1110,\n",
       " -1170,\n",
       " -1230,\n",
       " -1170,\n",
       " -1230,\n",
       " -1170,\n",
       " -1230,\n",
       " 210,\n",
       " 210,\n",
       " 330,\n",
       " 270,\n",
       " 330,\n",
       " 330,\n",
       " 270]"
      ]
     },
     "execution_count": 56,
     "metadata": {},
     "output_type": "execute_result"
    }
   ],
   "source": [
    "delta_min"
   ]
  },
  {
   "cell_type": "markdown",
   "metadata": {},
   "source": [
    "* Edge of model domain in the 3m Mission new case"
   ]
  },
  {
   "cell_type": "code",
   "execution_count": 81,
   "metadata": {
    "collapsed": true
   },
   "outputs": [],
   "source": [
    "## grid cell for edge of new river treatment with Mission at 3m is [151, 136]\n",
    "mima, mimi, tmima, tmimi = readoff_stn_highlow_waterlevel_new(t_end, t_orig, 151, 136,ssh_mod, tt)"
   ]
  },
  {
   "cell_type": "code",
   "execution_count": 84,
   "metadata": {
    "collapsed": false
   },
   "outputs": [
    {
     "data": {
      "text/plain": [
       "[datetime.datetime(2015, 6, 16, 15, 30, tzinfo=tzutc()),\n",
       " datetime.datetime(2015, 6, 17, 6, 30, tzinfo=tzutc()),\n",
       " datetime.datetime(2015, 6, 18, 7, 30, tzinfo=tzutc()),\n",
       " datetime.datetime(2015, 6, 19, 7, 30, tzinfo=tzutc()),\n",
       " datetime.datetime(2015, 6, 20, 8, 30, tzinfo=tzutc()),\n",
       " datetime.datetime(2015, 6, 21, 9, 30, tzinfo=tzutc()),\n",
       " datetime.datetime(2015, 6, 22, 9, 30, tzinfo=tzutc()),\n",
       " datetime.datetime(2015, 6, 23, 10, 30, tzinfo=tzutc()),\n",
       " datetime.datetime(2015, 6, 24, 10, 30, tzinfo=tzutc()),\n",
       " datetime.datetime(2015, 6, 25, 11, 30, tzinfo=tzutc()),\n",
       " datetime.datetime(2015, 6, 26, 11, 30, tzinfo=tzutc()),\n",
       " datetime.datetime(2015, 6, 27, 12, 30, tzinfo=tzutc()),\n",
       " datetime.datetime(2015, 6, 28, 12, 30, tzinfo=tzutc()),\n",
       " datetime.datetime(2015, 6, 29, 13, 30, tzinfo=tzutc())]"
      ]
     },
     "execution_count": 84,
     "metadata": {},
     "output_type": "execute_result"
    }
   ],
   "source": [
    "tmima"
   ]
  },
  {
   "cell_type": "code",
   "execution_count": 45,
   "metadata": {
    "collapsed": false
   },
   "outputs": [
    {
     "data": {
      "text/plain": [
       "[0.49697289003787404,\n",
       " 0.48282734678173256,\n",
       " 0.48360017340953121,\n",
       " 0.51456330016528895,\n",
       " 0.48892391635364163,\n",
       " 0.45426248565433625,\n",
       " 0.45081136107757658,\n",
       " 0.43580538331680074,\n",
       " 0.38666205769135686,\n",
       " 0.34532991294160098,\n",
       " 0.36537334362040141,\n",
       " 0.38366148790975174,\n",
       " 0.39727981947851276,\n",
       " 0.3913881897613436]"
      ]
     },
     "execution_count": 45,
     "metadata": {},
     "output_type": "execute_result"
    }
   ],
   "source": [
    "df = print_out_diff_wl(mima, mimi)\n",
    "df"
   ]
  },
  {
   "cell_type": "code",
   "execution_count": 46,
   "metadata": {
    "collapsed": false
   },
   "outputs": [
    {
     "name": "stdout",
     "output_type": "stream",
     "text": [
      "Max amplitude of model: 0.1568\n",
      "Min amplitude of model: 0.1053\n",
      "Mean amplitude of model: 0.1323\n"
     ]
    }
   ],
   "source": [
    "## average, max and min of the tidal amplitude at edge of domain\n",
    "ddf = np.array(df)\n",
    "mean_ddf_MI = np.mean(ddf)* 0.3048\n",
    "max_ddf_MI = np.max(ddf)* 0.3048\n",
    "min_ddf_MI = np.min(ddf)* 0.3048\n",
    "print ('Max amplitude of model: {0:.4}'.format(max_ddf_MI))\n",
    "print ('Min amplitude of model: {0:.4}'.format(min_ddf_MI))\n",
    "print ('Mean amplitude of model: {0:.4}'.format(mean_ddf_MI))"
   ]
  },
  {
   "cell_type": "code",
   "execution_count": 47,
   "metadata": {
    "collapsed": true
   },
   "outputs": [],
   "source": [
    "delta_max, delta_min = get_time_lag(tmimi, time_min, tmima, time_max)"
   ]
  },
  {
   "cell_type": "code",
   "execution_count": 48,
   "metadata": {
    "collapsed": false
   },
   "outputs": [
    {
     "data": {
      "text/plain": [
       "[810, 210, 270, 210, 210, 270, 210, 270, 210, 270, 210, 210, 210, 210]"
      ]
     },
     "execution_count": 48,
     "metadata": {},
     "output_type": "execute_result"
    }
   ],
   "source": [
    "delta_max"
   ]
  },
  {
   "cell_type": "code",
   "execution_count": 49,
   "metadata": {
    "collapsed": false
   },
   "outputs": [
    {
     "data": {
      "text/plain": [
       "[-1110,\n",
       " -1170,\n",
       " -1170,\n",
       " -1170,\n",
       " -1170,\n",
       " -1110,\n",
       " -1170,\n",
       " 210,\n",
       " 270,\n",
       " -630,\n",
       " 330,\n",
       " 330,\n",
       " 330,\n",
       " 270]"
      ]
     },
     "execution_count": 49,
     "metadata": {},
     "output_type": "execute_result"
    }
   ],
   "source": [
    "delta_min"
   ]
  },
  {
   "cell_type": "markdown",
   "metadata": {},
   "source": [
    "* Relatively higher tidal amplitude in Deas Island, NW than observation, relatively lower tidal amplitude in Mission. Looks okay. But the ssh pcolorplot in the strait is too low which I am a little bit worry that the tides in the Fraser is good but in the strait are not.?"
   ]
  },
  {
   "cell_type": "markdown",
   "metadata": {},
   "source": [
    "* It makes sense that water level at edge of model domain/Mission is high as in Ages paper, it argues that in freshet this should be the hydraulic grade line which is equal to water surface line and it should be around 3m higher than than at Sandheads or in the SoG. But our 3m bathymetry at Mission case makes it too high and if wanted to be accurate, tune back to around 6-8m at Mission, I guess, we will see how 8m at Mission works as follows."
   ]
  },
  {
   "cell_type": "markdown",
   "metadata": {},
   "source": [
    "# Tidal heights inside Fraser River with shallowing of Mission to 8m"
   ]
  },
  {
   "cell_type": "code",
   "execution_count": 48,
   "metadata": {
    "collapsed": true
   },
   "outputs": [],
   "source": [
    "grid_T = nc.Dataset('/data/jieliu/MEOPAR/river-treatment/14nor_Missionto8m/1hplume06160629Mission8mgridT.nc')"
   ]
  },
  {
   "cell_type": "code",
   "execution_count": 53,
   "metadata": {
    "collapsed": true
   },
   "outputs": [],
   "source": [
    "t_orig, t_end, t_nemo = figures.get_model_time_variables(grid_T)"
   ]
  },
  {
   "cell_type": "code",
   "execution_count": 54,
   "metadata": {
    "collapsed": true
   },
   "outputs": [],
   "source": [
    "ssh_zoom, time_zoom, t_orig, t_end = zoomin_period_tide(grid_T,'Point Atkinson', 0, MSL = 0)"
   ]
  },
  {
   "cell_type": "code",
   "execution_count": 55,
   "metadata": {
    "collapsed": true
   },
   "outputs": [],
   "source": [
    "ssh_max,ssh_min,time_max,time_min=find_highlow_tide(grid_T, ssh_zoom,time_zoom, t_end, t_orig, 0)"
   ]
  },
  {
   "cell_type": "code",
   "execution_count": 56,
   "metadata": {
    "collapsed": false
   },
   "outputs": [
    {
     "data": {
      "text/plain": [
       "[3.8687930000000001,\n",
       " 3.918593,\n",
       " 3.8374999999999999,\n",
       " 3.7140400000000002,\n",
       " 3.42435,\n",
       " 3.1029149999999999,\n",
       " 2.7207910000000002,\n",
       " 2.530821,\n",
       " 2.2094269999999998,\n",
       " 2.2002399999999995,\n",
       " 2.4000440000000003,\n",
       " 2.6093839999999999,\n",
       " 2.867623,\n",
       " 3.1096960000000005]"
      ]
     },
     "execution_count": 56,
     "metadata": {},
     "output_type": "execute_result"
    }
   ],
   "source": [
    "diff = print_out_diff_PA(ssh_max,ssh_min, meter =1)\n",
    "diff"
   ]
  },
  {
   "cell_type": "code",
   "execution_count": 12,
   "metadata": {
    "collapsed": true
   },
   "outputs": [],
   "source": [
    "##combine both max and min tidal anomaly for Point Atkinson\n",
    "ssh_obs = []\n",
    "ssh_obs.append(ssh_max)\n",
    "ssh_obs.append(ssh_min)"
   ]
  },
  {
   "cell_type": "code",
   "execution_count": 57,
   "metadata": {
    "collapsed": true
   },
   "outputs": [],
   "source": [
    "ssh_mod = grid_T.variables['sossheig']\n",
    "time_mod = grid_T.variables['time_counter'][:]"
   ]
  },
  {
   "cell_type": "code",
   "execution_count": 58,
   "metadata": {
    "collapsed": true
   },
   "outputs": [],
   "source": [
    "t = nc_tools.timestamp(grid_T, np.arange(time_mod.shape[0]))\n",
    "for ind in range(len(t)):\n",
    "    t[ind] = t[ind].datetime\n",
    "tt = np.array(t) ## convert time_counter into datetime"
   ]
  },
  {
   "cell_type": "markdown",
   "metadata": {},
   "source": [
    "* Steveston Jetty"
   ]
  },
  {
   "cell_type": "code",
   "execution_count": 42,
   "metadata": {
    "collapsed": true
   },
   "outputs": [],
   "source": [
    "## grid cell for Steveston Jetty is [79, 33]\n",
    "mima, mimi, tmima, tmimi = readoff_stn_highlow_waterlevel_new(t_end, t_orig, 79, 33,ssh_mod, tt)"
   ]
  },
  {
   "cell_type": "code",
   "execution_count": 43,
   "metadata": {
    "collapsed": true
   },
   "outputs": [],
   "source": [
    "##combine both max and min water level for STEESTON JETTY\n",
    "ssh_model = []\n",
    "ssh_model.append(mima)\n",
    "ssh_model.append(mimi)"
   ]
  },
  {
   "cell_type": "code",
   "execution_count": 44,
   "metadata": {
    "collapsed": false
   },
   "outputs": [
    {
     "data": {
      "text/plain": [
       "[11.786237319936276,\n",
       " 12.198908748276278,\n",
       " 12.084889052108203,\n",
       " 11.394062614816379,\n",
       " 10.797576172145332,\n",
       " 9.6647668229000452,\n",
       " 8.4514434882036333,\n",
       " 7.4075490940274218,\n",
       " 6.6583781574028995,\n",
       " 7.0183305680908239,\n",
       " 7.6695995067986917,\n",
       " 8.657549231696942,\n",
       " 9.2313929492720135,\n",
       " 9.9383415825410779]"
      ]
     },
     "execution_count": 44,
     "metadata": {},
     "output_type": "execute_result"
    }
   ],
   "source": [
    "df = print_out_diff_wl(mima, mimi)\n",
    "df"
   ]
  },
  {
   "cell_type": "code",
   "execution_count": 45,
   "metadata": {
    "collapsed": false
   },
   "outputs": [
    {
     "name": "stdout",
     "output_type": "stream",
     "text": [
      "Max amplitude of model: 3.718\n",
      "Min amplitude of model: 2.029\n",
      "Mean amplitude of model: 2.895\n"
     ]
    }
   ],
   "source": [
    "## average, max and min of the tidal amplitude at STEVESTON JETTY for model\n",
    "ddf = np.array(df)\n",
    "mean_ddf_DI = np.mean(ddf)* 0.3048\n",
    "max_ddf_DI = np.max(ddf)* 0.3048\n",
    "min_ddf_DI = np.min(ddf)* 0.3048\n",
    "print ('Max amplitude of model: {0:.4}'.format(max_ddf_DI))\n",
    "print ('Min amplitude of model: {0:.4}'.format(min_ddf_DI))\n",
    "print ('Mean amplitude of model: {0:.4}'.format(mean_ddf_DI))"
   ]
  },
  {
   "cell_type": "code",
   "execution_count": 46,
   "metadata": {
    "collapsed": true
   },
   "outputs": [],
   "source": [
    "delta_max, delta_min = get_time_lag(tmimi, time_min, tmima, time_max)"
   ]
  },
  {
   "cell_type": "code",
   "execution_count": 47,
   "metadata": {
    "collapsed": false
   },
   "outputs": [
    {
     "data": {
      "text/plain": [
       "[-30, -30, 30, -30, -30, 30, -30, 30, -30, 30, 30, -30, 30, -30]"
      ]
     },
     "execution_count": 47,
     "metadata": {},
     "output_type": "execute_result"
    }
   ],
   "source": [
    "delta_max"
   ]
  },
  {
   "cell_type": "code",
   "execution_count": 48,
   "metadata": {
    "collapsed": false
   },
   "outputs": [
    {
     "data": {
      "text/plain": [
       "[30, -30, -30, 30, -30, 30, -30, 30, 30, 30, -30, 30, -30, -30]"
      ]
     },
     "execution_count": 48,
     "metadata": {},
     "output_type": "execute_result"
    }
   ],
   "source": [
    "delta_min"
   ]
  },
  {
   "cell_type": "markdown",
   "metadata": {},
   "source": [
    "* Deas Island"
   ]
  },
  {
   "cell_type": "code",
   "execution_count": 21,
   "metadata": {
    "collapsed": false
   },
   "outputs": [],
   "source": [
    "## grid cell for Deas Island is [65,69]\n",
    "mima, mimi, tmima, tmimi = readoff_stn_highlow_waterlevel_new(t_end, t_orig, 65, 69,ssh_mod, tt)"
   ]
  },
  {
   "cell_type": "code",
   "execution_count": 22,
   "metadata": {
    "collapsed": true
   },
   "outputs": [],
   "source": [
    "##combine both max and min water level for DEAS ISLAND\n",
    "ssh_model = []\n",
    "ssh_model.append(mima)\n",
    "ssh_model.append(mimi)"
   ]
  },
  {
   "cell_type": "code",
   "execution_count": 23,
   "metadata": {
    "collapsed": false
   },
   "outputs": [
    {
     "data": {
      "text/plain": [
       "[11.239321291290242,\n",
       " 11.69816676400152,\n",
       " 11.478646455474411,\n",
       " 11.111272601630745,\n",
       " 10.381838077009505,\n",
       " 9.4709848481526215,\n",
       " 8.0260937529911835,\n",
       " 7.4956071345512001,\n",
       " 6.6557065082660181,\n",
       " 6.879172886763345,\n",
       " 7.5455011892819339,\n",
       " 8.3165203179587213,\n",
       " 9.0115679687089489,\n",
       " 9.4525281369216785]"
      ]
     },
     "execution_count": 23,
     "metadata": {},
     "output_type": "execute_result"
    }
   ],
   "source": [
    "df = print_out_diff_wl(mima, mimi)\n",
    "df"
   ]
  },
  {
   "cell_type": "code",
   "execution_count": 24,
   "metadata": {
    "collapsed": false
   },
   "outputs": [
    {
     "name": "stdout",
     "output_type": "stream",
     "text": [
      "Max amplitude of model: 3.566\n",
      "Min amplitude of model: 2.029\n",
      "Mean amplitude of model: 2.803\n"
     ]
    }
   ],
   "source": [
    "## average, max and min of the tidal amplitude at Deas Island channel for model\n",
    "ddf = np.array(df)\n",
    "mean_ddf_DI = np.mean(ddf)* 0.3048\n",
    "max_ddf_DI = np.max(ddf)* 0.3048\n",
    "min_ddf_DI = np.min(ddf)* 0.3048\n",
    "print ('Max amplitude of model: {0:.4}'.format(max_ddf_DI))\n",
    "print ('Min amplitude of model: {0:.4}'.format(min_ddf_DI))\n",
    "print ('Mean amplitude of model: {0:.4}'.format(mean_ddf_DI))"
   ]
  },
  {
   "cell_type": "code",
   "execution_count": 25,
   "metadata": {
    "collapsed": true
   },
   "outputs": [],
   "source": [
    "delta_max, delta_min = get_time_lag(tmimi, time_min, tmima, time_max)"
   ]
  },
  {
   "cell_type": "code",
   "execution_count": 26,
   "metadata": {
    "collapsed": false
   },
   "outputs": [
    {
     "data": {
      "text/plain": [
       "[-30, -30, 30, 30, -30, 30, -30, 30, 30, 30, 30, -30, 30, 30]"
      ]
     },
     "execution_count": 26,
     "metadata": {},
     "output_type": "execute_result"
    }
   ],
   "source": [
    "delta_max"
   ]
  },
  {
   "cell_type": "code",
   "execution_count": 27,
   "metadata": {
    "collapsed": false
   },
   "outputs": [
    {
     "data": {
      "text/plain": [
       "[30, 30, -30, 30, 30, 30, -30, 30, 30, 30, 30, 30, 30, 30]"
      ]
     },
     "execution_count": 27,
     "metadata": {},
     "output_type": "execute_result"
    }
   ],
   "source": [
    "delta_min"
   ]
  },
  {
   "cell_type": "markdown",
   "metadata": {},
   "source": [
    "* New Westminster"
   ]
  },
  {
   "cell_type": "code",
   "execution_count": 28,
   "metadata": {
    "collapsed": true
   },
   "outputs": [],
   "source": [
    "## use another time counts[69,106]\n",
    "tma, tmi, ttma, ttmin = readoff_stn_highlow_waterlevel_new(t_end, t_orig, 69, 106,ssh_mod, tt)"
   ]
  },
  {
   "cell_type": "code",
   "execution_count": 29,
   "metadata": {
    "collapsed": true
   },
   "outputs": [],
   "source": [
    "##combine both max and min water level for NEW WESTMINSTER\n",
    "ssh_model = []\n",
    "ssh_model.append(tma)\n",
    "ssh_model.append(tmi)"
   ]
  },
  {
   "cell_type": "code",
   "execution_count": 30,
   "metadata": {
    "collapsed": false
   },
   "outputs": [
    {
     "data": {
      "text/plain": [
       "[9.166345078488348,\n",
       " 9.6008291081806494,\n",
       " 9.4691953399362827,\n",
       " 9.3993832041898102,\n",
       " 8.7921360502718624,\n",
       " 7.8070910740399295,\n",
       " 7.6541989024855646,\n",
       " 6.9570522804272761,\n",
       " 6.0412623574883915,\n",
       " 5.8747352567792248,\n",
       " 6.4195803026827614,\n",
       " 6.9950578680501518,\n",
       " 7.4201317753378788,\n",
       " 7.8604902260572569]"
      ]
     },
     "execution_count": 30,
     "metadata": {},
     "output_type": "execute_result"
    }
   ],
   "source": [
    "df = print_out_diff_wl(tma, tmi)\n",
    "df"
   ]
  },
  {
   "cell_type": "code",
   "execution_count": 31,
   "metadata": {
    "collapsed": false
   },
   "outputs": [
    {
     "name": "stdout",
     "output_type": "stream",
     "text": [
      "Max amplitude of model: 2.926\n",
      "Min amplitude of model: 1.791\n",
      "Mean amplitude of model: 2.383\n"
     ]
    }
   ],
   "source": [
    "## average, max and min of the tidal amplitude at NW\n",
    "ddf = np.array(df)\n",
    "mean_ddf_NW = np.mean(ddf)* 0.3048\n",
    "max_ddf_NW = np.max(ddf)* 0.3048\n",
    "min_ddf_NW = np.min(ddf)* 0.3048\n",
    "print ('Max amplitude of model: {0:.4}'.format(max_ddf_NW))\n",
    "print ('Min amplitude of model: {0:.4}'.format(min_ddf_NW))\n",
    "print ('Mean amplitude of model: {0:.4}'.format(mean_ddf_NW))"
   ]
  },
  {
   "cell_type": "code",
   "execution_count": 32,
   "metadata": {
    "collapsed": true
   },
   "outputs": [],
   "source": [
    "delta_max, delta_min = get_time_lag(tmimi, time_min, tmima, time_max)"
   ]
  },
  {
   "cell_type": "code",
   "execution_count": 33,
   "metadata": {
    "collapsed": false
   },
   "outputs": [
    {
     "data": {
      "text/plain": [
       "[-30, -30, 30, 30, -30, 30, -30, 30, 30, 30, 30, -30, 30, 30]"
      ]
     },
     "execution_count": 33,
     "metadata": {},
     "output_type": "execute_result"
    }
   ],
   "source": [
    "delta_max"
   ]
  },
  {
   "cell_type": "code",
   "execution_count": 34,
   "metadata": {
    "collapsed": false
   },
   "outputs": [
    {
     "data": {
      "text/plain": [
       "[30, 30, -30, 30, 30, 30, -30, 30, 30, 30, 30, 30, 30, 30]"
      ]
     },
     "execution_count": 34,
     "metadata": {},
     "output_type": "execute_result"
    }
   ],
   "source": [
    "delta_min"
   ]
  },
  {
   "cell_type": "markdown",
   "metadata": {},
   "source": [
    "* Mission"
   ]
  },
  {
   "cell_type": "code",
   "execution_count": 35,
   "metadata": {
    "collapsed": true
   },
   "outputs": [],
   "source": [
    "## grid cell for Mission is [151, 108]\n",
    "mima, mimi, tmima, tmimi = readoff_stn_highlow_waterlevel_new(t_end, t_orig, 151, 108,ssh_mod, tt)"
   ]
  },
  {
   "cell_type": "code",
   "execution_count": 36,
   "metadata": {
    "collapsed": true
   },
   "outputs": [],
   "source": [
    "##combine both max and min water level for MISIION\n",
    "ssh_model = []\n",
    "ssh_model.append(mima)\n",
    "ssh_model.append(mimi)"
   ]
  },
  {
   "cell_type": "code",
   "execution_count": 37,
   "metadata": {
    "collapsed": false
   },
   "outputs": [
    {
     "data": {
      "text/plain": [
       "[4.3536972968284227,\n",
       " 4.5271593285357854,\n",
       " 4.8129319205997501,\n",
       " 4.8998291567554624,\n",
       " 4.7059693517960266,\n",
       " 4.4907246205437517,\n",
       " 4.160173452432387,\n",
       " 3.7763332288096265,\n",
       " 3.3226468431668028,\n",
       " 3.0950971162851095,\n",
       " 3.362899142613248,\n",
       " 3.5344768227554679,\n",
       " 3.6676098981241534,\n",
       " 3.8545220855652813]"
      ]
     },
     "execution_count": 37,
     "metadata": {},
     "output_type": "execute_result"
    }
   ],
   "source": [
    "df = print_out_diff_wl(mima, mimi)\n",
    "df"
   ]
  },
  {
   "cell_type": "code",
   "execution_count": 38,
   "metadata": {
    "collapsed": false
   },
   "outputs": [
    {
     "name": "stdout",
     "output_type": "stream",
     "text": [
      "Max amplitude of model: 1.493\n",
      "Min amplitude of model: 0.9434\n",
      "Mean amplitude of model: 1.231\n"
     ]
    }
   ],
   "source": [
    "## average, max and min of the tidal amplitude at Mission\n",
    "ddf = np.array(df)\n",
    "mean_ddf_MI = np.mean(ddf)* 0.3048\n",
    "max_ddf_MI = np.max(ddf)* 0.3048\n",
    "min_ddf_MI = np.min(ddf)* 0.3048\n",
    "print ('Max amplitude of model: {0:.4}'.format(max_ddf_MI))\n",
    "print ('Min amplitude of model: {0:.4}'.format(min_ddf_MI))\n",
    "print ('Mean amplitude of model: {0:.4}'.format(mean_ddf_MI))"
   ]
  },
  {
   "cell_type": "code",
   "execution_count": 39,
   "metadata": {
    "collapsed": true
   },
   "outputs": [],
   "source": [
    "delta_max, delta_min = get_time_lag(tmimi, time_min, tmima, time_max)"
   ]
  },
  {
   "cell_type": "code",
   "execution_count": 40,
   "metadata": {
    "collapsed": false
   },
   "outputs": [
    {
     "data": {
      "text/plain": [
       "[150, 90, 150, 150, 90, 150, 150, 150, 150, 150, 150, 150, 150, 150]"
      ]
     },
     "execution_count": 40,
     "metadata": {},
     "output_type": "execute_result"
    }
   ],
   "source": [
    "delta_max"
   ]
  },
  {
   "cell_type": "code",
   "execution_count": 41,
   "metadata": {
    "collapsed": false
   },
   "outputs": [
    {
     "data": {
      "text/plain": [
       "[210,\n",
       " 150,\n",
       " -1230,\n",
       " -1230,\n",
       " -1290,\n",
       " -1230,\n",
       " -1290,\n",
       " 150,\n",
       " 150,\n",
       " 210,\n",
       " 210,\n",
       " 270,\n",
       " 210,\n",
       " 210]"
      ]
     },
     "execution_count": 41,
     "metadata": {},
     "output_type": "execute_result"
    }
   ],
   "source": [
    "delta_min"
   ]
  },
  {
   "cell_type": "markdown",
   "metadata": {},
   "source": [
    "* Edge of model domain"
   ]
  },
  {
   "cell_type": "code",
   "execution_count": 59,
   "metadata": {
    "collapsed": true
   },
   "outputs": [],
   "source": [
    "## grid cell for edge of new river treatment with Mission at 8m is [151, 136]\n",
    "mima, mimi, tmima, tmimi = readoff_stn_highlow_waterlevel_new(t_end, t_orig, 151, 136,ssh_mod, tt)"
   ]
  },
  {
   "cell_type": "code",
   "execution_count": 60,
   "metadata": {
    "collapsed": true
   },
   "outputs": [],
   "source": [
    "##combine both max and min water level for edge of model domain\n",
    "ssh_model = []\n",
    "ssh_model.append(mima)\n",
    "ssh_model.append(mimi)"
   ]
  },
  {
   "cell_type": "code",
   "execution_count": 61,
   "metadata": {
    "collapsed": false
   },
   "outputs": [
    {
     "data": {
      "text/plain": [
       "[3.5676766881166788,\n",
       " 3.8478584114335028,\n",
       " 4.0774137329241729,\n",
       " 4.1149208551942529,\n",
       " 3.9640280205433758,\n",
       " 3.7283737828412384,\n",
       " 3.4929808043432367,\n",
       " 3.1585322590324818,\n",
       " 2.7696416759741265,\n",
       " 2.6125099089514876,\n",
       " 2.7810776327538687,\n",
       " 2.9651112756704094,\n",
       " 3.038983488958964,\n",
       " 3.175069810211502]"
      ]
     },
     "execution_count": 61,
     "metadata": {},
     "output_type": "execute_result"
    }
   ],
   "source": [
    "df = print_out_diff_wl(mima, mimi)\n",
    "df"
   ]
  },
  {
   "cell_type": "code",
   "execution_count": 62,
   "metadata": {
    "collapsed": false
   },
   "outputs": [
    {
     "name": "stdout",
     "output_type": "stream",
     "text": [
      "Max amplitude of model: 1.254\n",
      "Min amplitude of model: 0.7963\n",
      "Mean amplitude of model: 1.03\n"
     ]
    }
   ],
   "source": [
    "## average, max and min of the tidal amplitude at edge of model domain with Mission of 8m\n",
    "ddf = np.array(df)\n",
    "mean_ddf_MI = np.mean(ddf)* 0.3048\n",
    "max_ddf_MI = np.max(ddf)* 0.3048\n",
    "min_ddf_MI = np.min(ddf)* 0.3048\n",
    "print ('Max amplitude of model: {0:.4}'.format(max_ddf_MI))\n",
    "print ('Min amplitude of model: {0:.4}'.format(min_ddf_MI))\n",
    "print ('Mean amplitude of model: {0:.4}'.format(mean_ddf_MI))"
   ]
  },
  {
   "cell_type": "code",
   "execution_count": 63,
   "metadata": {
    "collapsed": true
   },
   "outputs": [],
   "source": [
    "delta_max, delta_min = get_time_lag(tmimi, time_min, tmima, time_max)"
   ]
  },
  {
   "cell_type": "code",
   "execution_count": 64,
   "metadata": {
    "collapsed": false
   },
   "outputs": [
    {
     "data": {
      "text/plain": [
       "[150, 150, 150, 150, 150, 150, 150, 210, 150, 210, 150, 150, 210, 150]"
      ]
     },
     "execution_count": 64,
     "metadata": {},
     "output_type": "execute_result"
    }
   ],
   "source": [
    "delta_max"
   ]
  },
  {
   "cell_type": "code",
   "execution_count": 65,
   "metadata": {
    "collapsed": false
   },
   "outputs": [
    {
     "data": {
      "text/plain": [
       "[210,\n",
       " -1170,\n",
       " -1230,\n",
       " -1230,\n",
       " -1230,\n",
       " -1230,\n",
       " -1230,\n",
       " 150,\n",
       " 150,\n",
       " 270,\n",
       " 210,\n",
       " 270,\n",
       " 270,\n",
       " 210]"
      ]
     },
     "execution_count": 65,
     "metadata": {},
     "output_type": "execute_result"
    }
   ],
   "source": [
    "delta_min"
   ]
  },
  {
   "cell_type": "markdown",
   "metadata": {},
   "source": [
    "* Shallowing Mission to 8 m decreased tidal height at Mission to about 1.2m, still around 0.9 m higher than observations, for Steveston Jetty is good, for Deas Island and New West, still 0.5m and 0.3m higher respectively. In a combination of Mission to 3 m where the tidal height at Mission is around 0.13 m which is 0.2 m lower than observations, the bathymetry after New West should be tunned around to 5m."
   ]
  },
  {
   "cell_type": "code",
   "execution_count": 75,
   "metadata": {
    "collapsed": false
   },
   "outputs": [
    {
     "data": {
      "text/plain": [
       "(336, 170, 138)"
      ]
     },
     "execution_count": 75,
     "metadata": {},
     "output_type": "execute_result"
    }
   ],
   "source": [
    "ssh= grid_T.variables['sossheig'][:]"
   ]
  },
  {
   "cell_type": "code",
   "execution_count": 70,
   "metadata": {
    "collapsed": false
   },
   "outputs": [
    {
     "data": {
      "text/plain": [
       "<matplotlib.colorbar.Colorbar instance at 0x7f9f93651998>"
      ]
     },
     "execution_count": 70,
     "metadata": {},
     "output_type": "execute_result"
    },
    {
     "data": {
      "image/png": "[encoded data removed]",
      "text/plain": [
       "<matplotlib.figure.Figure at 0x7f9f856d35d0>"
      ]
     },
     "metadata": {},
     "output_type": "display_data"
    }
   ],
   "source": [
    "plt.pcolormesh(ssh[330, :,:],vmin=0, vmax=2)\n",
    "plt.colorbar()"
   ]
  },
  {
   "cell_type": "code",
   "execution_count": 74,
   "metadata": {
    "collapsed": false
   },
   "outputs": [
    {
     "data": {
      "text/plain": [
       "(336, 170, 138)"
      ]
     },
     "execution_count": 74,
     "metadata": {},
     "output_type": "execute_result"
    }
   ],
   "source": [
    "sshh= grid_TT.variables['sossheig'][:]"
   ]
  },
  {
   "cell_type": "code",
   "execution_count": 71,
   "metadata": {
    "collapsed": false
   },
   "outputs": [
    {
     "data": {
      "text/plain": [
       "<matplotlib.colorbar.Colorbar instance at 0x7f9f85699950>"
      ]
     },
     "execution_count": 71,
     "metadata": {},
     "output_type": "execute_result"
    },
    {
     "data": {
      "image/png": "[encoded data removed]",
      "text/plain": [
       "<matplotlib.figure.Figure at 0x7f9f856f1910>"
      ]
     },
     "metadata": {},
     "output_type": "display_data"
    }
   ],
   "source": [
    "plt.pcolormesh(sshh[330, :,:],vmin=0, vmax=2)\n",
    "plt.colorbar()"
   ]
  },
  {
   "cell_type": "code",
   "execution_count": 79,
   "metadata": {
    "collapsed": false
   },
   "outputs": [
    {
     "data": {
      "text/plain": [
       "array([ 6.38340378,  6.36870193,  6.35513306,  6.34521961,  6.33877468,\n",
       "        6.33911419], dtype=float32)"
      ]
     },
     "execution_count": 79,
     "metadata": {},
     "output_type": "execute_result"
    }
   ],
   "source": [
    "ssh[330:336, 151, 136]"
   ]
  },
  {
   "cell_type": "code",
   "execution_count": 80,
   "metadata": {
    "collapsed": false
   },
   "outputs": [
    {
     "data": {
      "text/plain": [
       "array([ 0.63660055,  0.43351197,  0.31260461,  0.33720028,  0.58867419,\n",
       "        1.13223374], dtype=float32)"
      ]
     },
     "execution_count": 80,
     "metadata": {},
     "output_type": "execute_result"
    }
   ],
   "source": [
    "sshh[330:336, 151, 136]"
   ]
  },
  {
   "cell_type": "code",
   "execution_count": null,
   "metadata": {
    "collapsed": true
   },
   "outputs": [],
   "source": []
  }
 ],
 "metadata": {
  "anaconda-cloud": {},
  "kernelspec": {
   "display_name": "Python [Root]",
   "language": "python",
   "name": "Python [Root]"
  },
  "language_info": {
   "codemirror_mode": {
    "name": "ipython",
    "version": 3
   },
   "file_extension": ".py",
   "mimetype": "text/x-python",
   "name": "python",
   "nbconvert_exporter": "python",
   "pygments_lexer": "ipython3",
   "version": "3.5.2"
  }
 },
 "nbformat": 4,
 "nbformat_minor": 0
}
