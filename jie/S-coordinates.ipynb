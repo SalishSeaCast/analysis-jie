{
 "cells": [
  {
   "cell_type": "code",
   "execution_count": 20,
   "metadata": {
    "collapsed": true
   },
   "outputs": [],
   "source": [
    "import matplotlib.pyplot as plt\n",
    "import numpy as np\n",
    "%matplotlib inline"
   ]
  },
  {
   "cell_type": "code",
   "execution_count": 15,
   "metadata": {
    "collapsed": false
   },
   "outputs": [],
   "source": [
    "theta = 5; theta_b=0.8\n",
    "s = np.arange(-1, 1/19., 1/19.)"
   ]
  },
  {
   "cell_type": "code",
   "execution_count": 16,
   "metadata": {
    "collapsed": false
   },
   "outputs": [],
   "source": [
    "C = (1-theta_b)*np.sinh(theta*s)/np.sinh(theta) + theta_b * (\n",
    "    (np.tanh(theta*(s+0.5)) - np.tanh(theta/2)) / (2 *np.tanh(theta/2)) )"
   ]
  },
  {
   "cell_type": "code",
   "execution_count": 18,
   "metadata": {
    "collapsed": false
   },
   "outputs": [],
   "source": [
    "hs = 0\n",
    "z = hs + (15-hs)*C"
   ]
  },
  {
   "cell_type": "code",
   "execution_count": 19,
   "metadata": {
    "collapsed": false
   },
   "outputs": [
    {
     "data": {
      "text/plain": [
       "array([ -1.50000000e+01,  -1.42500377e+01,  -1.36232252e+01,\n",
       "        -1.30585376e+01,  -1.24906096e+01,  -1.18444297e+01,\n",
       "        -1.10354450e+01,  -9.98334323e+00,  -8.64752098e+00,\n",
       "        -7.07504194e+00,  -5.41841275e+00,  -3.88030414e+00,\n",
       "        -2.61561674e+00,  -1.67636899e+00,  -1.02981805e+00,\n",
       "        -6.06965479e-01,  -3.38814004e-01,  -1.71232044e-01,\n",
       "        -6.65139153e-02,  -8.99600365e-16])"
      ]
     },
     "execution_count": 19,
     "metadata": {},
     "output_type": "execute_result"
    }
   ],
   "source": [
    "z"
   ]
  },
  {
   "cell_type": "code",
   "execution_count": 21,
   "metadata": {
    "collapsed": false
   },
   "outputs": [
    {
     "data": {
      "text/plain": [
       "[<matplotlib.lines.Line2D at 0x7fc68070ea58>]"
      ]
     },
     "execution_count": 21,
     "metadata": {},
     "output_type": "execute_result"
    },
    {
     "data": {
      "image/png": "[encoded data removed]",
      "text/plain": [
       "<matplotlib.figure.Figure at 0x7fc689ffae48>"
      ]
     },
     "metadata": {},
     "output_type": "display_data"
    }
   ],
   "source": [
    "plt.plot(s, z, '-o')"
   ]
  },
  {
   "cell_type": "markdown",
   "metadata": {},
   "source": [
    "With an average resolution of 0.5 m in the upper 4 m in a depth of 15 m."
   ]
  },
  {
   "cell_type": "code",
   "execution_count": 26,
   "metadata": {
    "collapsed": false
   },
   "outputs": [
    {
     "data": {
      "text/plain": [
       "array([ -1.00000000e+02,  -9.50002515e+01,  -9.08215013e+01,\n",
       "        -8.70569170e+01,  -8.32707310e+01,  -7.89628644e+01,\n",
       "        -7.35696332e+01,  -6.65556216e+01,  -5.76501399e+01,\n",
       "        -4.71669463e+01,  -3.61227517e+01,  -2.58686943e+01,\n",
       "        -1.74374449e+01,  -1.11757933e+01,  -6.86545370e+00,\n",
       "        -4.04643652e+00,  -2.25876003e+00,  -1.14154696e+00,\n",
       "        -4.43426102e-01,  -5.99733576e-15])"
      ]
     },
     "execution_count": 26,
     "metadata": {},
     "output_type": "execute_result"
    }
   ],
   "source": [
    "z = hs + (100-hs)*C\n",
    "z"
   ]
  },
  {
   "cell_type": "markdown",
   "metadata": {},
   "source": [
    "Dropping to an average resolution of 1 m in the upper 4 m in a depth of 100 m."
   ]
  },
  {
   "cell_type": "code",
   "execution_count": null,
   "metadata": {
    "collapsed": true
   },
   "outputs": [],
   "source": []
  }
 ],
 "metadata": {
  "kernelspec": {
   "display_name": "Python 3",
   "language": "python",
   "name": "python3"
  },
  "language_info": {
   "codemirror_mode": {
    "name": "ipython",
    "version": 3
   },
   "file_extension": ".py",
   "mimetype": "text/x-python",
   "name": "python",
   "nbconvert_exporter": "python",
   "pygments_lexer": "ipython3",
   "version": "3.5.2"
  }
 },
 "nbformat": 4,
 "nbformat_minor": 0
}
