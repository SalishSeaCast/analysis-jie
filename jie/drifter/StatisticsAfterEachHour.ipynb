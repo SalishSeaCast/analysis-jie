{
 "cells": [
  {
   "cell_type": "markdown",
   "metadata": {},
   "source": [
    "* Statistics of distance after every one hour between drifter and particle."
   ]
  },
  {
   "cell_type": "code",
   "execution_count": 1,
   "metadata": {
    "collapsed": true
   },
   "outputs": [],
   "source": [
    "import matplotlib.pyplot as plt\n",
    "import netCDF4 as nc\n",
    "import numpy as np\n",
    "from salishsea_tools import (nc_tools,viz_tools,bathy_tools,tidetools,geo_tools)\n",
    "import matplotlib.cm as cm\n",
    "import scipy.io\n",
    "import os\n",
    "import datetime as dt\n",
    "\n",
    "import seaborn as sns\n",
    "sns.set(style=\"whitegrid\")\n",
    "sns.set_context(\"notebook\", font_scale=1.7, rc={\"lines.linewidth\": 2.5})\n",
    "%matplotlib inline"
   ]
  },
  {
   "cell_type": "code",
   "execution_count": 2,
   "metadata": {
    "collapsed": true
   },
   "outputs": [],
   "source": [
    "grid1 = nc.Dataset('/ocean/jieliu/research/meopar/nemo-forcing/grid/bathy_meter_SalishSea2.nc')\n",
    "grid2 = nc.Dataset('/ocean/jieliu/research/meopar/river-treatment/bathy_meter_SalishSea6.nc','r')\n",
    "bath = {}; lons = {};lats = {}\n",
    "for grid,na in zip([grid1,grid2],['bathy2','bathy6']):\n",
    "    bathy, X, Y = tidetools.get_bathy_data(grid)\n",
    "    lats[na] = grid.variables['nav_lat']\n",
    "    lons[na] = grid.variables['nav_lon']\n",
    "    bath[na] = grid.variables['Bathymetry']"
   ]
  },
  {
   "cell_type": "markdown",
   "metadata": {},
   "source": [
    "* load particle"
   ]
  },
  {
   "cell_type": "code",
   "execution_count": 3,
   "metadata": {
    "collapsed": false
   },
   "outputs": [
    {
     "name": "stdout",
     "output_type": "stream",
     "text": [
      "/ocean/jieliu/research/meopar/Ariane/result/oct8_10Onehour/drop1/12/ariane_trajectories_qualitative.nc\n",
      "/ocean/jieliu/research/meopar/Ariane/result/oct8_10RFdailySmooOnehour/drop1/12/ariane_trajectories_qualitative.nc\n",
      "/ocean/jieliu/research/meopar/Ariane/result/oct8_10reduceviscosityOnehour/drop1/12/ariane_trajectories_qualitative.nc\n",
      "/ocean/jieliu/research/meopar/Ariane/result/oct8_101e061e05Onehour/drop1/12/ariane_trajectories_qualitative.nc\n"
     ]
    }
   ],
   "source": [
    "drop = 'drop1/12'\n",
    "runs=['oct8_10Onehour','oct8_10RFdailySmooOnehour','oct8_10reduceviscosityOnehour','oct8_101e061e05Onehour']\n",
    "strings = ['Baseline', 'LongerRiver', 'LongRiver+LowerViscosity', 'LongerRiver+ReduceBoth']\n",
    "base='/ocean/jieliu/research/meopar/Ariane/result/'\n",
    "file_pattern = 'ariane_trajectories_qualitative.nc'\n",
    "lon112 = {}; lat112={}; d = {}\n",
    "for run, string in zip(runs,strings):\n",
    "    path = os.path.join(base,run, drop,file_pattern)\n",
    "    print(path)\n",
    "    f = nc.Dataset(path,'r');\n",
    "    lon112[string] = f.variables['traj_lon']\n",
    "    lat112[string] = f.variables['traj_lat']\n",
    "    d[string] = {}"
   ]
  },
  {
   "cell_type": "code",
   "execution_count": 4,
   "metadata": {
    "collapsed": false
   },
   "outputs": [
    {
     "name": "stdout",
     "output_type": "stream",
     "text": [
      "/ocean/jieliu/research/meopar/Ariane/result/oct8_10Onehour/drop1/3/ariane_trajectories_qualitative.nc\n",
      "/ocean/jieliu/research/meopar/Ariane/result/oct8_10RFdailySmooOnehour/drop1/3/ariane_trajectories_qualitative.nc\n",
      "/ocean/jieliu/research/meopar/Ariane/result/oct8_10reduceviscosityOnehour/drop1/3/ariane_trajectories_qualitative.nc\n",
      "/ocean/jieliu/research/meopar/Ariane/result/oct8_101e061e05Onehour/drop1/3/ariane_trajectories_qualitative.nc\n"
     ]
    }
   ],
   "source": [
    "drop = 'drop1/3'\n",
    "runs=['oct8_10Onehour','oct8_10RFdailySmooOnehour','oct8_10reduceviscosityOnehour','oct8_101e061e05Onehour']\n",
    "strings = ['Baseline', 'LongerRiver', 'LongRiver+LowerViscosity', 'LongerRiver+ReduceBoth']\n",
    "base='/ocean/jieliu/research/meopar/Ariane/result/'\n",
    "file_pattern = 'ariane_trajectories_qualitative.nc'\n",
    "lon13 = {}; lat13={};\n",
    "for run, string in zip(runs,strings):\n",
    "    path = os.path.join(base,run, drop,file_pattern)\n",
    "    print(path)\n",
    "    f = nc.Dataset(path,'r');\n",
    "    lon13[string] = f.variables['traj_lon']\n",
    "    lat13[string] = f.variables['traj_lat']"
   ]
  },
  {
   "cell_type": "code",
   "execution_count": 10,
   "metadata": {
    "collapsed": true
   },
   "outputs": [],
   "source": [
    "drop = 'drop2/12'\n",
    "runs=['oct8_10Onehour','oct8_10RFdailySmooOnehour','oct8_10reduceviscosityOnehour','oct8_101e061e05Onehour']\n",
    "strings = ['Baseline', 'LongerRiver', 'LongRiver+LowerViscosity', 'LongerRiver+ReduceBoth']\n",
    "base='/ocean/jieliu/research/meopar/Ariane/result/'\n",
    "file_pattern = 'ariane_trajectories_qualitative.nc'\n",
    "lon212 = {}; lat212={}; \n",
    "for run, string in zip(runs,strings):\n",
    "    path = os.path.join(base,run, drop,file_pattern)\n",
    "    f = nc.Dataset(path,'r');\n",
    "    lon212[string] = f.variables['traj_lon']\n",
    "    lat212[string] = f.variables['traj_lat']"
   ]
  },
  {
   "cell_type": "code",
   "execution_count": 11,
   "metadata": {
    "collapsed": true
   },
   "outputs": [],
   "source": [
    "drop = 'drop2/3'\n",
    "runs=['oct8_10Onehour','oct8_10RFdailySmooOnehour','oct8_10reduceviscosityOnehour','oct8_101e061e05Onehour']\n",
    "strings = ['Baseline', 'LongerRiver', 'LongRiver+LowerViscosity', 'LongerRiver+ReduceBoth']\n",
    "base='/ocean/jieliu/research/meopar/Ariane/result/'\n",
    "file_pattern = 'ariane_trajectories_qualitative.nc'\n",
    "lon23 = {}; lat23={};\n",
    "for run, string in zip(runs,strings):\n",
    "    path = os.path.join(base,run, drop,file_pattern)\n",
    "    f = nc.Dataset(path,'r');\n",
    "    lon23[string] = f.variables['traj_lon']\n",
    "    lat23[string] = f.variables['traj_lat']"
   ]
  },
  {
   "cell_type": "code",
   "execution_count": 12,
   "metadata": {
    "collapsed": false
   },
   "outputs": [],
   "source": [
    "drop = 'drop3/1'\n",
    "runs=['oct8_10Onehour','oct8_10RFdailySmooOnehour','oct8_10reduceviscosityOnehour','oct8_101e061e05Onehour']\n",
    "strings = ['Baseline', 'LongerRiver', 'LongRiver+LowerViscosity', 'LongerRiver+ReduceBoth']\n",
    "base='/ocean/jieliu/research/meopar/Ariane/result/'\n",
    "file_pattern = 'ariane_trajectories_qualitative.nc'\n",
    "lon31 = {}; lat31={}; \n",
    "for run, string in zip(runs,strings):\n",
    "    path = os.path.join(base,run, drop,file_pattern)\n",
    "    f = nc.Dataset(path,'r');\n",
    "    lon31[string] = f.variables['traj_lon']\n",
    "    lat31[string] = f.variables['traj_lat']"
   ]
  },
  {
   "cell_type": "code",
   "execution_count": 13,
   "metadata": {
    "collapsed": false
   },
   "outputs": [],
   "source": [
    "drop = 'drop3/23'\n",
    "runs=['oct8_10Onehour','oct8_10RFdailySmooOnehour','oct8_10reduceviscosityOnehour','oct8_101e061e05Onehour']\n",
    "strings = ['Baseline', 'LongerRiver', 'LongRiver+LowerViscosity', 'LongerRiver+ReduceBoth']\n",
    "base='/ocean/jieliu/research/meopar/Ariane/result/'\n",
    "file_pattern = 'ariane_trajectories_qualitative.nc'\n",
    "lon323 = {}; lat323={};\n",
    "for run, string in zip(runs,strings):\n",
    "    path = os.path.join(base,run, drop,file_pattern)\n",
    "    f = nc.Dataset(path,'r');\n",
    "    lon323[string] = f.variables['traj_lon']\n",
    "    lat323[string] = f.variables['traj_lat']"
   ]
  },
  {
   "cell_type": "markdown",
   "metadata": {},
   "source": [
    "* build functions"
   ]
  },
  {
   "cell_type": "code",
   "execution_count": 14,
   "metadata": {
    "collapsed": false
   },
   "outputs": [],
   "source": [
    "namelists = ['112a','112b','13','212a','212b','23','31','323a','323b']\n",
    "for string in strings:\n",
    "    for name in namelists:\n",
    "        d[string][name] = []"
   ]
  },
  {
   "cell_type": "code",
   "execution_count": 15,
   "metadata": {
    "collapsed": true
   },
   "outputs": [],
   "source": [
    "def calculate_distance(d,textname, na, strings,lon112,lat112,duration,name):\n",
    "    \"\"\"\n",
    "    textname: e.g., 112a.txt\n",
    "    na: bathy2 or 6\n",
    "    strings: specify run case\n",
    "    lon112: specify which run particle\n",
    "    duration: if 0, then name should contain letter 'a', if not 0, then 'b'\n",
    "    name: e.g., 112a, 112b and etc\n",
    "    return: distance between drifter and particle after every one hour for a specific run case, like 'Baseline'\n",
    "    \"\"\"\n",
    "    file = np.loadtxt(textname)\n",
    "    for string in strings:\n",
    "        for i in range(1, len(file)):\n",
    "            distance= geo_tools.haversine(lons[na][file[i,1]-1,file[i,0]-1], lats[na][file[i,1]-1,file[i,0]-1],\n",
    "                                   lon112[string][1,i-1+duration],lat112[string][1,i-1+duration])\n",
    "            #print(string, name)\n",
    "            d[string][name].append(distance)\n",
    "    return d"
   ]
  },
  {
   "cell_type": "code",
   "execution_count": 16,
   "metadata": {
    "collapsed": false
   },
   "outputs": [
    {
     "data": {
      "text/plain": [
       "(2, 24)"
      ]
     },
     "execution_count": 16,
     "metadata": {},
     "output_type": "execute_result"
    }
   ],
   "source": [
    "lon23['Baseline'].shape"
   ]
  },
  {
   "cell_type": "code",
   "execution_count": 17,
   "metadata": {
    "collapsed": false
   },
   "outputs": [
    {
     "data": {
      "text/plain": [
       "(2, 24)"
      ]
     },
     "execution_count": 17,
     "metadata": {},
     "output_type": "execute_result"
    }
   ],
   "source": [
    "lon23['LongerRiver'].shape"
   ]
  },
  {
   "cell_type": "code",
   "execution_count": 18,
   "metadata": {
    "collapsed": false
   },
   "outputs": [],
   "source": [
    "## \n",
    "d = calculate_distance(d, '112a.txt','bathy6',strings, lon112,lat112,0,'112a')\n",
    "d = calculate_distance(d, '112b.txt','bathy6',strings, lon112,lat112,28,'112b')\n",
    "d = calculate_distance(d, '13.txt','bathy6',strings, lon13,lat13,0,'13')\n",
    "##\n",
    "#d = calculate_distance(d, '212a.txt','bathy6',strings, lon212a,lat212a,0,'212a')\n",
    "#d = calculate_distance(d, '212b.txt','bathy6',strings, lon212a,lat212a,0,'212b')\n",
    "d = calculate_distance(d, '23.txt','bathy6',strings, lon23,lat23,0,'23')\n",
    "##\n",
    "d = calculate_distance(d, '31.txt','bathy6',strings, lon31,lat31,0,'31')\n",
    "d = calculate_distance(d, '323a.txt','bathy6',strings, lon323,lat323,0,'323a')\n",
    "d = calculate_distance(d, '323b.txt','bathy6',strings, lon323,lat323,23,'323b')"
   ]
  },
  {
   "cell_type": "code",
   "execution_count": 19,
   "metadata": {
    "collapsed": false
   },
   "outputs": [],
   "source": [
    "sum_number = {};mean_distance = {};stde_distance = {}\n",
    "for string in strings:\n",
    "    sum_number[string] = []\n",
    "    mean_distance[string] = []\n",
    "    stde_distance[string] = []"
   ]
  },
  {
   "cell_type": "code",
   "execution_count": 20,
   "metadata": {
    "collapsed": false
   },
   "outputs": [],
   "source": [
    "s = {}\n",
    "each_item = {}\n",
    "for string in strings:\n",
    "    s[string] = 0\n",
    "    each_item[string] = []\n",
    "    for key in d[string].keys():\n",
    "        sum_number[string].append(len(d[string][key])) ## sum up numbers of distances in each particle\n",
    "        for distance in d[string][key]:\n",
    "            s[string] = s[string]+ distance\n",
    "            each_item[string].append(distance)\n",
    "        \n",
    "    mean_distance[string] = s[string]/sum(sum_number[string])\n",
    "    stde_distance[string] = np.std(each_item[string])/np.sqrt(sum(sum_number[string]))"
   ]
  },
  {
   "cell_type": "code",
   "execution_count": 23,
   "metadata": {
    "collapsed": false
   },
   "outputs": [
    {
     "data": {
      "image/png": "[encoded data removed]",
      "text/plain": [
       "<matplotlib.figure.Figure at 0x7fa328e2f208>"
      ]
     },
     "metadata": {},
     "output_type": "display_data"
    }
   ],
   "source": [
    "fig,ax = plt.subplots(1,1,figsize = (14,5))\n",
    "\n",
    "mean_dists = [mean_distance['Baseline'],mean_distance['LongerRiver'],\n",
    "              mean_distance['LongRiver+LowerViscosity'],mean_distance['LongerRiver+ReduceBoth']]\n",
    "ind = np.arange(len(mean_dists))\n",
    "width = 0.35\n",
    "\n",
    "colors = ['b','Indigo','SeaGreen','r']\n",
    "std_dists = [stde_distance['Baseline'],stde_distance['LongerRiver'],\n",
    "             stde_distance['LongRiver+LowerViscosity'],stde_distance['LongerRiver+ReduceBoth']]\n",
    "diff_dist = ax.bar(ind, mean_dists, width,color=colors,alpha=0.5)\n",
    "for pos, y, err, color in zip(ind, mean_dists, std_dists, colors):\n",
    "    ax.errorbar(pos+width/2, y, err, lw=2, capsize=5, capthick=2, color=color)\n",
    "ax.set_ylabel('Distance (km)')\n",
    "ax.set_xticks(ind+width/2)\n",
    "#ax.set_xticklabels('Baseline', 'Lower Viscosity' )\n",
    "plt.show()"
   ]
  },
  {
   "cell_type": "code",
   "execution_count": 22,
   "metadata": {
    "collapsed": false
   },
   "outputs": [
    {
     "name": "stdout",
     "output_type": "stream",
     "text": [
      "Baseline 1.41087468902\n",
      "0.0749905908345\n",
      "LongRiver+LowerViscosity 1.33234940789\n",
      "0.0717323681372\n"
     ]
    }
   ],
   "source": [
    "na = 'bathy6'\n",
    "file = np.loadtxt('112a.txt')\n",
    "for string in strings:\n",
    "    for i in range(1, len(file)):\n",
    "        distance= geo_tools.haversine(lons[na][file[i,1]-1,file[i,0]-1], lats[na][file[i,1]-1,file[i,0]-1],\n",
    "                               lon112[string][1,i-1],lat112[string][1,i-1])\n",
    "        d[string]['112a'].append(distance)\n",
    "        #print(i,file[i,1]-1, file[i,0]-1, d)\n",
    "\n"
   ]
  },
  {
   "cell_type": "code",
   "execution_count": 15,
   "metadata": {
    "collapsed": false
   },
   "outputs": [
    {
     "data": {
      "text/plain": [
       "[1.398303871300808, 1.4171031308298916]"
      ]
     },
     "execution_count": 15,
     "metadata": {},
     "output_type": "execute_result"
    }
   ],
   "source": [
    "mean_dists"
   ]
  },
  {
   "cell_type": "code",
   "execution_count": 18,
   "metadata": {
    "collapsed": false
   },
   "outputs": [
    {
     "data": {
      "text/plain": [
       "144"
      ]
     },
     "execution_count": 18,
     "metadata": {},
     "output_type": "execute_result"
    }
   ],
   "source": [
    "96+24+24"
   ]
  },
  {
   "cell_type": "code",
   "execution_count": null,
   "metadata": {
    "collapsed": true
   },
   "outputs": [],
   "source": []
  }
 ],
 "metadata": {
  "anaconda-cloud": {},
  "kernelspec": {
   "display_name": "Python [Root]",
   "language": "python",
   "name": "Python [Root]"
  },
  "language_info": {
   "codemirror_mode": {
    "name": "ipython",
    "version": 3
   },
   "file_extension": ".py",
   "mimetype": "text/x-python",
   "name": "python",
   "nbconvert_exporter": "python",
   "pygments_lexer": "ipython3",
   "version": "3.5.2"
  }
 },
 "nbformat": 4,
 "nbformat_minor": 0
}
