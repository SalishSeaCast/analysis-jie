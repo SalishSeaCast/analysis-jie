{
 "cells": [
  {
   "cell_type": "markdown",
   "metadata": {},
   "source": [
    "* Plot the spatial salinity pattern at peak ebbs with and without Coriolis force."
   ]
  },
  {
   "cell_type": "code",
   "execution_count": 18,
   "metadata": {
    "collapsed": true
   },
   "outputs": [],
   "source": [
    "import numpy as np\n",
    "import netCDF4 as nc\n",
    "from salishsea_tools import (nc_tools,viz_tools,tidetools,geo_tools)\n",
    "import matplotlib.pyplot as plt\n",
    "import StraTimeSeries as sts\n",
    "import R_mixStuff as RS\n",
    "import warnings\n",
    "warnings.filterwarnings(\"ignore\")\n",
    "import seaborn as sns\n",
    "sns.set(style=\"whitegrid\")\n",
    "sns.set_context(\"notebook\", font_scale=2., rc={\"lines.linewidth\": 2.5})\n",
    "%matplotlib inline"
   ]
  },
  {
   "cell_type": "code",
   "execution_count": 2,
   "metadata": {
    "collapsed": true
   },
   "outputs": [],
   "source": [
    "grid6 = nc.Dataset('/ocean/jieliu/research/meopar/river-treatment/bathy_meter_SalishSea6.nc')\n",
    "X = grid6.variables['nav_lon'][:, :]\n",
    "Y = grid6.variables['nav_lat'][:, :]\n",
    "bathy = grid6.variables['Bathymetry'][:, :]\n",
    "## tmask\n",
    "mesh = nc.Dataset('/data/jieliu/MEOPAR/river-treatment/oct8_101e061e05/mesh_mask.nc')\n",
    "tmask = mesh.variables['tmask'][0,:,380:510,240:397]\n",
    "np_mask = np.abs(1-tmask) \n",
    "e3t = mesh.variables['e3t'][0,:,380:510,240:397]"
   ]
  },
  {
   "cell_type": "code",
   "execution_count": 3,
   "metadata": {
    "collapsed": true
   },
   "outputs": [],
   "source": [
    "## load grid_T model results\n",
    "octall_T = nc.Dataset('/data/jieliu/MEOPAR/SurfaceCurrent/Oct2014combineall/oct2014all_T.nc')\n",
    "mayall_T = nc.Dataset('/data/jieliu/MEOPAR/SurfaceCurrent/May2015combineall/may2015all_T.nc')\n",
    "janall_T = nc.Dataset('/data/jieliu/MEOPAR/SurfaceCurrent/Jan2016combineall/jan2016all_T.nc')\n",
    "\n",
    "octnof_T = nc.Dataset('/data/jieliu/MEOPAR/SurfaceCurrent/Oct2014nof/oct2014nof_T.nc')\n",
    "maynof_T = nc.Dataset('/data/jieliu/MEOPAR/SurfaceCurrent/May2015nof/may2015nof_T.nc')\n",
    "jannof_T = nc.Dataset('/data/jieliu/MEOPAR/SurfaceCurrent/Jan2016nof/jan2016nof_T.nc')"
   ]
  },
  {
   "cell_type": "code",
   "execution_count": 7,
   "metadata": {
    "collapsed": true
   },
   "outputs": [],
   "source": [
    "def determine_plume_method2_onlysalinity(grid_T,tst,ted,dep_ind):\n",
    "    \"\"\"Similar to method1, but this time the S_ref is the spatial mean \n",
    "    of the 2.5*2.5 km in the northern of my subdomain and not plot them, only get the\n",
    "    threshold salinity\"\"\"\n",
    "    S = grid_T.variables['vosaline']\n",
    "    lon = grid_T.variables['nav_lon']\n",
    "    lat = grid_T.variables['nav_lat']\n",
    "    S_aveN = np.nanmean(S[tst:ted,:,-5:,0:5],axis = 0) ## first temporal average of northern region\n",
    "    S_ref = np.nanmean(S_aveN[dep_ind]) ## then spatial average\n",
    "    S_thre = 1.14*S_ref-4.8\n",
    "    S_aveW = np.nanmean(S[tst:ted,dep_ind],axis = 0) ## temporal averaged of the whole domain\n",
    "    S_aveW = np.ma.masked_values(S_aveW, 0) ## mask 0 value\n",
    "    return S_thre, S_aveW"
   ]
  },
  {
   "cell_type": "code",
   "execution_count": 6,
   "metadata": {
    "collapsed": true
   },
   "outputs": [],
   "source": [
    "def Salinity(grid_T1,grid_T2,grid_U1,grid_U2,grid_V1,grid_V2,t1,t2,colormap,st,dep,cmin = -6,cmax = 6,ave = False):\n",
    "    \"\"\"Quiver velocity on top of surface salinity\"\"\"\n",
    "    fig,axs = plt.subplots(1,3,figsize=(20,6))\n",
    "    theta = np.pi*29/180\n",
    "    S = {};U = {};V= {}\n",
    "    for gridT, gridU,gridV,run, ax in zip([grid_T1,grid_T2],[grid_U1,grid_U2],[grid_V1,grid_V2],['all','nof'],[axs[0],axs[1]]):\n",
    "        lon = gridT.variables['nav_lon']\n",
    "        lat = gridT.variables['nav_lat']\n",
    "        if ave ==False:\n",
    "            S[run] =gridT.variables['vosaline'][t1,0]\n",
    "            S[run] = np.ma.masked_values(S[run],0)\n",
    "        else:\n",
    "            S[run] =np.ma.masked_values(np.nanmean(gridT.variables['vosaline'][t1:t2+1,0],axis = 0),0)\n",
    "            \n",
    "        mesh=ax.pcolormesh(lon,lat,S[run],vmin =0,vmax = 33,cmap=colormap) \n",
    "        cbar = fig.colorbar(mesh,ax = ax)\n",
    "        cbar.set_label('Practical Salinity')\n",
    "        if ave == False:\n",
    "            S_thre,W = determine_plume_method2_onlysalinity(gridT,t1,t1+1,dep)\n",
    "        else:\n",
    "            S_thre,W = determine_plume_method2_onlysalinity(gridT,t1,t2+1,dep)\n",
    "        CS3 = ax.contour(lon[:],lat[:],W, levels = [S_thre], colors='k',linewidths=(3,))\n",
    "        plt.clabel(CS3,fmt='%2.1f', colors='k',fontsize = 14)\n",
    "        viz_tools.plot_land_mask(ax,grid6,coords='map',color='burlywood')\n",
    "        viz_tools.plot_coastline(ax, grid6, coords = 'map')\n",
    "        ax.set_xlim([-124.,-122.8])\n",
    "        ax.set_xticks([-124,-123.6,-123.2,-122.8])\n",
    "        ax.set_xticklabels([-124,-123.6,-123.2,-122.8])\n",
    "        ax.set_ylim([48.9,49.5])\n",
    "        ## add minimum salinity plot if available\n",
    "    sal_diff = S['all'] - S['nof']\n",
    "    ax = axs[2]\n",
    "    mesh=ax.pcolormesh(lon,lat,sal_diff,cmap='RdBu_r',vmin=cmin, vmax=cmax)\n",
    "    cbar = fig.colorbar(mesh,ax = ax)\n",
    "    cbar.set_label('Difference of Practical Salinity')\n",
    "    viz_tools.plot_land_mask(ax,grid6,coords='map',color='burlywood')\n",
    "    viz_tools.plot_coastline(ax, grid6, coords = 'map')\n",
    "    ax.set_xlim([-124.,-122.8])\n",
    "    ax.set_xticks([-124,-123.6,-123.2,-122.8])\n",
    "    ax.set_xticklabels([-124,-123.6,-123.2,-122.8])\n",
    "    ax.set_ylim([48.9,49.5])"
   ]
  },
  {
   "cell_type": "code",
   "execution_count": 8,
   "metadata": {
    "collapsed": true
   },
   "outputs": [],
   "source": [
    "U = {}\n",
    "for month,gridU in zip(['jan','oct','may'],[janall_U,octall_U,mayall_U]):\n",
    "    U[month] = gridU.variables['vozocrtx']\n",
    "SSH = {}\n",
    "for month,gridT in zip(['jan','oct','may'],[janall_T,octall_T,mayall_T]):\n",
    "    SSH[month] = gridT.variables['sossheig']"
   ]
  },
  {
   "cell_type": "code",
   "execution_count": 22,
   "metadata": {
    "collapsed": true
   },
   "outputs": [],
   "source": [
    "theta = np.pi*29/180\n",
    "grid_T_alls = [janall_T,octall_T,mayall_T]\n",
    "grid_T_nofs = [jannof_T,octnof_T,maynof_T]\n",
    "colormap = 'plasma_r'\n",
    "dep = 0\n",
    "cmin = -6\n",
    "cmax = 6"
   ]
  },
  {
   "cell_type": "code",
   "execution_count": null,
   "metadata": {
    "collapsed": false
   },
   "outputs": [],
   "source": [
    "fig,axs = plt.subplots(3,3,figsize=(20,18))\n",
    "    \n",
    "for i, t1 in zip(np.arange(3), [741,679,685]):\n",
    "    S = {};\n",
    "    if i == 0:\n",
    "        letters = ['a. Jan With Coriolis force', 'd. Jan Without Coriolis force', 'g. Jan With - Without Coriolis force']\n",
    "    elif i ==1:\n",
    "        letters = ['b. Oct With Coriolis force', 'e. Oct Without Coriolis force', 'h. Oct With - Without Coriolis force']\n",
    "    elif i ==2:\n",
    "        letters = ['c. May With Coriolis force', 'f. May Without Coriolis force', 'i. May With - Without Coriolis force']\n",
    "    for gridT,run, ax,letter in zip([grid_T_alls[i],grid_T_nofs[i]],['all','nof'],[axs[i,0],axs[i,1]],letters):\n",
    "        lon = gridT.variables['nav_lon']\n",
    "        lat = gridT.variables['nav_lat']\n",
    "        S[run] =gridT.variables['vosaline'][t1,0]\n",
    "        S[run] = np.ma.masked_values(S[run],0) \n",
    "        mesh=ax.pcolormesh(lon,lat,S[run],vmin =0,vmax = 33,cmap=colormap) \n",
    "        ax.text(0,1.03,letter, transform = ax.transAxes,fontsize = 18)\n",
    "        cbar = fig.colorbar(mesh,ax = ax)\n",
    "        cbar.set_label('Practical Salinity')\n",
    "        S_thre,W = determine_plume_method2_onlysalinity(gridT,t1,t1+1,dep)\n",
    "        CS3 = ax.contour(lon[:],lat[:],W, levels = [S_thre], colors='k',linewidths=(3,))\n",
    "        plt.clabel(CS3,fmt='%2.1f', colors='k',fontsize = 14)\n",
    "        if letter == 'c. May With Coriolis force':\n",
    "            ax.set_xlabel('Longitude')\n",
    "            ax.set_ylabel('Latitude')\n",
    "    sal_diff = S['all'] - S['nof']\n",
    "    ax = axs[i,2]\n",
    "    mesh=ax.pcolormesh(lon,lat,sal_diff,cmap='RdBu_r',vmin=cmin, vmax=cmax)\n",
    "    ax.text(0,1.03,letters[-1], transform = ax.transAxes,fontsize = 18)\n",
    "    cbar = fig.colorbar(mesh,ax = ax)\n",
    "    cbar.set_label('Difference of Practical Salinity')\n",
    "    for ax in [axs[i,0],axs[i,1],axs[i,2]]:\n",
    "        viz_tools.plot_land_mask(ax,grid6,coords='map',color='burlywood')\n",
    "        viz_tools.plot_coastline(ax, grid6, coords = 'map')\n",
    "        ax.set_xlim([-124.,-122.8])\n",
    "        ax.set_xticks([-124,-123.6,-123.2,-122.8])\n",
    "        ax.set_xticklabels([-124,-123.6,-123.2,-122.8])\n",
    "        ax.set_ylim([48.9,49.5])"
   ]
  },
  {
   "cell_type": "code",
   "execution_count": null,
   "metadata": {
    "collapsed": true
   },
   "outputs": [],
   "source": []
  }
 ],
 "metadata": {
  "anaconda-cloud": {},
  "kernelspec": {
   "display_name": "Python [Root]",
   "language": "python",
   "name": "Python [Root]"
  }
 },
 "nbformat": 4,
 "nbformat_minor": 0
}
