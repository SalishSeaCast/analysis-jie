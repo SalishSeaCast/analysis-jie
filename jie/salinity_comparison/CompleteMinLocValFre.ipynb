{
 "cells": [
  {
   "cell_type": "markdown",
   "metadata": {},
   "source": [
    "* Compare minimum salinity value, location, fresh water amount between ferry observation, nowcast and new model results."
   ]
  },
  {
   "cell_type": "code",
   "execution_count": 1,
   "metadata": {
    "collapsed": false
   },
   "outputs": [],
   "source": [
    "from __future__ import division, print_function\n",
    "from salishsea_tools import (nc_tools,viz_tools,geo_tools,tidetools)\n",
    "from datetime import datetime, timedelta\n",
    "from glob import glob\n",
    "import matplotlib.pyplot as plt\n",
    "import scipy.io as sio\n",
    "import netCDF4 as nc\n",
    "import numpy as np\n",
    "import seaborn as sns\n",
    "import os\n",
    "import datetime\n",
    "import warnings\n",
    "warnings.filterwarnings(\"ignore\")\n",
    "sns.set(style=\"whitegrid\")\n",
    "sns.set_context(\"notebook\", font_scale=1.5, rc={\"lines.linewidth\": 2})\n",
    "%matplotlib inline"
   ]
  },
  {
   "cell_type": "code",
   "execution_count": 2,
   "metadata": {
    "collapsed": false
   },
   "outputs": [],
   "source": [
    "import sys\n",
    "sys.path.append('/ocean/jieliu/research/meopar/salinity_comparison/')\n",
    "import salinity3_copy"
   ]
  },
  {
   "cell_type": "code",
   "execution_count": 3,
   "metadata": {
    "collapsed": false
   },
   "outputs": [],
   "source": [
    "paths = {'nowcast': '/results/SalishSea/nowcast/',\n",
    "        'longerresult': '/data/jieliu/MEOPAR/river-treatment/14days_norefraserxml/',\n",
    "        'widenresult': '/data/jieliu/MEOPAR/river-treatment/14nor_NWSmoorerunMoreSubdomain/'}"
   ]
  },
  {
   "cell_type": "code",
   "execution_count": 4,
   "metadata": {
    "collapsed": true
   },
   "outputs": [],
   "source": [
    "def find_dist (q, lon11, lat11, X, Y, bathy, longitude, latitude, saline_nemo_3rd, saline_nemo_4rd,results_home):\n",
    "    k=0\n",
    "    values =0\n",
    "    valuess=0\n",
    "    dist = np.zeros(9)\n",
    "    weights = np.zeros(9)\n",
    "    value_3rd=np.zeros(9)\n",
    "    value_4rd=np.zeros(9)\n",
    "    \n",
    "    x1, j1 = geo_tools.find_closest_model_point(lon11[q],lat11[q],X,Y,land_mask=bathy.mask)\n",
    "    if results_home == paths['nowcast'] or results_home == paths['longerresult']:\n",
    "        x1 =x1;\n",
    "        j1 = j1\n",
    "    elif results_home == paths['widenresult']: ## this is subdomain\n",
    "        x1 = x1-349;\n",
    "        j1 = j1 - 200\n",
    "    for i in np.arange(x1-1,x1+2):\n",
    "         for j in np.arange(j1-1,j1+2):\n",
    "            dist[k]=geo_tools.haversine(lon11[q],lat11[q],longitude[i,j],latitude[i,j])\n",
    "            weights[k]=1.0/dist[k]\n",
    "            value_3rd[k]=saline_nemo_3rd[i,j]*weights[k]\n",
    "            value_4rd[k]=saline_nemo_4rd[i,j]*weights[k]\n",
    "            values=values+value_3rd[k]\n",
    "            valuess=valuess+value_4rd[k]\n",
    "            k+=1\n",
    "            \n",
    "    return values, valuess, weights"
   ]
  },
  {
   "cell_type": "code",
   "execution_count": 5,
   "metadata": {
    "collapsed": false
   },
   "outputs": [],
   "source": [
    "def salinity_fxn_norm(saline, run_date, results_home, run_lower, run_upper):\n",
    "    \"\"\"The significance of this function was to return longitude,\n",
    "       latitude, salinity values for observations, 1.5m of 3rd & 4rd, \n",
    "       3m average of 3rd & 4rd model result and the time selection for \n",
    "       saline_nemo_3rd or 4rd is in the middle \"\"\"\n",
    "\n",
    "    a=saline['ferryData']\n",
    "    b=a['data']\n",
    "    dataa = b[0,0]\n",
    "    time=dataa['matlabtime'][0,0]\n",
    "    lonn=dataa['Longitude'][0,0]\n",
    "    latt=dataa['Latitude'][0,0]\n",
    "    salinity=dataa['Practical_Salinity'][0,0]   \n",
    "    \n",
    "    a=len(time)\n",
    "    lon1=np.zeros([a,1])\n",
    "    lat1=np.zeros([a,1])\n",
    "    salinity1=np.zeros([a,1])\n",
    "    for i in np.arange(0,a):\n",
    "        matlab_datenum = np.float(time[i])\n",
    "        python_datetime = datetime.datetime.fromordinal(int(matlab_datenum))\\\n",
    "        + timedelta(days=matlab_datenum%1) - timedelta(days = 366)\n",
    "        \n",
    "        if(python_datetime >= run_lower) &(python_datetime <= run_upper):\n",
    "            lon1[i]=lonn[i]\n",
    "            lat1[i]=latt[i]\n",
    "            salinity1[i]=salinity[i]\n",
    "            \n",
    "    mask=lon1[:,0]!=0\n",
    "    lon1_2_4=lon1[mask]\n",
    "    lat1_2_4=lat1[mask]\n",
    "    salinity1_2_4=salinity1[mask]\n",
    "    lon11=lon1_2_4[0:-1:20]\n",
    "    lat11=lat1_2_4[0:-1:20]\n",
    "    salinity11=salinity1_2_4[0:-1:20]\n",
    "    date_str = run_date.strftime('%d-%b-%Y')\n",
    "    if results_home == paths['nowcast']:\n",
    "        bathyold, X, Y = salinity3_copy.get_SS2_bathy_data()   \n",
    "    elif results_home ==paths['longerresult']:\n",
    "        bathynew5, X, Y = salinity3_copy.get_SS5_bathy_data()\n",
    "    else:\n",
    "        bathynew6, X, Y = salinity3_copy.get_SS6_bathy_data()\n",
    "\n",
    "    if results_home == paths['nowcast'] or results_home ==paths['longerresult']:\n",
    "    ## if nowcast of bathy5, the result file is whole domain  \n",
    "        filepath_name = salinity3_copy.date(run_date.year,run_date.month, run_date.day,\\\n",
    "        run_date.day,run_date.day, results_home,'1h','grid_T') \n",
    "        tracers=nc.Dataset(filepath_name[0])\n",
    "    elif results_home ==paths['widenresult']:\n",
    "        tracers=nc.Dataset(paths['widenresult']+'1hplume06160629smooLargestgridT.nc')\n",
    "        \n",
    "    latitude=tracers.variables['nav_lat'][:] \n",
    "    longitude=tracers.variables['nav_lon'][:] \n",
    "    saline_nemo = tracers.variables['vosaline']\n",
    "\n",
    "    matrix=np.zeros([len(lon11),9])\n",
    "    values=np.zeros([len(lon11),1])\n",
    "    valuess=np.zeros([len(lon11),1])\n",
    "    value_mean_3rd_hour=np.zeros([len(lon11),1])\n",
    "    value_mean_4rd_hour=np.zeros([len(lon11),1])\n",
    "    if run_lower.hour ==0 or run_lower.hour ==5 or run_lower.hour == 14 or run_lower.hour == 19 or\\\n",
    "        run_lower.hour ==3 or run_lower.hour ==12 or run_lower.hour ==16 or run_lower.hour ==21:\n",
    "        if run_lower.hour ==0 or run_lower.hour ==5 or run_lower.hour == 14 or run_lower.hour == 19 : \n",
    "            saline_nemo_3rd = saline_nemo[run_lower.hour +1,1, 0:898, 0:398] \n",
    "            saline_nemo_4rd = saline_nemo[run_upper.hour ,1, 0:898, 0:398]\n",
    "        elif run_lower.hour ==3 or run_lower.hour ==12 or run_lower.hour ==16 or run_lower.hour ==21:\n",
    "            saline_nemo_3rd = saline_nemo[run_lower.hour +1,1, 0:898, 0:398] \n",
    "            saline_nemo_4rd = saline_nemo[run_upper.hour ,1, 0:898, 0:398]\n",
    "        for q in np.arange(0,len(lon11)):\n",
    "            if (~np.isnan(lon11[q])) and (~np.isnan(lat11[q])):\n",
    "                if results_home == paths['nowcast']:\n",
    "                    #print(lon11[q],lat11[q])\n",
    "                    values[q], valuess[q], matrix[q,:]=find_dist(q, lon11, lat11, X, Y,\\\n",
    "                                                 bathyold, longitude, latitude, saline_nemo_3rd, saline_nemo_4rd, results_home)\n",
    "                    value_mean_3rd_hour[q]=values[q]/sum(matrix[q])\n",
    "                    value_mean_4rd_hour[q]=valuess[q]/sum(matrix[q])\n",
    "\n",
    "                elif results_home ==paths['longerresult']:\n",
    "                    values[q], valuess[q], matrix[q,:]=find_dist(q, lon11, lat11, X, Y,\\\n",
    "                                                 bathynew5, longitude, latitude, saline_nemo_3rd, saline_nemo_4rd,results_home)\n",
    "                    value_mean_3rd_hour[q]=values[q]/sum(matrix[q])\n",
    "                    value_mean_4rd_hour[q]=valuess[q]/sum(matrix[q])\n",
    "\n",
    "                elif results_home ==paths['widenresult']:\n",
    "                    values[q], valuess[q], matrix[q,:]=find_dist(q, lon11, lat11, X, Y,\\\n",
    "                                                 bathynew6, longitude, latitude, saline_nemo_3rd, saline_nemo_4rd,results_home)\n",
    "                    value_mean_3rd_hour[q]=values[q]/sum(matrix[q])\n",
    "                    value_mean_4rd_hour[q]=valuess[q]/sum(matrix[q])\n",
    "\n",
    "        #print(value_mean_3rd_hour.shape,value_mean_3rd_hour)\n",
    "    else:\n",
    "        value_mean_3rd_hour[:] = np.nan\n",
    "        value_mean_4rd_hour[:] = np.nan     \n",
    "    #elif results_home ==paths['widenresult']: ## if subdomain file\n",
    "        #date_str = run_date.strftime('%d-%b-%Y') \n",
    "        #value_mean_3rd_hour, value_mean_4rd_hour= salinity_along_track_bathy6\\\n",
    "        #(results_home,run_date,run_lower,run_upper,lon11,lat11,X,Y,bathynew6)\n",
    "\n",
    "    return lon11, lat11, lon1_2_4, lat1_2_4,\\\n",
    "    value_mean_3rd_hour, value_mean_4rd_hour, \\\n",
    "    salinity11, salinity1_2_4, date_str"
   ]
  },
  {
   "cell_type": "code",
   "execution_count": 6,
   "metadata": {
    "collapsed": false
   },
   "outputs": [],
   "source": [
    "def salinity_along_track_bathy6(results_home,run_date,run_lower,run_upper,lon11,lat11,X,Y,bathynew6):\n",
    "    \"\"\"Only for subdomain to track the salinity and location of model results along route\"\"\"\n",
    "    tracers=nc.Dataset(paths['widenresult']+'1hplume06160629smooLargestgridT.nc')\n",
    "    latitude=tracers.variables['nav_lat'][:] \n",
    "    longitude=tracers.variables['nav_lon'][:] \n",
    "    saline_nemo = tracers.variables['vosaline']\n",
    "    \n",
    "    matrix=np.zeros([len(lon11),9])\n",
    "    values=np.zeros([len(lon11),1])\n",
    "    valuess=np.zeros([len(lon11),1])\n",
    "    value_mean_3rd_hour=np.zeros([len(lon11),1])\n",
    "    value_mean_4rd_hour=np.zeros([len(lon11),1])\n",
    "    if run_lower.hour ==0 or run_lower.hour ==5 or run_lower.hour == 14 or run_lower.hour == 19 or\\\n",
    "        run_lower.hour ==3 or run_lower.hour ==12 or run_lower.hour ==16 or run_lower.hour ==21:\n",
    "        if run_lower.hour ==0 or run_lower.hour ==5 or run_lower.hour == 14 or run_lower.hour == 19 : \n",
    "            saline_nemo_3rd = saline_nemo[run_lower.hour +1 + (run_date.day-16)*24,1] \n",
    "            saline_nemo_4rd = saline_nemo[run_upper.hour + (run_date.day-16)*24,1]\n",
    "        elif run_lower.hour ==3 or run_lower.hour ==12 or run_lower.hour ==16 or run_lower.hour ==21:\n",
    "            saline_nemo_3rd = saline_nemo[run_lower.hour +1 + (run_date.day-16)*24,1] \n",
    "            saline_nemo_4rd = saline_nemo[run_upper.hour + (run_date.day-16)*24,1]\n",
    "        for q in np.arange(0,len(lon11)):\n",
    "            if (~np.isnan(lon11[q])) and (~np.isnan(lat11[q])) and (lon11[q]>-123.6):\n",
    "                values[q], valuess[q], matrix[q,:]=find_dist(q, lon11, lat11, X, Y,\\\n",
    "                                            bathynew6, longitude, latitude, saline_nemo_3rd, saline_nemo_4rd,results_home)\n",
    "                value_mean_3rd_hour[q]=values[q]/sum(matrix[q])\n",
    "                value_mean_4rd_hour[q]=valuess[q]/sum(matrix[q])\n",
    "            if lon11[q]<=-123.6: ## if 0 then set to nan\n",
    "                value_mean_3rd_hour[q] =np.nan\n",
    "    else:\n",
    "        value_mean_3rd_hour[:] = np.nan\n",
    "        value_mean_4rd_hour[:] = np.nan   \n",
    "    return value_mean_3rd_hour, value_mean_4rd_hour"
   ]
  },
  {
   "cell_type": "code",
   "execution_count": 7,
   "metadata": {
    "collapsed": true
   },
   "outputs": [],
   "source": [
    "def min_salinity_test(days,results_home):\n",
    "    \"\"\"This function was made to plot ferry 1.5m/average 3m salinity with different cases vs ferry salinity\n",
    "        and there differences. should consider set up value_mean_4rd as {}\"\"\"\n",
    "    sal_min_obs = []; lon_obs = [];sal_min_15 = [];lon_15=[]; fresh_obs = [];fresh_15 = []\n",
    "    for day in days:\n",
    "        for i in np.arange(24):\n",
    "            if i < 12:\n",
    "                saline = sio.loadmat('/ocean/jieliu/research/meopar/autodataupdate/ferrydata/SBE19201506%s.mat' %(day))\n",
    "            elif i>=12:\n",
    "                saline = sio.loadmat('/ocean/jieliu/research/meopar/autodataupdate/ferrydata/SBE19201506%s.mat' %(day+1))\n",
    "            ## read in run_date, run_lower and run_upper for each trip case.\n",
    "            run_date = datetime.datetime(2015,6,day+1)\n",
    "            if i == 0 or i==14 or i==16 or i==21:\n",
    "                run_lower = run_date.replace(hour = i, minute = 45)\n",
    "                if i ==14:\n",
    "                    run_upper = run_lower.replace(hour = i+2)\n",
    "                if i==21:\n",
    "                    run_upper = run_date.replace(day = day+2,hour = 0, minute = 45)\n",
    "                else:\n",
    "                    run_upper = run_lower.replace(hour = i +3, minute = 15)\n",
    "            if i ==3 or i==5 or i==19:\n",
    "                run_lower = run_date.replace(hour = i, minute = 15)\n",
    "                run_upper = run_lower.replace(hour = i+2, minute = 45)\n",
    "            ##extract values from ferry route   \n",
    "            if i == 0 or i==14 or i==16 or i==21 or i ==3 or i==5 or i==19:\n",
    "                lon_model, lat_model, lon1_model, lat1_model,\\\n",
    "                value_mean_3rd_deep, value_mean_4rd_deep, \\\n",
    "                salinity11, salinity1_2_4, date_str = salinity_fxn_norm\\\n",
    "                (saline, run_date, results_home,run_lower,run_upper)\n",
    "            ## find min salinity value and location along ferry route and freshwater amount\n",
    "                salinity_min_obs, lon_min_obs, salinity_min_15,lon_min_15 =find_min_value_location\\\n",
    "                (run_date, results_home, saline, run_lower, run_upper,lon_model, lat_model, lon1_model, lat1_model,\\\n",
    "                value_mean_3rd_deep, value_mean_4rd_deep, \\\n",
    "                salinity11, salinity1_2_4, date_str)\n",
    "                fresh_obsInd, fresh_15Ind = freshwater(results_home,lon_model, lat_model, lon1_model, lat1_model,salinity1_2_4,value_mean_3rd_deep)\n",
    "            else: \n",
    "                salinity_min_obs= np.nan;lon_min_obs=np.nan;salinity_min_15=np.nan;lon_min_15=np.nan;\n",
    "                fresh_obsInd = np.nan; fresh_15Ind= np.nan\n",
    "            ## append the values to a list\n",
    "            sal_min_obs.append(salinity_min_obs);\n",
    "            lon_obs.append(float(lon_min_obs));\n",
    "            sal_min_15.append(salinity_min_15);\n",
    "            lon_15.append(float(lon_min_15));\n",
    "            fresh_obs.append(fresh_obsInd);\n",
    "            fresh_15.append(fresh_15Ind)\n",
    "\n",
    "    return sal_min_obs, lon_obs, sal_min_15,lon_15, fresh_obs,fresh_15"
   ]
  },
  {
   "cell_type": "code",
   "execution_count": 8,
   "metadata": {
    "collapsed": true
   },
   "outputs": [],
   "source": [
    "def find_min_value_location(run_date, results_home, saline, run_lower, run_upper,lon11, lat11, lon1_2_4, lat1_2_4,\\\n",
    "    value_mean_3rd_hour, value_mean_4rd_hour, \\\n",
    "    salinity11, salinity1_2_4,date_str):\n",
    "    \"\"\"This function was made to find out the minimum salinity value\n",
    "       and longitude for observation and nowcasts(1.5m and 3m ave) or \n",
    "       for observation and new results(1.5m and 3m ave).\"\"\"\n",
    "    \n",
    "    ##For observation\n",
    "    if len(salinity1_2_4) ==0:\n",
    "        salinity_min_obs = np.nan\n",
    "        lon_min_obs=np.nan\n",
    "    else:\n",
    "        salinity_min_obs = np.nanmin(salinity1_2_4)\n",
    "        ind_obs = np.nanargmin(salinity1_2_4)\n",
    "        lon_min_obs = lon1_2_4[ind_obs]\n",
    "    \n",
    "    ## For nowcast or new model result with 1.5m depth for 3rd model time \n",
    "    ## no length or all nan or all 0, then set to nan\n",
    "    if (len(value_mean_3rd_hour) ==0) or (np.nansum(value_mean_3rd_hour) ==np.nan) or (np.nansum(value_mean_3rd_hour) ==0):\n",
    "        \n",
    "        salinity_min_15 = np.nan\n",
    "        lon_min_15=np.nan\n",
    "\n",
    "    else:\n",
    "        salinity_min_15 = np.nanmin(value_mean_3rd_hour)## some cases when part of them are 0\n",
    "        ## since it is subdomain\n",
    "        ind_15 = np.nanargmin(value_mean_3rd_hour)\n",
    "        lon_min_15 = lon11[ind_15]\n",
    "    \n",
    "    return salinity_min_obs, lon_min_obs, salinity_min_15,lon_min_15"
   ]
  },
  {
   "cell_type": "code",
   "execution_count": 9,
   "metadata": {
    "collapsed": true
   },
   "outputs": [],
   "source": [
    "def freshwater(results_home,lon11, lat11, lon1_2_4, lat1_2_4,salinity1_2_4,value_mean_3rd_hour):\n",
    "    salinity1_2_4[np.isnan(salinity1_2_4)] = 30 ##set nan to 30 psu for observation\n",
    "    #print(len(lon1_2_4))\n",
    "    if len(lon1_2_4) != 0:\n",
    "        obs_Sdx = np.zeros(len(lon1_2_4)-1) ## index from 0 to 718\n",
    "        mod_new_15Sdx = np.zeros(len(lon11)-1)\n",
    "\n",
    "        length_obs = np.arange(len(lon1_2_4)-1)\n",
    "        length_mod = np.arange(len(lon11) - 1)\n",
    "        ## For observation:\n",
    "        for i in length_obs:\n",
    "            obs_Sdx[i] = (30 - salinity1_2_4[:,0][i]) * np.abs(np.diff(lon1_2_4[:,0])[i]) * \\\n",
    "            111000 * np.cos(np.pi*lat1_2_4[i]/180) #discrete outcome by multiplying \n",
    "        obs_total_integral = np.cumsum(obs_Sdx)\n",
    "        max_amount_obs = max(obs_total_integral)\n",
    "        ## For model results:    \n",
    "        for j in length_mod:\n",
    "            mod_new_15Sdx[j] = (30 - value_mean_3rd_hour[:,0][j]) * np.abs(np.diff(lon11[:,0])[j]) * \\\n",
    "            111000 * np.cos(np.pi*lat11[j]/180)  \n",
    "        mod_total_new_15integral = np.cumsum(mod_new_15Sdx)\n",
    "        ## Find max for 1.5m \n",
    "        max_mod_new15 = max(mod_total_new_15integral)\n",
    "    else:\n",
    "        max_amount_obs = np.nan\n",
    "        max_mod_new15 = np.nan\n",
    "\n",
    "    return max_amount_obs, max_mod_new15"
   ]
  },
  {
   "cell_type": "code",
   "execution_count": 10,
   "metadata": {
    "collapsed": false
   },
   "outputs": [],
   "source": [
    "## for nowcasts\n",
    "days = [15,16,17,18,19,20,21,22,23,24,25,26,27,28]\n",
    "sal_min_obs,lon_obs,sal_now,lon_now,fre_obs,fre_now= min_salinity_test(days,paths['nowcast'])"
   ]
  },
  {
   "cell_type": "code",
   "execution_count": 11,
   "metadata": {
    "collapsed": false
   },
   "outputs": [],
   "source": [
    "## for bathy5\n",
    "days = [15,16,17,18,19,20,21,22,23,24,25,26,27,28]\n",
    "sal_min_obs,lon_obs,sal_bathy5,lon_bathy5,fre_obs,fre_15= min_salinity_test(days,paths['longerresult'])"
   ]
  },
  {
   "cell_type": "code",
   "execution_count": 13,
   "metadata": {
    "collapsed": true
   },
   "outputs": [],
   "source": [
    "## for bathy6\n",
    "days = [15,16,17,18,19,20,21,22,23,24,25,26,27,28]\n",
    "sal_min_obs,lon_obs,sal_bathy6,lon_bathy6,fre_obs,fre_16= min_salinity_test(days,paths['widenresult'])"
   ]
  },
  {
   "cell_type": "code",
   "execution_count": 14,
   "metadata": {
    "collapsed": false
   },
   "outputs": [],
   "source": [
    "## value & loc\n",
    "sal_obs_ave = []\n",
    "sal_nowcast_ave = []\n",
    "sal_bathy5_ave = []\n",
    "sal_bathy6_ave = [];\n",
    "for i in np.arange(0,336,24):\n",
    "    sal_obs_ave.append(np.nanmean(sal_min_obs[i:i+24]))\n",
    "    sal_nowcast_ave.append(np.nanmean(sal_now[i:i+24]))\n",
    "    sal_bathy5_ave.append(np.nanmean(sal_bathy5[i:i+24]))\n",
    "    sal_bathy6_ave.append(np.nanmean(sal_bathy6[i:i+24]))\n",
    "for i in np.arange(3,5):\n",
    "    sal_obs_ave[i] = np.nan ## June 19,20 no data actually\n",
    "    sal_nowcast_ave[i] = np.nan\n",
    "    sal_bathy5_ave[i]=np.nan\n",
    "    sal_bathy6_ave[i] = np.nan"
   ]
  },
  {
   "cell_type": "code",
   "execution_count": 15,
   "metadata": {
    "collapsed": true
   },
   "outputs": [],
   "source": [
    "## location\n",
    "sal_obs_aveloc = []\n",
    "sal_nowcast_aveloc = []\n",
    "sal_bathy5_aveloc = []\n",
    "sal_bathy6_aveloc = []\n",
    "for i in np.arange(0,336,24):\n",
    "    sal_obs_aveloc.append(np.nanmean(lon_obs[i:i+24]))\n",
    "    sal_nowcast_aveloc.append(np.nanmean(lon_now[i:i+24]))\n",
    "    sal_bathy5_aveloc.append(np.nanmean(lon_bathy5[i:i+24]))\n",
    "    sal_bathy6_aveloc.append(np.nanmean(lon_bathy6[i:i+24]))\n",
    "for i in np.arange(3,5):\n",
    "    sal_obs_aveloc[i] = np.nan ## June 19,20 no data actually\n",
    "    sal_nowcast_aveloc[i] = np.nan\n",
    "    sal_bathy5_aveloc[i]=np.nan\n",
    "    sal_bathy6_aveloc[i] = np.nan"
   ]
  },
  {
   "cell_type": "code",
   "execution_count": 16,
   "metadata": {
    "collapsed": true
   },
   "outputs": [],
   "source": [
    "## freshwater\n",
    "fresh_obs_ave = []\n",
    "fresh_nowcast_ave = []\n",
    "fresh_bathy5_ave = []\n",
    "fresh_bathy6_ave = [];\n",
    "for i in np.arange(0,336,24):\n",
    "    fresh_obs_ave.append(np.nanmean(fre_obs[i:i+24]))\n",
    "    fresh_nowcast_ave.append(np.nanmean(fre_now[i:i+24]))\n",
    "    fresh_bathy5_ave.append(np.nanmean(fre_15[i:i+24]))\n",
    "    fresh_bathy6_ave.append(np.nanmean(fre_16[i:i+24]))\n",
    "for i in np.arange(3,5):\n",
    "    fresh_obs_ave[i] = np.nan ## June 19,20 no data actually\n",
    "    fresh_nowcast_ave[i] = np.nan\n",
    "    fresh_bathy5_ave[i]=np.nan\n",
    "    fresh_bathy6_ave[i] = np.nan"
   ]
  },
  {
   "cell_type": "code",
   "execution_count": 27,
   "metadata": {
    "collapsed": false
   },
   "outputs": [
    {
     "data": {
      "text/plain": [
       "[<matplotlib.lines.Line2D at 0x7fa47816fc18>]"
      ]
     },
     "execution_count": 27,
     "metadata": {},
     "output_type": "execute_result"
    },
    {
     "data": {
      "image/png": "[encoded data removed]",
      "text/plain": [
       "<matplotlib.figure.Figure at 0x7fa4781a3048>"
      ]
     },
     "metadata": {},
     "output_type": "display_data"
    }
   ],
   "source": [
    "plt.plot(fresh_obs_ave,'b')\n",
    "plt.plot(fresh_nowcast_ave,'g')\n",
    "plt.plot(fresh_bathy5_ave,'r')\n",
    "plt.plot(fresh_bathy6_ave,'m')"
   ]
  },
  {
   "cell_type": "code",
   "execution_count": 31,
   "metadata": {
    "collapsed": false
   },
   "outputs": [
    {
     "data": {
      "text/plain": [
       "14"
      ]
     },
     "execution_count": 31,
     "metadata": {},
     "output_type": "execute_result"
    }
   ],
   "source": [
    "len(t)"
   ]
  },
  {
   "cell_type": "code",
   "execution_count": 49,
   "metadata": {
    "collapsed": false
   },
   "outputs": [
    {
     "name": "stdout",
     "output_type": "stream",
     "text": [
      "-0.1 14.6 0.0 1.0 0.8\n"
     ]
    },
    {
     "data": {
      "image/png": "[encoded data removed]",
      "text/plain": [
       "<matplotlib.figure.Figure at 0x7fa4779f42e8>"
      ]
     },
     "metadata": {},
     "output_type": "display_data"
    }
   ],
   "source": [
    "## value\n",
    "t = np.arange(len(sal_obs_ave))\n",
    "size = 12\n",
    "fig,axs = plt.subplots(2,1,figsize = (12,10))\n",
    "ax =axs[0]\n",
    "ax.plot(t,sal_obs_ave,'r*',label = 'obs', markersize = size)\n",
    "ax.plot(t,sal_nowcast_ave,'g.',label = 'baseline', markersize = size)\n",
    "ax.plot(t,sal_bathy5_ave,'b.',label ='extended river', markersize = size)\n",
    "ax.plot(t,sal_bathy6_ave,'y.',label = 'extended and deepened river', markersize = size)\n",
    "ax.set_ylabel('Practical Salinity')\n",
    "ax.legend(loc='upper center', bbox_to_anchor=(0.5, 1.25),\n",
    "          ncol=5, fancybox=False, shadow=True)\n",
    "xticks, xticklabels = plt.xticks()\n",
    "xmin = (30*xticks[0] - xticks[1])/2.\n",
    "xmax = (30*xticks[-1] - xticks[-2])/2.\n",
    "print(xmin,xmax,xticks[0],xticks[-1],xticks[-2])\n",
    "x = range(0,16,2)\n",
    "## location\n",
    "ax = axs[1]\n",
    "ax.plot(t,sal_obs_aveloc,'r*', markersize = size)\n",
    "ax.plot(t,sal_nowcast_aveloc,'g.', markersize = size)\n",
    "ax.plot(t,sal_bathy5_aveloc,'b.', markersize = size)\n",
    "ax.plot(t,sal_bathy6_aveloc,'y.', markersize = size)\n",
    "ax.set_yticks([-123., -123.2,-123.4,-123.6])\n",
    "ax.set_yticklabels([-123., -123.2,-123.4,-123.6])\n",
    "ax.set_ylabel('Longitude')\n",
    "for ax in axs:\n",
    "    ax.set_xlim(xmin, xmax)\n",
    "    ax.set_xticks(x)\n",
    "    ax.set_xticklabels( ['June 16','June 18','June 20','June 22','June 24','June 26','June 28'] )"
   ]
  },
  {
   "cell_type": "code",
   "execution_count": 57,
   "metadata": {
    "collapsed": false
   },
   "outputs": [
    {
     "data": {
      "text/plain": [
       "[<matplotlib.text.Text at 0x7fa477bfbf98>,\n",
       " <matplotlib.text.Text at 0x7fa477ccb9b0>,\n",
       " <matplotlib.text.Text at 0x7fa477a170f0>,\n",
       " <matplotlib.text.Text at 0x7fa4778e89e8>,\n",
       " <matplotlib.text.Text at 0x7fa477a0e198>,\n",
       " <matplotlib.text.Text at 0x7fa477a0ec88>,\n",
       " <matplotlib.text.Text at 0x7fa477a127b8>]"
      ]
     },
     "execution_count": 57,
     "metadata": {},
     "output_type": "execute_result"
    },
    {
     "data": {
      "image/png": "[encoded data removed]",
      "text/plain": [
       "<matplotlib.figure.Figure at 0x7fa477c0b5c0>"
      ]
     },
     "metadata": {},
     "output_type": "display_data"
    }
   ],
   "source": [
    "fig,axs = plt.subplots(1,1,figsize = (12,5))\n",
    "\n",
    "axs.plot(t,fresh_obs_ave,'r*',label = 'obs', markersize = size)\n",
    "axs.plot(t,fresh_nowcast_ave,'g.',label = 'baseline', markersize = size)\n",
    "axs.plot(t,fresh_bathy5_ave,'b.',label ='extended river', markersize = size)\n",
    "axs.plot(t,fresh_bathy6_ave,'y.',label = 'extended and deepened river', markersize = size)\n",
    "axs.set_ylabel('Practical Salinity')\n",
    "axs.legend(loc='upper center', bbox_to_anchor=(0.5, 1.25),\n",
    "          ncol=5, fancybox=False, shadow=True)\n",
    "xticks, xticklabels = plt.xticks()\n",
    "xmin = -0.1\n",
    "xmax = xticks[-1]+0.6\n",
    "axs.set_ylabel('Freshwater amount [m]')\n",
    "x = range(0,16,2)\n",
    "axs.set_xlim(xmin, xmax)\n",
    "axs.set_xticks(x)\n",
    "axs.set_xticklabels( ['June 16','June 18','June 20','June 22','June 24','June 26','June 28'] )"
   ]
  },
  {
   "cell_type": "code",
   "execution_count": 15,
   "metadata": {
    "collapsed": false
   },
   "outputs": [],
   "source": [
    "## difference of location between model result and obs\n",
    "diff_now = []\n",
    "diff_bathy5 = []\n",
    "diff_bathy6= []\n",
    "for i in np.arange(len(sal_bathy5_aveloc)):\n",
    "    diff_now.append(np.abs(sal_obs_aveloc[i]-sal_nowcast_aveloc[i]))\n",
    "    diff_bathy5.append(np.abs(sal_obs_aveloc[i]-sal_bathy5_aveloc[i]))\n",
    "    diff_bathy6.append(np.abs(sal_obs_aveloc[i]-sal_bathy6_aveloc[i]))"
   ]
  },
  {
   "cell_type": "code",
   "execution_count": 16,
   "metadata": {
    "collapsed": false
   },
   "outputs": [
    {
     "data": {
      "text/plain": [
       "5826.2623738289576"
      ]
     },
     "execution_count": 16,
     "metadata": {},
     "output_type": "execute_result"
    }
   ],
   "source": [
    "np.nanmean(diff_now)*111000*np.cos(50*np.pi/180)"
   ]
  },
  {
   "cell_type": "code",
   "execution_count": 17,
   "metadata": {
    "collapsed": false
   },
   "outputs": [
    {
     "data": {
      "text/plain": [
       "6274.3903668204712"
      ]
     },
     "execution_count": 17,
     "metadata": {},
     "output_type": "execute_result"
    }
   ],
   "source": [
    "np.nanmean(diff_bathy5)*111000*np.cos(50*np.pi/180)"
   ]
  },
  {
   "cell_type": "code",
   "execution_count": 18,
   "metadata": {
    "collapsed": false
   },
   "outputs": [
    {
     "data": {
      "text/plain": [
       "4051.2716359026363"
      ]
     },
     "execution_count": 18,
     "metadata": {},
     "output_type": "execute_result"
    }
   ],
   "source": [
    "np.nanmean(diff_bathy6)*111000*np.cos(50*np.pi/180)"
   ]
  },
  {
   "cell_type": "markdown",
   "metadata": {},
   "source": [
    "* Usually, model result is saltier than observation from plots of minimum salinity and freshwater amount. Location of plume is close to Vancouver compared with observation, which indicates discrepency of plume position. Our plume could not propagate further away cross the strait, other external forcing, such as wind should be taken into consideration. What about comparing wind in the model with observed wind?? "
   ]
  }
 ],
 "metadata": {
  "kernelspec": {
   "display_name": "Python 3",
   "language": "python",
   "name": "python3"
  },
  "language_info": {
   "codemirror_mode": {
    "name": "ipython",
    "version": 3
   },
   "file_extension": ".py",
   "mimetype": "text/x-python",
   "name": "python",
   "nbconvert_exporter": "python",
   "pygments_lexer": "ipython3",
   "version": "3.4.4"
  }
 },
 "nbformat": 4,
 "nbformat_minor": 0
}
