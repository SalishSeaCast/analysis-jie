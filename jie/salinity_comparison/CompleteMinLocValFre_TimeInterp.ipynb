{
 "cells": [
  {
   "cell_type": "markdown",
   "metadata": {},
   "source": [
    "* Similar with CompleteMinLocValFre.ipynb, except this notebook contains time interpolation, exclude the average of value and loc."
   ]
  },
  {
   "cell_type": "code",
   "execution_count": 1,
   "metadata": {
    "collapsed": false
   },
   "outputs": [],
   "source": [
    "from salishsea_tools import (nc_tools,viz_tools,geo_tools,tidetools)\n",
    "from datetime import datetime, timedelta\n",
    "from glob import glob\n",
    "import matplotlib.pyplot as plt\n",
    "import scipy.io as sio\n",
    "import netCDF4 as nc\n",
    "import numpy as np\n",
    "import seaborn as sns\n",
    "import os\n",
    "import datetime\n",
    "import warnings\n",
    "warnings.filterwarnings(\"ignore\")\n",
    "sns.set(style=\"whitegrid\")\n",
    "sns.set_context(\"notebook\", font_scale=1.5, rc={\"lines.linewidth\": 2})\n",
    "%matplotlib inline"
   ]
  },
  {
   "cell_type": "code",
   "execution_count": 2,
   "metadata": {
    "collapsed": false
   },
   "outputs": [],
   "source": [
    "import sys\n",
    "sys.path.append('/ocean/jieliu/research/meopar/salinity_comparison/')\n",
    "import salinity3_copy"
   ]
  },
  {
   "cell_type": "code",
   "execution_count": 3,
   "metadata": {
    "collapsed": false
   },
   "outputs": [],
   "source": [
    "paths = {'nowcast': '/results/SalishSea/nowcast/',\n",
    "        'longerresult': '/data/jieliu/MEOPAR/river-treatment/14days_norefraserxml/',\n",
    "        'widenresult': '/data/jieliu/MEOPAR/river-treatment/14nor_NWSmoorerunMoreSubdomain/'}"
   ]
  },
  {
   "cell_type": "code",
   "execution_count": 4,
   "metadata": {
    "collapsed": false
   },
   "outputs": [],
   "source": [
    "def find_dist (q, lon11, lat11, X, Y, bathy, longitude, latitude, saline_nemo_2rd,\\\n",
    "               saline_nemo_3rd, saline_nemo_4rd,saline_nemo_5rd,results_home):\n",
    "    k=0\n",
    "    values_2 =0\n",
    "    values_3=0\n",
    "    values_4=0\n",
    "    values_5=0\n",
    "    dist = np.zeros(9)\n",
    "    weights = np.zeros(9)\n",
    "    value_2rd=np.zeros(9)\n",
    "    value_3rd=np.zeros(9)\n",
    "    value_4rd=np.zeros(9)\n",
    "    value_5rd=np.zeros(9)\n",
    "    \n",
    "    x1, j1 = geo_tools.find_closest_model_point(lon11[q],lat11[q],X,Y,land_mask=bathy.mask)\n",
    "    if results_home == paths['nowcast'] or results_home == paths['longerresult']:\n",
    "        x1 =x1;\n",
    "        j1 = j1\n",
    "    elif results_home == paths['widenresult']: ## this is subdomain\n",
    "        x1 = x1-349;\n",
    "        j1 = j1 - 200\n",
    "    for i in np.arange(x1-1,x1+2):\n",
    "         for j in np.arange(j1-1,j1+2):\n",
    "            dist[k]=geo_tools.haversine(lon11[q],lat11[q],longitude[i,j],latitude[i,j])\n",
    "            weights[k]=1.0/dist[k]\n",
    "            value_2rd[k]=saline_nemo_2rd[i,j]*weights[k]\n",
    "            value_3rd[k]=saline_nemo_3rd[i,j]*weights[k]\n",
    "            value_4rd[k]=saline_nemo_4rd[i,j]*weights[k]\n",
    "            value_5rd[k]=saline_nemo_5rd[i,j]*weights[k]\n",
    "            values_2=values_2+value_2rd[k]\n",
    "            values_3=values_3+value_3rd[k]\n",
    "            values_4=values_4+value_4rd[k]\n",
    "            values_5=values_5+value_5rd[k]\n",
    "            k+=1\n",
    "            \n",
    "    return values_2,values_3,values_4,values_5, weights"
   ]
  },
  {
   "cell_type": "code",
   "execution_count": 5,
   "metadata": {
    "collapsed": false
   },
   "outputs": [],
   "source": [
    "def salinity_fxn_norm(saline, run_date, results_home, run_lower, run_upper):\n",
    "    \"\"\"The significance of this function was to return longitude,\n",
    "       latitude, salinity values for observations, 1.5m of 3rd & 4rd, \n",
    "       3m average of 3rd & 4rd model result and the time selection for \n",
    "       saline_nemo_3rd or 4rd is in the middle \"\"\"\n",
    "    a=saline['ferryData']\n",
    "    b=a['data']\n",
    "    dataa = b[0,0]\n",
    "    time=dataa['matlabtime'][0,0]\n",
    "    lonn=dataa['Longitude'][0,0]\n",
    "    latt=dataa['Latitude'][0,0]\n",
    "    salinity=dataa['Practical_Salinity'][0,0]   \n",
    "    \n",
    "    a=len(time)\n",
    "    lon1=np.zeros([a,1])\n",
    "    lat1=np.zeros([a,1])\n",
    "    salinity1=np.zeros([a,1])\n",
    "    time_matlab = []\n",
    "    for i in np.arange(0,a):\n",
    "        matlab_datenum = np.float(time[i]);\n",
    "        python_datetime = datetime.datetime.fromordinal(int(matlab_datenum))\\\n",
    "        + timedelta(days=matlab_datenum%1) - timedelta(days = 366);\n",
    "        time_matlab.append(python_datetime)\n",
    "        \n",
    "        if(python_datetime >= run_lower) &(python_datetime <= run_upper):\n",
    "            lon1[i]=lonn[i]\n",
    "            lat1[i]=latt[i]\n",
    "            salinity1[i]=salinity[i]\n",
    "            \n",
    "    mask=lon1[:,0]!=0\n",
    "    lon1_2_4=lon1[mask]\n",
    "    lat1_2_4=lat1[mask]\n",
    "    salinity1_2_4=salinity1[mask]\n",
    "    time1_2_4 = np.array(time_matlab)[mask]\n",
    "    lon11=lon1_2_4[0:-1:20]\n",
    "    lat11=lat1_2_4[0:-1:20]\n",
    "    salinity11=salinity1_2_4[0:-1:20]\n",
    "    time11 = time1_2_4[0:-1:20]\n",
    "    date_str = run_date.strftime('%d-%b-%Y')\n",
    "    \n",
    "    if results_home == paths['nowcast']:\n",
    "        bathyold, X, Y = salinity3_copy.get_SS2_bathy_data()   \n",
    "    elif results_home ==paths['longerresult']:\n",
    "        bathynew5, X, Y = salinity3_copy.get_SS5_bathy_data()\n",
    "    else:\n",
    "        bathynew6, X, Y = salinity3_copy.get_SS6_bathy_data()\n",
    "\n",
    "    if results_home == paths['nowcast'] or results_home ==paths['longerresult']:\n",
    "    ## if nowcast of bathy5, the result file is whole domain  \n",
    "        filepath_name = salinity3_copy.date(run_date.year,run_date.month, run_date.day,\\\n",
    "        run_date.day,run_date.day, results_home,'1h','grid_T') \n",
    "        tracers=nc.Dataset(filepath_name[0])\n",
    "    elif results_home ==paths['widenresult']:\n",
    "        tracers=nc.Dataset(paths['widenresult']+'1hplume06160629smooLargestgridT.nc')\n",
    "        \n",
    "    latitude=tracers.variables['nav_lat'][:] \n",
    "    longitude=tracers.variables['nav_lon'][:] \n",
    "    saline_nemo = tracers.variables['vosaline']\n",
    "\n",
    "    matrix=np.zeros([len(lon11),9])\n",
    "    values_2=np.zeros([len(lon11),1])\n",
    "    values_3=np.zeros([len(lon11),1])\n",
    "    values_4=np.zeros([len(lon11),1])\n",
    "    values_5=np.zeros([len(lon11),1])\n",
    "    value_mean_2rd_hour=np.zeros([len(lon11),1])\n",
    "    value_mean_3rd_hour=np.zeros([len(lon11),1])\n",
    "    value_mean_4rd_hour=np.zeros([len(lon11),1])\n",
    "    value_mean_5rd_hour=np.zeros([len(lon11),1])\n",
    "    if run_lower.hour ==0 or run_lower.hour ==5 or run_lower.hour == 14 or run_lower.hour == 19 or\\\n",
    "        run_lower.hour ==3 or run_lower.hour ==12 or run_lower.hour ==17 or run_lower.hour ==22:\n",
    "        if run_lower.hour ==0 or run_lower.hour ==5 or run_lower.hour == 14 or run_lower.hour == 19 : \n",
    "            if results_home == paths['nowcast'] or results_home ==paths['longerresult']:\n",
    "                saline_nemo_2rd = saline_nemo[run_lower.hour, 1] \n",
    "                saline_nemo_3rd = saline_nemo[run_lower.hour +1,1] \n",
    "                saline_nemo_4rd = saline_nemo[run_lower.hour +2 ,1]\n",
    "                saline_nemo_5rd = saline_nemo[run_lower.hour +3 ,1]\n",
    "            elif results_home ==paths['widenresult']:\n",
    "                saline_nemo_2rd = saline_nemo[run_lower.hour + (run_date.day-16)*24, 1] \n",
    "                saline_nemo_3rd = saline_nemo[run_lower.hour +1 + (run_date.day-16)*24,1] \n",
    "                saline_nemo_4rd = saline_nemo[run_lower.hour +2 + (run_date.day-16)*24,1]\n",
    "                saline_nemo_5rd = saline_nemo[run_lower.hour +3 + (run_date.day-16)*24,1]\n",
    "                \n",
    "        elif run_lower.hour ==3 or run_lower.hour ==12 or run_lower.hour ==17 or run_lower.hour ==22:\n",
    "            if results_home ==paths['nowcast'] or results_home ==paths['longerresult']:\n",
    "                saline_nemo_2rd = saline_nemo[run_lower.hour-1 , 1] \n",
    "                saline_nemo_3rd = saline_nemo[run_lower.hour, 1] \n",
    "                saline_nemo_4rd = saline_nemo[run_lower.hour +1,  1]\n",
    "            elif results_home ==paths['widenresult']:\n",
    "                saline_nemo_2rd = saline_nemo[run_lower.hour-1 + (run_date.day-16)*24, 1] \n",
    "                saline_nemo_3rd = saline_nemo[run_lower.hour + (run_date.day-16)*24, 1] \n",
    "                saline_nemo_4rd = saline_nemo[run_lower.hour +1 + (run_date.day-16)*24, 1]\n",
    "                \n",
    "            if run_lower.hour ==22 and run_lower.day ==29: ## if lower is 22 pm on June 29, after 23:30 still use 23:30 value\n",
    "                saline_nemo_5rd = np.zeros(saline_nemo[run_lower.hour, 1].shape)\n",
    "                \n",
    "            elif run_lower.hour ==22 and run_lower.day !=29:\n",
    "                if results_home == paths['nowcast'] or results_home ==paths['longerresult']:\n",
    "                    filepath_name = salinity3_copy.date(run_date.year,run_date.month, run_date.day+1,\\\n",
    "                    run_date.day+1,run_date.day+1, results_home,'1h','grid_T') \n",
    "                    tracers_forward=nc.Dataset(filepath_name[0])\n",
    "                    saline_nemo_forward = tracers_forward.variables['vosaline']\n",
    "                    saline_nemo_5rd = saline_nemo_forward[0,1]\n",
    "                elif results_home ==paths['widenresult']:\n",
    "                    tracers_forward=nc.Dataset(paths['widenresult']+'1hplume06160629smooLargestgridT.nc')\n",
    "                    saline_nemo_forward = tracers_forward.variables['vosaline']\n",
    "                    saline_nemo_5rd = saline_nemo_forward[(run_date.day+1 -16)*24,1] ## next day's 0:30 am\n",
    "            else:\n",
    "                if results_home == paths['nowcast'] or results_home ==paths['longerresult']:\n",
    "                    saline_nemo_5rd = saline_nemo[run_lower.hour+2 ,1]\n",
    "                elif results_home ==paths['widenresult']:\n",
    "                    saline_nemo_5rd = saline_nemo[run_lower.hour+2 + (run_date.day-16)*24,1]\n",
    "\n",
    "        for q in np.arange(0,len(lon11)):\n",
    "            if (~np.isnan(lon11[q])) and (~np.isnan(lat11[q])):\n",
    "                if results_home == paths['nowcast']:\n",
    "                    #print(lon11[q],lat11[q])\n",
    "                    values_2[q], values_3[q],values_4[q],values_5[q], matrix[q,:]=find_dist(q, lon11, lat11, X, Y,\\\n",
    "                                        bathyold, longitude, latitude, \\\n",
    "                                        saline_nemo_2rd,saline_nemo_3rd, saline_nemo_4rd,saline_nemo_5rd,results_home)\n",
    "                    value_mean_2rd_hour[q]=values_2[q]/sum(matrix[q])\n",
    "                    value_mean_3rd_hour[q]=values_3[q]/sum(matrix[q])\n",
    "                    value_mean_4rd_hour[q]=values_4[q]/sum(matrix[q])\n",
    "                    value_mean_5rd_hour[q]=values_5[q]/sum(matrix[q])\n",
    "\n",
    "                elif results_home ==paths['longerresult']:\n",
    "                    values_2[q], values_3[q],values_4[q],values_5[q], matrix[q,:]=find_dist(q, lon11, lat11, X, Y,\\\n",
    "                                            bathynew5, longitude, latitude,\\\n",
    "                                            saline_nemo_2rd,saline_nemo_3rd, saline_nemo_4rd,saline_nemo_5rd,results_home)\n",
    "                    value_mean_2rd_hour[q]=values_2[q]/sum(matrix[q])\n",
    "                    value_mean_3rd_hour[q]=values_3[q]/sum(matrix[q])\n",
    "                    value_mean_4rd_hour[q]=values_4[q]/sum(matrix[q])\n",
    "                    value_mean_5rd_hour[q]=values_5[q]/sum(matrix[q])\n",
    "                    \n",
    "                elif results_home ==paths['widenresult']:\n",
    "                    values_2[q], values_3[q],values_4[q],values_5[q],matrix[q,:]=find_dist(q, lon11, lat11, X, Y,\\\n",
    "                                                 bathynew6, longitude, latitude,\\\n",
    "                                                saline_nemo_2rd,saline_nemo_3rd, saline_nemo_4rd,saline_nemo_5rd,results_home)\n",
    "                    value_mean_2rd_hour[q]=values_2[q]/sum(matrix[q])\n",
    "                    value_mean_3rd_hour[q]=values_3[q]/sum(matrix[q])\n",
    "                    value_mean_4rd_hour[q]=values_4[q]/sum(matrix[q])\n",
    "                    value_mean_5rd_hour[q]=values_5[q]/sum(matrix[q])\n",
    "\n",
    "        #print(value_mean_3rd_hour.shape,value_mean_3rd_hour)\n",
    "    else:\n",
    "        value_mean_3rd_hour[:] = np.nan\n",
    "        value_mean_4rd_hour[:] = np.nan     \n",
    "    #elif results_home ==paths['widenresult']: ## if subdomain file\n",
    "        #date_str = run_date.strftime('%d-%b-%Y') \n",
    "        #value_mean_3rd_hour, value_mean_4rd_hour= salinity_along_track_bathy6\\\n",
    "        #(results_home,run_date,run_lower,run_upper,lon11,lat11,X,Y,bathynew6)\n",
    "\n",
    "    return lon11, lat11, lon1_2_4, lat1_2_4,\\\n",
    "    value_mean_2rd_hour, value_mean_3rd_hour, \\\n",
    "    value_mean_4rd_hour, value_mean_5rd_hour,\\\n",
    "    salinity11, salinity1_2_4, date_str,time11"
   ]
  },
  {
   "cell_type": "code",
   "execution_count": 6,
   "metadata": {
    "collapsed": true
   },
   "outputs": [],
   "source": [
    "def min_salinity_test(days,results_home):\n",
    "    \"\"\"This function was made to plot ferry 1.5m/average 3m salinity with different cases vs ferry salinity\n",
    "        and there differences. should consider set up value_mean_4rd as {}\"\"\"\n",
    "    sal_min_obs = []; lon_obs = [];sal_min_15 = [];lon_15=[]; fresh_obs = [];fresh_15 = []\n",
    "    for day in days:\n",
    "        for i in np.arange(24):\n",
    "            if i < 12:\n",
    "                saline = sio.loadmat('/ocean/jieliu/research/meopar/autodataupdate/ferrydata/SBE19201506%s.mat' %(day))\n",
    "            elif i>=12:\n",
    "                saline = sio.loadmat('/ocean/jieliu/research/meopar/autodataupdate/ferrydata/SBE19201506%s.mat' %(day+1))\n",
    "            ## read in run_date, run_lower and run_upper for each trip case.\n",
    "            run_date = datetime.datetime(2015,6,day+1)\n",
    "            if i == 0 or i ==5 or i==14 or i==19 :\n",
    "                run_lower = run_date.replace(hour = i, minute = 45)\n",
    "                if i ==0:\n",
    "                    run_upper = run_date.replace(hour = 3, minute = 15)\n",
    "                else:\n",
    "                    run_upper = run_lower.replace(hour = i+2)                \n",
    "            elif i == 3 or i==12 or i==17 or i==22:\n",
    "                run_lower = run_date.replace(hour = i, minute = 15)\n",
    "                if i == 22:\n",
    "                    run_upper = run_date.replace(day = day+2,hour = 0, minute = 15)\n",
    "                else:\n",
    "                    run_upper = run_lower.replace(hour = i+2)\n",
    "            ##extract values from ferry route   \n",
    "            if i == 0 or i==3 or i==5 or i ==12 or i ==14 or i==17 or i==19 or i ==22:\n",
    "                lon_model, lat_model, lon1_model, lat1_model,\\\n",
    "                value_mean_2rd_deep, value_mean_3rd_deep, \\\n",
    "                value_mean_4rd_deep, value_mean_5rd_deep,\\\n",
    "                salinity11, salinity1_2_4, date_str, time_ferry = salinity_fxn_norm\\\n",
    "                (saline, run_date, results_home,run_lower,run_upper)\n",
    "                \n",
    "                 ## Time interpolation\n",
    "                value_mean_final = time_interp(value_mean_2rd_deep, value_mean_3rd_deep, \\\n",
    "                value_mean_4rd_deep, value_mean_5rd_deep, time_ferry)\n",
    "                ## find min salinity value and location along ferry route and freshwater amount\n",
    "\n",
    "                salinity_min_obs, lon_min_obs, salinity_min_15,lon_min_15 =find_min_value_location\\\n",
    "                (run_date, results_home, saline, run_lower, run_upper,lon_model, lat_model, lon1_model, lat1_model,\\\n",
    "                value_mean_final, salinity11, salinity1_2_4, date_str)\n",
    "                \n",
    "                fresh_obsInd, fresh_15Ind = freshwater(results_home,lon_model, lat_model, \\\n",
    "                                                            lon1_model, lat1_model,salinity1_2_4,value_mean_final)\n",
    "            else: \n",
    "                salinity_min_obs= np.nan;lon_min_obs=np.nan;salinity_min_15=np.nan;lon_min_15=np.nan;\n",
    "                fresh_obsInd = np.nan; fresh_15Ind= np.nan\n",
    "            ## append the values to a list\n",
    "            sal_min_obs.append(salinity_min_obs);\n",
    "            lon_obs.append(float(lon_min_obs));\n",
    "            sal_min_15.append(salinity_min_15);\n",
    "            lon_15.append(float(lon_min_15));\n",
    "            fresh_obs.append(fresh_obsInd);\n",
    "            fresh_15.append(fresh_15Ind)\n",
    "\n",
    "    return sal_min_obs, lon_obs, sal_min_15,lon_15, fresh_obs,fresh_15"
   ]
  },
  {
   "cell_type": "code",
   "execution_count": 7,
   "metadata": {
    "collapsed": true
   },
   "outputs": [],
   "source": [
    "def time_interp(value_mean_2rd_deep, value_mean_3rd_deep, \\\n",
    "                value_mean_4rd_deep, value_mean_5rd_deep,time):\n",
    "    \"\"\"\n",
    "    Linear time interpolation between continuous hour model results\n",
    "    \"\"\"\n",
    "    value_final = np.zeros(len(time))\n",
    "    \n",
    "    if len(time) !=0: ## important, on June 21 time length is 0\n",
    "        print(time[0],len(time), np.nansum(value_mean_3rd_deep),value_final.shape)\n",
    "        if time[0].hour ==0 or time[0].hour == 5 or time[0].hour == 14 or time[0].hour ==19:\n",
    "            low = time[0].replace(minute = 30)\n",
    "            mid = low.replace(hour = low.hour+1)\n",
    "            high = mid.replace(hour = mid.hour+1)\n",
    "            Hhigh = high.replace(hour = high.hour+1)\n",
    "        elif time[0].hour ==3 or time[0].hour == 17 or time[0].hour == 22 or time[0].hour == 12:           \n",
    "            low = time[0].replace(hour = time[0].hour-1, minute = 30)\n",
    "            mid = low.replace(hour = low.hour+1)\n",
    "            high = mid.replace(hour = mid.hour+1)\n",
    "            if time[0].hour == 22:\n",
    "                Hhigh = high.replace(day = high.day+1,hour = 0)\n",
    "            else:\n",
    "                Hhigh = high.replace(hour = high.hour+1)\n",
    "\n",
    "        for i,j in enumerate(time):\n",
    "            if (j > low) and (j<mid):\n",
    "                value_final[i] = (value_mean_2rd_deep[i]/((j-low).seconds/60) + \\\n",
    "                                  value_mean_3rd_deep[i]/((mid-j).seconds/60))/\\\n",
    "                                (1/((j-low).seconds/60)+1/((mid-j).seconds/60))\n",
    "            elif (j > mid) and (j<high):\n",
    "                value_final[i] = (value_mean_3rd_deep[i]/((j-mid).seconds/60) + \\\n",
    "                                  value_mean_4rd_deep[i]/((high-j).seconds/60))/\\\n",
    "                                (1/((j-mid).seconds/60)+1/((high-j).seconds/60))\n",
    "            elif (j > high) and (j<Hhigh):\n",
    "                if j.day == 29 and j.hour == 23 and j.minute >=30: ## june 29, exceed 23:30, use 23:30 value\n",
    "                    value_final[i] = value_mean_4rd_deep[i]\n",
    "                else:    \n",
    "                    value_final[i] = (value_mean_4rd_deep[i]/((j-high).seconds/60) + \\\n",
    "                                  value_mean_5rd_deep[i]/((Hhigh-j).seconds/60))/\\\n",
    "                                (1/((j-high).seconds/60)+1/((Hhigh-j).seconds/60))\n",
    "            if j == low:\n",
    "                value_final[i] = value_mean_2rd_deep[i]\n",
    "            if j == mid:\n",
    "                value_final[i] = value_mean_3rd_deep[i]\n",
    "            if j == high:\n",
    "                value_final[i] = value_mean_4rd_deep[i]\n",
    "            if j == Hhigh:\n",
    "                value_final[i] = value_mean_5rd_deep[i]\n",
    "\n",
    "    return value_final"
   ]
  },
  {
   "cell_type": "code",
   "execution_count": 8,
   "metadata": {
    "collapsed": true
   },
   "outputs": [],
   "source": [
    "def find_min_value_location(run_date, results_home, saline, run_lower, run_upper,lon11, lat11,\\\n",
    "                                 lon1_2_4, lat1_2_4, value_final,salinity11, salinity1_2_4,date_str):\n",
    "    \"\"\"This function was made to find out the minimum salinity value\n",
    "       and longitude for observation and time interpolated 1.5m model result.\"\"\"\n",
    "    \n",
    "    ##For observation\n",
    "    if len(salinity1_2_4) ==0:\n",
    "        salinity_min_obs = np.nan\n",
    "        lon_min_obs=np.nan\n",
    "    else:\n",
    "        salinity_min_obs = np.nanmin(salinity1_2_4)\n",
    "        ind_obs = np.nanargmin(salinity1_2_4)\n",
    "        lon_min_obs = lon1_2_4[ind_obs]\n",
    "    \n",
    "    ## For nowcast or new model result with 1.5m depth for 3rd model time \n",
    "    ## no length or all nan or all 0, then set to nan\n",
    "    if (len(value_final) ==0) or (np.nansum(value_final) ==np.nan) or (np.nansum(value_final) ==0):\n",
    "        \n",
    "        salinity_min_15 = np.nan\n",
    "        lon_min_15=np.nan\n",
    "\n",
    "    else:\n",
    "        value_final[value_final==0]=np.nan ## 12:15 ferry the first value of model result is always 0\n",
    "        salinity_min_15 = np.nanmin(value_final)## some cases when part of them are 0\n",
    "        ## since it is subdomain\n",
    "        ind_15 = np.nanargmin(value_final)\n",
    "        lon_min_15 = lon11[ind_15]\n",
    "    \n",
    "    return salinity_min_obs, lon_min_obs, salinity_min_15,lon_min_15"
   ]
  },
  {
   "cell_type": "code",
   "execution_count": 9,
   "metadata": {
    "collapsed": true
   },
   "outputs": [],
   "source": [
    "def freshwater(results_home,lon11, lat11, lon1_2_4, lat1_2_4,salinity1_2_4,value_final):\n",
    "    \"\"\"\n",
    "    Calculate freshwater amount along diagonal route, by using haversine function.\n",
    "    \"\"\"\n",
    "    salinity1_2_4[np.isnan(salinity1_2_4)] = 30 ##set nan to 30 psu for observation\n",
    "    #print(len(lon1_2_4))\n",
    "    if len(lon1_2_4) != 0:\n",
    "        obs_Sdx = np.zeros(len(lon1_2_4)-1) ## index from 0 to 718\n",
    "        mod_new_15Sdx = np.zeros(len(lon11)-1)\n",
    "\n",
    "        length_obs = np.arange(len(lon1_2_4)-1)\n",
    "        length_mod = np.arange(len(lon11) - 1)\n",
    "        ## For observation:\n",
    "        for i in length_obs:      \n",
    "            obs_Sdx[i] = (30 - salinity1_2_4[:,0][i]) * geo_tools.haversine(lon1_2_4[i,0],\\\n",
    "                                lat1_2_4[i,0],lon1_2_4[i+1,0],lat1_2_4[i+1,0])#use haversine function in km\n",
    "            \n",
    "        obs_total_integral = np.cumsum(obs_Sdx)\n",
    "        max_amount_obs = max(obs_total_integral)\n",
    "        ## For model results:    \n",
    "        for j in length_mod:\n",
    "            if value_final[j] !=0: ## 12:15 ferry data the first value of model is always 0, exclude for freshwater here\n",
    "                mod_new_15Sdx[j] = (30 - value_final[j]) *geo_tools.haversine(lon11[j,0], \\\n",
    "                                 lat11[j,0],lon11[j+1,0],lat11[j+1,0])\n",
    "        mod_total_new_15integral = np.cumsum(mod_new_15Sdx)\n",
    "        ## Find max for 1.5m \n",
    "        max_mod_new15 = max(mod_total_new_15integral)\n",
    "    else:\n",
    "        max_amount_obs = np.nan\n",
    "        max_mod_new15 = np.nan\n",
    "\n",
    "    return max_amount_obs, max_mod_new15"
   ]
  },
  {
   "cell_type": "code",
   "execution_count": 10,
   "metadata": {
    "collapsed": false
   },
   "outputs": [
    {
     "name": "stdout",
     "output_type": "stream",
     "text": [
      "2015-06-16 00:45:02.642995 45 1027.30594403 (45,)\n",
      "2015-06-16 03:15:02.803995 36 768.037643683 (36,)\n",
      "2015-06-16 05:45:02.864995 35 738.623683146 (35,)\n",
      "2015-06-16 12:16:13.295998 36 707.123660313 (36,)\n",
      "2015-06-16 14:45:03.430995 36 702.151707197 (36,)\n",
      "2015-06-16 17:15:03.968003 36 700.053963859 (36,)\n",
      "2015-06-16 19:45:04.201000 36 725.700905483 (36,)\n",
      "2015-06-16 22:15:04.134994 36 707.368376969 (36,)\n",
      "2015-06-17 00:45:04.079006 45 991.656251092 (45,)\n",
      "2015-06-17 03:15:04.237994 36 777.410994952 (36,)\n",
      "2015-06-17 05:45:04.376001 33 662.449406071 (33,)\n",
      "2015-06-17 12:21:24.733999 35 694.314702762 (35,)\n",
      "2015-06-17 14:45:04.857993 36 716.672783152 (36,)\n",
      "2015-06-17 17:15:05.408993 36 689.749595901 (36,)\n",
      "2015-06-17 19:45:05.234991 36 726.548518514 (36,)\n",
      "2015-06-17 22:15:06.014002 36 740.940490533 (36,)\n",
      "2015-06-18 00:45:05.947001 45 994.192211817 (45,)\n",
      "2015-06-18 03:15:06.104993 36 766.955295344 (36,)\n",
      "2015-06-18 05:45:05.577000 34 650.045582516 (34,)\n",
      "2015-06-18 12:15:36.343996 36 670.312302187 (36,)\n",
      "2015-06-18 14:45:06.466997 36 709.940956432 (36,)\n",
      "2015-06-18 17:15:07.038002 36 647.040240472 (36,)\n",
      "2015-06-18 19:45:06.968999 36 21.4151713425 (36,)\n",
      "2015-06-18 22:15:06.892996 36 0.0 (36,)\n",
      "2015-06-19 00:45:07.823001 45 0.0 (45,)\n",
      "2015-06-19 03:15:07.986998 36 0.0 (36,)\n",
      "2015-06-19 05:45:07.273993 33 0.0 (33,)\n",
      "2015-06-19 12:16:57.819997 36 0.0 (36,)\n",
      "2015-06-19 14:45:07.974000 36 0.0 (36,)\n",
      "2015-06-19 17:15:05.904997 36 0.0 (36,)\n",
      "2015-06-19 19:45:06.069990 36 0.0 (36,)\n",
      "2015-06-19 22:15:06.209988 36 0.0 (36,)\n",
      "2015-06-20 00:45:06.378008 45 0.0 (45,)\n",
      "2015-06-20 03:15:06.543986 36 0.0 (36,)\n",
      "2015-06-20 05:45:07.427000 33 0.0 (33,)\n",
      "2015-06-20 12:17:47.886000 36 0.0 (36,)\n",
      "2015-06-20 14:45:07.997999 36 0.0 (36,)\n",
      "2015-06-20 17:15:07.899002 36 0.0 (36,)\n",
      "2015-06-20 19:45:08.051985 36 0.0 (36,)\n",
      "2015-06-20 22:15:08.196992 36 0.0 (36,)\n",
      "2015-06-21 17:22:49.720999 34 601.789901892 (34,)\n",
      "2015-06-21 19:45:09.501997 36 676.300073072 (36,)\n",
      "2015-06-21 22:15:09.450998 36 650.135493699 (36,)\n",
      "2015-06-22 00:45:00.360992 45 936.216671401 (45,)\n",
      "2015-06-22 03:15:00.520000 36 688.522311456 (36,)\n",
      "2015-06-22 05:45:00.362997 35 698.028500663 (35,)\n",
      "2015-06-22 12:18:41.132000 35 644.699958379 (35,)\n",
      "2015-06-22 14:45:01.244988 36 702.662404203 (36,)\n",
      "2015-06-22 17:15:01.167998 36 680.97426045 (36,)\n",
      "2015-06-22 19:45:01.105995 36 753.140042578 (36,)\n",
      "2015-06-22 22:15:07.436988 36 715.725712644 (36,)\n",
      "2015-06-23 00:45:07.599003 45 983.533936885 (45,)\n",
      "2015-06-23 03:15:07.770997 36 769.740711655 (36,)\n",
      "2015-06-23 05:45:07.923990 35 762.662305129 (35,)\n",
      "2015-06-23 12:23:46.711996 34 658.251513439 (34,)\n",
      "2015-06-23 14:45:06.824991 36 758.401082344 (36,)\n",
      "2015-06-23 17:15:06.986001 36 745.832710702 (36,)\n",
      "2015-06-23 19:45:07.137999 36 795.801900503 (36,)\n",
      "2015-06-23 22:15:07.286999 36 771.104453517 (36,)\n",
      "2015-06-24 00:45:07.457996 45 1004.87715067 (45,)\n",
      "2015-06-24 03:15:07.596003 36 792.961162305 (36,)\n",
      "2015-06-24 05:45:07.762987 34 760.410528638 (34,)\n",
      "2015-06-24 12:18:58.799999 35 679.611953573 (35,)\n",
      "2015-06-24 14:45:08.929999 36 762.289607565 (36,)\n",
      "2015-06-24 17:15:08.822996 36 731.674247048 (36,)\n",
      "2015-06-24 19:45:05.109997 36 801.328976733 (36,)\n",
      "2015-06-24 22:15:02.944988 36 788.819759634 (36,)\n",
      "2015-06-25 00:45:03.106994 45 1003.86076845 (45,)\n",
      "2015-06-25 03:15:03.263990 36 742.426342604 (36,)\n",
      "2015-06-25 05:45:03.425996 33 693.295762714 (33,)\n",
      "2015-06-25 12:16:45.632003 36 643.732397488 (36,)\n",
      "2015-06-25 14:45:05.747991 36 708.53569003 (36,)\n",
      "2015-06-25 17:15:05.895995 36 661.230794213 (36,)\n",
      "2015-06-25 19:45:06.824995 36 744.778923956 (36,)\n",
      "2015-06-25 22:15:07.001001 36 689.66254484 (36,)\n",
      "2015-06-26 00:45:07.163993 45 938.705240432 (45,)\n",
      "2015-06-26 03:15:07.320989 36 647.079600424 (36,)\n",
      "2015-06-26 05:45:07.491997 35 661.512145805 (35,)\n",
      "2015-06-26 12:15:57.948998 36 483.437355083 (36,)\n",
      "2015-06-26 14:45:08.072993 36 525.800854486 (36,)\n",
      "2015-06-26 17:15:08.234989 36 531.712597344 (36,)\n",
      "2015-06-26 19:45:08.397004 36 544.083992339 (36,)\n",
      "2015-06-26 22:15:08.554996 36 549.763216376 (36,)\n",
      "2015-06-27 00:45:08.722001 45 707.26324653 (45,)\n",
      "2015-06-27 03:15:08.916997 36 527.591549943 (36,)\n",
      "2015-06-27 05:45:09.077997 34 533.93142559 (34,)\n",
      "2015-06-27 12:15:19.521003 36 618.310248122 (36,)\n",
      "2015-06-27 14:45:09.643001 36 693.723724445 (36,)\n",
      "2015-06-27 17:15:09.812007 36 703.510641827 (36,)\n",
      "2015-06-27 19:45:09.974998 36 708.506345817 (36,)\n",
      "2015-06-27 22:15:00.148001 36 703.323923333 (36,)\n",
      "2015-06-28 00:45:00.302000 45 844.845690548 (45,)\n",
      "2015-06-28 03:15:00.491998 36 729.044959243 (36,)\n",
      "2015-06-28 05:45:00.638996 35 726.204478224 (35,)\n",
      "2015-06-28 12:16:31.101001 36 753.923168565 (36,)\n",
      "2015-06-28 14:45:01.224992 36 780.599555862 (36,)\n",
      "2015-06-28 17:15:01.381998 36 751.685541171 (36,)\n",
      "2015-06-28 19:45:01.554987 36 771.016005045 (36,)\n",
      "2015-06-28 22:15:01.721992 36 788.637312275 (36,)\n",
      "2015-06-29 00:45:01.888000 45 966.836303191 (45,)\n",
      "2015-06-29 03:15:02.047984 36 786.685372748 (36,)\n",
      "2015-06-29 05:45:02.220993 34 735.794985092 (34,)\n",
      "2015-06-29 12:17:42.690997 36 767.529155192 (36,)\n",
      "2015-06-29 14:45:02.823002 36 760.995520808 (36,)\n",
      "2015-06-29 17:15:02.980994 36 753.765073275 (36,)\n",
      "2015-06-29 19:45:03.156990 36 774.685116187 (36,)\n",
      "2015-06-29 22:15:03.315998 36 800.693975388 (36,)\n"
     ]
    }
   ],
   "source": [
    "## test for nowcasts\n",
    "days = [15,16,17,18,19,20,21,22,23,24,25,26,27,28]\n",
    "sal_min_obs,lon_obs,sal_now,lon_now,fre_obs,fre_now= min_salinity_test(days,paths['nowcast'])"
   ]
  },
  {
   "cell_type": "code",
   "execution_count": 11,
   "metadata": {
    "collapsed": false
   },
   "outputs": [
    {
     "name": "stdout",
     "output_type": "stream",
     "text": [
      "2015-06-16 00:45:02.642995 45 1014.50688615 (45,)\n",
      "2015-06-16 03:15:02.803995 36 757.019312787 (36,)\n",
      "2015-06-16 05:45:02.864995 35 738.410890766 (35,)\n",
      "2015-06-16 12:16:13.295998 36 706.120908245 (36,)\n",
      "2015-06-16 14:45:03.430995 36 707.395807072 (36,)\n",
      "2015-06-16 17:15:03.968003 36 692.300248028 (36,)\n",
      "2015-06-16 19:45:04.201000 36 723.469937339 (36,)\n",
      "2015-06-16 22:15:04.134994 36 699.050410669 (36,)\n",
      "2015-06-17 00:45:04.079006 45 972.552341509 (45,)\n",
      "2015-06-17 03:15:04.237994 36 757.998076378 (36,)\n",
      "2015-06-17 05:45:04.376001 33 639.198161397 (33,)\n",
      "2015-06-17 12:21:24.733999 35 679.877061122 (35,)\n",
      "2015-06-17 14:45:04.857993 36 701.620676762 (36,)\n",
      "2015-06-17 17:15:05.408993 36 675.549184736 (36,)\n",
      "2015-06-17 19:45:05.234991 36 719.355379214 (36,)\n",
      "2015-06-17 22:15:06.014002 36 729.327390002 (36,)\n",
      "2015-06-18 00:45:05.947001 45 989.642904141 (45,)\n",
      "2015-06-18 03:15:06.104993 36 765.304893227 (36,)\n",
      "2015-06-18 05:45:05.577000 34 635.006630194 (34,)\n",
      "2015-06-18 12:15:36.343996 36 666.712917569 (36,)\n",
      "2015-06-18 14:45:06.466997 36 708.859127125 (36,)\n",
      "2015-06-18 17:15:07.038002 36 649.474754026 (36,)\n",
      "2015-06-18 19:45:06.968999 36 21.2551798344 (36,)\n",
      "2015-06-18 22:15:06.892996 36 0.0 (36,)\n",
      "2015-06-19 00:45:07.823001 45 0.0 (45,)\n",
      "2015-06-19 03:15:07.986998 36 0.0 (36,)\n",
      "2015-06-19 05:45:07.273993 33 0.0 (33,)\n",
      "2015-06-19 12:16:57.819997 36 0.0 (36,)\n",
      "2015-06-19 14:45:07.974000 36 0.0 (36,)\n",
      "2015-06-19 17:15:05.904997 36 0.0 (36,)\n",
      "2015-06-19 19:45:06.069990 36 0.0 (36,)\n",
      "2015-06-19 22:15:06.209988 36 0.0 (36,)\n",
      "2015-06-20 00:45:06.378008 45 0.0 (45,)\n",
      "2015-06-20 03:15:06.543986 36 0.0 (36,)\n",
      "2015-06-20 05:45:07.427000 33 0.0 (33,)\n",
      "2015-06-20 12:17:47.886000 36 0.0 (36,)\n",
      "2015-06-20 14:45:07.997999 36 0.0 (36,)\n",
      "2015-06-20 17:15:07.899002 36 0.0 (36,)\n",
      "2015-06-20 19:45:08.051985 36 0.0 (36,)\n",
      "2015-06-20 22:15:08.196992 36 0.0 (36,)\n",
      "2015-06-21 17:22:49.720999 34 594.311102219 (34,)\n",
      "2015-06-21 19:45:09.501997 36 676.697829515 (36,)\n",
      "2015-06-21 22:15:09.450998 36 644.095426373 (36,)\n",
      "2015-06-22 00:45:00.360992 45 931.563265554 (45,)\n",
      "2015-06-22 03:15:00.520000 36 667.994116369 (36,)\n",
      "2015-06-22 05:45:00.362997 35 693.417656517 (35,)\n",
      "2015-06-22 12:18:41.132000 35 640.658381132 (35,)\n",
      "2015-06-22 14:45:01.244988 36 700.0702749 (36,)\n",
      "2015-06-22 17:15:01.167998 36 662.101003984 (36,)\n",
      "2015-06-22 19:45:01.105995 36 756.689378596 (36,)\n",
      "2015-06-22 22:15:07.436988 36 701.443021768 (36,)\n",
      "2015-06-23 00:45:07.599003 45 977.579175427 (45,)\n",
      "2015-06-23 03:15:07.770997 36 762.895922205 (36,)\n",
      "2015-06-23 05:45:07.923990 35 753.961293697 (35,)\n",
      "2015-06-23 12:23:46.711996 34 647.486415152 (34,)\n",
      "2015-06-23 14:45:06.824991 36 745.193038966 (36,)\n",
      "2015-06-23 17:15:06.986001 36 719.339081126 (36,)\n",
      "2015-06-23 19:45:07.137999 36 789.987513049 (36,)\n",
      "2015-06-23 22:15:07.286999 36 741.317698817 (36,)\n",
      "2015-06-24 00:45:07.457996 45 990.265742245 (45,)\n",
      "2015-06-24 03:15:07.596003 36 777.152616457 (36,)\n",
      "2015-06-24 05:45:07.762987 34 747.574889255 (34,)\n",
      "2015-06-24 12:18:58.799999 35 659.351844003 (35,)\n",
      "2015-06-24 14:45:08.929999 36 736.145013562 (36,)\n",
      "2015-06-24 17:15:08.822996 36 706.075031585 (36,)\n",
      "2015-06-24 19:45:05.109997 36 780.452864697 (36,)\n",
      "2015-06-24 22:15:02.944988 36 749.517746363 (36,)\n",
      "2015-06-25 00:45:03.106994 45 974.154624763 (45,)\n",
      "2015-06-25 03:15:03.263990 36 738.932324609 (36,)\n",
      "2015-06-25 05:45:03.425996 33 670.197224349 (33,)\n",
      "2015-06-25 12:16:45.632003 36 652.703610453 (36,)\n",
      "2015-06-25 14:45:05.747991 36 706.26406254 (36,)\n",
      "2015-06-25 17:15:05.895995 36 670.529795963 (36,)\n",
      "2015-06-25 19:45:06.824995 36 733.450871451 (36,)\n",
      "2015-06-25 22:15:07.001001 36 704.186385953 (36,)\n",
      "2015-06-26 00:45:07.163993 45 931.36700298 (45,)\n",
      "2015-06-26 03:15:07.320989 36 668.328238674 (36,)\n",
      "2015-06-26 05:45:07.491997 35 673.788656719 (35,)\n",
      "2015-06-26 12:15:57.948998 36 462.791540452 (36,)\n",
      "2015-06-26 14:45:08.072993 36 490.881368306 (36,)\n",
      "2015-06-26 17:15:08.234989 36 477.538996079 (36,)\n",
      "2015-06-26 19:45:08.397004 36 495.800924627 (36,)\n",
      "2015-06-26 22:15:08.554996 36 484.258135746 (36,)\n",
      "2015-06-27 00:45:08.722001 45 620.461211203 (45,)\n",
      "2015-06-27 03:15:08.916997 36 443.620085192 (36,)\n",
      "2015-06-27 05:45:09.077997 34 453.896538789 (34,)\n",
      "2015-06-27 12:15:19.521003 36 559.221811835 (36,)\n",
      "2015-06-27 14:45:09.643001 36 644.10161848 (36,)\n",
      "2015-06-27 17:15:09.812007 36 661.316035924 (36,)\n",
      "2015-06-27 19:45:09.974998 36 658.703058819 (36,)\n",
      "2015-06-27 22:15:00.148001 36 658.474048071 (36,)\n",
      "2015-06-28 00:45:00.302000 45 775.189758976 (45,)\n",
      "2015-06-28 03:15:00.491998 36 695.776627914 (36,)\n",
      "2015-06-28 05:45:00.638996 35 691.13873584 (35,)\n",
      "2015-06-28 12:16:31.101001 36 740.137285489 (36,)\n",
      "2015-06-28 14:45:01.224992 36 761.789189128 (36,)\n",
      "2015-06-28 17:15:01.381998 36 728.09713081 (36,)\n",
      "2015-06-28 19:45:01.554987 36 744.118507786 (36,)\n",
      "2015-06-28 22:15:01.721992 36 763.353078725 (36,)\n",
      "2015-06-29 00:45:01.888000 45 917.984147436 (45,)\n",
      "2015-06-29 03:15:02.047984 36 744.054401585 (36,)\n",
      "2015-06-29 05:45:02.220993 34 690.45797329 (34,)\n",
      "2015-06-29 12:17:42.690997 36 742.089525338 (36,)\n",
      "2015-06-29 14:45:02.823002 36 725.90968195 (36,)\n",
      "2015-06-29 17:15:02.980994 36 712.071543707 (36,)\n",
      "2015-06-29 19:45:03.156990 36 753.243576623 (36,)\n",
      "2015-06-29 22:15:03.315998 36 768.519336796 (36,)\n"
     ]
    }
   ],
   "source": [
    "## test for bathy5\n",
    "days = [15,16,17,18,19,20,21,22,23,24,25,26,27,28]\n",
    "sal_min_obs,lon_obs,sal_bathy5,lon_bathy5,fre_obs,fre_15= min_salinity_test(days,paths['longerresult'])"
   ]
  },
  {
   "cell_type": "code",
   "execution_count": null,
   "metadata": {
    "collapsed": false
   },
   "outputs": [
    {
     "name": "stdout",
     "output_type": "stream",
     "text": [
      "2015-06-16 00:45:02.642995 45 1008.44696051 (45,)\n",
      "2015-06-16 03:15:02.803995 36 786.564697157 (36,)\n",
      "2015-06-16 05:45:02.864995 35 756.84724957 (35,)\n",
      "2015-06-16 12:16:13.295998 36 719.749221776 (36,)\n",
      "2015-06-16 14:45:03.430995 36 718.062410795 (36,)\n",
      "2015-06-16 17:15:03.968003 36 716.644287438 (36,)\n",
      "2015-06-16 19:45:04.201000 36 735.128066312 (36,)\n",
      "2015-06-16 22:15:04.134994 36 728.802862595 (36,)\n",
      "2015-06-17 00:45:04.079006 45 970.996641601 (45,)\n",
      "2015-06-17 03:15:04.237994 36 762.123279517 (36,)\n",
      "2015-06-17 05:45:04.376001 33 654.009786261 (33,)\n",
      "2015-06-17 12:21:24.733999 35 699.834941871 (35,)\n",
      "2015-06-17 14:45:04.857993 36 716.654062273 (36,)\n",
      "2015-06-17 17:15:05.408993 36 704.572966853 (36,)\n",
      "2015-06-17 19:45:05.234991 36 717.281878676 (36,)\n",
      "2015-06-17 22:15:06.014002 36 747.228535636 (36,)\n",
      "2015-06-18 00:45:05.947001 45 973.849488223 (45,)\n",
      "2015-06-18 03:15:06.104993 36 744.896361133 (36,)\n",
      "2015-06-18 05:45:05.577000 34 637.311509845 (34,)\n",
      "2015-06-18 12:15:36.343996 36 683.169705795 (36,)\n",
      "2015-06-18 14:45:06.466997 36 709.919425041 (36,)\n",
      "2015-06-18 17:15:07.038002 36 677.099225154 (36,)\n",
      "2015-06-18 19:45:06.968999 36 21.2433004212 (36,)\n",
      "2015-06-18 22:15:06.892996 36 0.0 (36,)\n",
      "2015-06-19 00:45:07.823001 45 0.0 (45,)\n",
      "2015-06-19 03:15:07.986998 36 0.0 (36,)\n",
      "2015-06-19 05:45:07.273993 33 0.0 (33,)\n",
      "2015-06-19 12:16:57.819997 36 0.0 (36,)\n",
      "2015-06-19 14:45:07.974000 36 0.0 (36,)\n",
      "2015-06-19 17:15:05.904997 36 0.0 (36,)\n",
      "2015-06-19 19:45:06.069990 36 0.0 (36,)\n",
      "2015-06-19 22:15:06.209988 36 0.0 (36,)\n",
      "2015-06-20 00:45:06.378008 45 0.0 (45,)\n",
      "2015-06-20 03:15:06.543986 36 0.0 (36,)\n",
      "2015-06-20 05:45:07.427000 33 0.0 (33,)\n",
      "2015-06-20 12:17:47.886000 36 0.0 (36,)\n",
      "2015-06-20 14:45:07.997999 36 0.0 (36,)\n",
      "2015-06-20 17:15:07.899002 36 0.0 (36,)\n",
      "2015-06-20 19:45:08.051985 36 0.0 (36,)\n",
      "2015-06-20 22:15:08.196992 36 0.0 (36,)\n",
      "2015-06-21 17:22:49.720999 34 603.065253246 (34,)\n",
      "2015-06-21 19:45:09.501997 36 718.209642687 (36,)\n",
      "2015-06-21 22:15:09.450998 36 693.833959747 (36,)\n",
      "2015-06-22 00:45:00.360992 45 942.356183116 (45,)\n",
      "2015-06-22 03:15:00.520000 36 677.671897295 (36,)\n",
      "2015-06-22 05:45:00.362997 35 711.504876797 (35,)\n",
      "2015-06-22 12:18:41.132000 35 654.971854292 (35,)\n",
      "2015-06-22 14:45:01.244988 36 719.53349236 (36,)\n",
      "2015-06-22 17:15:01.167998 36 676.216200734 (36,)\n",
      "2015-06-22 19:45:01.105995 36 756.314748658 (36,)\n",
      "2015-06-22 22:15:07.436988 36 728.404479015 (36,)\n",
      "2015-06-23 00:45:07.599003 45 989.287151907 (45,)\n",
      "2015-06-23 03:15:07.770997 36 769.059917224 (36,)\n",
      "2015-06-23 05:45:07.923990 35 750.345529303 (35,)\n",
      "2015-06-23 12:23:46.711996 34 676.056814434 (34,)\n",
      "2015-06-23 14:45:06.824991 36 766.840481553 (36,)\n",
      "2015-06-23 17:15:06.986001 36 743.458365504 (36,)\n",
      "2015-06-23 19:45:07.137999 36 792.225217786 (36,)\n",
      "2015-06-23 22:15:07.286999 36 774.223693397 (36,)\n",
      "2015-06-24 00:45:07.457996 45 1019.36934936 (45,)\n",
      "2015-06-24 03:15:07.596003 36 787.082928621 (36,)\n",
      "2015-06-24 05:45:07.762987 34 758.442885673 (34,)\n",
      "2015-06-24 12:18:58.799999 35 714.691858076 (35,)\n",
      "2015-06-24 14:45:08.929999 36 778.287463261 (36,)\n",
      "2015-06-24 17:15:08.822996 36 737.942775981 (36,)\n",
      "2015-06-24 19:45:05.109997 36 802.785503878 (36,)\n",
      "2015-06-24 22:15:02.944988 36 792.965111586 (36,)\n",
      "2015-06-25 00:45:03.106994 45 1017.95292351 (45,)\n",
      "2015-06-25 03:15:03.263990 36 746.13916082 (36,)\n",
      "2015-06-25 05:45:03.425996 33 697.474343627 (33,)\n",
      "2015-06-25 12:16:45.632003 36 691.706927036 (36,)\n",
      "2015-06-25 14:45:05.747991 36 745.508467109 (36,)\n",
      "2015-06-25 17:15:05.895995 36 688.34166175 (36,)\n",
      "2015-06-25 19:45:06.824995 36 757.546598791 (36,)\n",
      "2015-06-25 22:15:07.001001 36 704.948907034 (36,)\n",
      "2015-06-26 00:45:07.163993 45 979.786186294 (45,)\n",
      "2015-06-26 03:15:07.320989 36 666.605945088 (36,)\n",
      "2015-06-26 05:45:07.491997 35 665.404506913 (35,)\n",
      "2015-06-26 12:15:57.948998 36 473.066143564 (36,)\n",
      "2015-06-26 14:45:08.072993 36 499.568147467 (36,)\n",
      "2015-06-26 17:15:08.234989 36 517.90693752 (36,)\n",
      "2015-06-26 19:45:08.397004 36 528.692421035 (36,)\n",
      "2015-06-26 22:15:08.554996 36 517.260088121 (36,)\n",
      "2015-06-27 00:45:08.722001 45 719.821907683 (45,)\n",
      "2015-06-27 03:15:08.916997 36 477.704275927 (36,)\n",
      "2015-06-27 05:45:09.077997 34 459.313175097 (34,)\n",
      "2015-06-27 12:15:19.521003 36 563.596167534 (36,)\n",
      "2015-06-27 14:45:09.643001 36 647.589845896 (36,)\n",
      "2015-06-27 17:15:09.812007 36 681.848180789 (36,)\n",
      "2015-06-27 19:45:09.974998 36 673.638957144 (36,)\n",
      "2015-06-27 22:15:00.148001 36 670.8157835 (36,)\n",
      "2015-06-28 00:45:00.302000 45 792.321060119 (45,)\n",
      "2015-06-28 03:15:00.491998 36 694.856718206 (36,)\n",
      "2015-06-28 05:45:00.638996 35 689.210541418 (35,)\n"
     ]
    }
   ],
   "source": [
    "## test for bathy6\n",
    "days = [15,16,17,18,19,20,21,22,23,24,25,26,27,28]\n",
    "sal_min_obs,lon_obs,sal_bathy6,lon_bathy6,fre_obs,fre_16= min_salinity_test(days,paths['widenresult'])"
   ]
  },
  {
   "cell_type": "code",
   "execution_count": 37,
   "metadata": {
    "collapsed": false
   },
   "outputs": [
    {
     "data": {
      "text/plain": [
       "<matplotlib.legend.Legend at 0x7fcdd9ecefd0>"
      ]
     },
     "execution_count": 37,
     "metadata": {},
     "output_type": "execute_result"
    },
    {
     "data": {
      "image/png": "[encoded data removed]",
      "text/plain": [
       "<matplotlib.figure.Figure at 0x7fcdd9e482b0>"
      ]
     },
     "metadata": {},
     "output_type": "display_data"
    }
   ],
   "source": [
    "fig,ax = plt.subplots(1,1,figsize = (14,6))\n",
    "ax.plot(lon_obs,'*',label='obs')\n",
    "ax.plot(lon_now,'*',label ='now')\n",
    "ax.plot(lon_bathy5,'*',label ='5')\n",
    "ax.plot(lon_bathy6,'*',label ='6')\n",
    "\n",
    "ax.legend(loc = 'best')"
   ]
  },
  {
   "cell_type": "code",
   "execution_count": 12,
   "metadata": {
    "collapsed": false
   },
   "outputs": [],
   "source": [
    "## value & loc & freshwater\n",
    "## note June 18 22:45, 19, 20 until 14:45 of 21 no data and value\n",
    "##get rid of five other unreasonable values\n",
    "for i in [67,192,197,211,334]:\n",
    "    sal_now[i] = np.nan\n",
    "    sal_bathy5[i] = np.nan\n",
    "    #sal_bathy6[i] = np.nan\n",
    "    #sal_min_obs[i] = np.nan\n",
    "    lon_now[i] = np.nan\n",
    "    lon_bathy5[i] = np.nan\n",
    "    #lon_bathy6[i] = np.nan\n",
    "    #lon_obs[i] = np.nan\n",
    "    #fre_now[i] = np.nan\n",
    "    #fre_15[i] = np.nan\n",
    "    #fre_16[i] = np.nan\n",
    "    #fre_obs[i] = np.nan"
   ]
  },
  {
   "cell_type": "code",
   "execution_count": 39,
   "metadata": {
    "collapsed": true
   },
   "outputs": [],
   "source": [
    "## freshwater\n",
    "fresh_obs_ave = []\n",
    "fresh_nowcast_ave = []\n",
    "fresh_bathy5_ave = []\n",
    "fresh_bathy6_ave = [];\n",
    "for i in np.arange(0,336,24):\n",
    "    fresh_obs_ave.append(np.nanmean(fre_obs[i:i+24]))\n",
    "    fresh_nowcast_ave.append(np.nanmean(fre_now[i:i+24]))\n",
    "    fresh_bathy5_ave.append(np.nanmean(fre_15[i:i+24]))\n",
    "    fresh_bathy6_ave.append(np.nanmean(fre_16[i:i+24]))\n",
    "for i in np.arange(3,5):\n",
    "    fresh_obs_ave[i] = np.nan ## June 19,20 no data actually\n",
    "    fresh_nowcast_ave[i] = np.nan\n",
    "    fresh_bathy5_ave[i]=np.nan\n",
    "    fresh_bathy6_ave[i] = np.nan"
   ]
  },
  {
   "cell_type": "code",
   "execution_count": 40,
   "metadata": {
    "collapsed": false
   },
   "outputs": [
    {
     "data": {
      "text/plain": [
       "[<matplotlib.lines.Line2D at 0x7fcdda344e48>]"
      ]
     },
     "execution_count": 40,
     "metadata": {},
     "output_type": "execute_result"
    },
    {
     "data": {
      "image/png": "[encoded data removed]",
      "text/plain": [
       "<matplotlib.figure.Figure at 0x7fcdda0d7518>"
      ]
     },
     "metadata": {},
     "output_type": "display_data"
    }
   ],
   "source": [
    "plt.plot(fresh_obs_ave,'b')\n",
    "plt.plot(fresh_nowcast_ave,'g')\n",
    "plt.plot(fresh_bathy5_ave,'r')\n",
    "plt.plot(fresh_bathy6_ave,'m')"
   ]
  },
  {
   "cell_type": "code",
   "execution_count": 46,
   "metadata": {
    "collapsed": false
   },
   "outputs": [
    {
     "data": {
      "text/plain": [
       "[<matplotlib.text.Text at 0x7fcdda0abc18>,\n",
       " <matplotlib.text.Text at 0x7fcdd9e92128>,\n",
       " <matplotlib.text.Text at 0x7fcdd9c2aac8>,\n",
       " <matplotlib.text.Text at 0x7fcdd9e56a20>,\n",
       " <matplotlib.text.Text at 0x7fcdd9c07c18>,\n",
       " <matplotlib.text.Text at 0x7fcdd9c00cc0>,\n",
       " <matplotlib.text.Text at 0x7fcdd9be2940>]"
      ]
     },
     "execution_count": 46,
     "metadata": {},
     "output_type": "execute_result"
    },
    {
     "data": {
      "image/png": "[encoded data removed]",
      "text/plain": [
       "<matplotlib.figure.Figure at 0x7fcdda0d7f28>"
      ]
     },
     "metadata": {},
     "output_type": "display_data"
    }
   ],
   "source": [
    "t = np.arange(14)\n",
    "size = 10\n",
    "fig,axs = plt.subplots(1,1,figsize = (12,5))\n",
    "\n",
    "axs.plot(t,fresh_obs_ave,'r*',label = 'obs', markersize = size)\n",
    "axs.plot(t,fresh_nowcast_ave,'g.',label = 'baseline', markersize = size)\n",
    "axs.plot(t,fresh_bathy5_ave,'b.',label ='extended river', markersize = size)\n",
    "axs.plot(t,fresh_bathy6_ave,'y.',label = 'extended and deepened river', markersize = size)\n",
    "axs.set_ylabel('Practical Salinity')\n",
    "axs.legend(loc='upper center', bbox_to_anchor=(0.5, 1.25),\n",
    "          ncol=5, fancybox=False, shadow=True)\n",
    "xticks, xticklabels = plt.xticks()\n",
    "xmin = -0.1\n",
    "xmax = xticks[-1]+0.6\n",
    "axs.set_ylabel('Freshwater amount [km]')\n",
    "x = range(0,16,2)\n",
    "axs.set_xlim(xmin, xmax)\n",
    "axs.set_xticks(x)\n",
    "axs.set_xticklabels( ['June 16','June 18','June 20','June 22','June 24','June 26','June 28'] )"
   ]
  },
  {
   "cell_type": "code",
   "execution_count": 12,
   "metadata": {
    "collapsed": true
   },
   "outputs": [],
   "source": [
    "diff_sal_bathy6 = np.nanmean(np.array(sal_bathy6)-np.array(sal_min_obs))\n",
    "std_sal_bathy6 = np.nanstd(np.array(sal_bathy6)-np.array(sal_min_obs))\n",
    "diff_sal_bathy6_loc = np.nanmean(np.array(lon_bathy6)-np.array(lon_obs))\n",
    "std_sal_bathy6_loc = np.nanstd(np.array(lon_bathy6)-np.array(lon_obs))"
   ]
  },
  {
   "cell_type": "code",
   "execution_count": 13,
   "metadata": {
    "collapsed": false
   },
   "outputs": [
    {
     "name": "stdout",
     "output_type": "stream",
     "text": [
      "5.75849278552 0.589360287895\n"
     ]
    }
   ],
   "source": [
    "print(diff_sal_bathy6,std_sal_bathy6/np.sqrt(86))"
   ]
  },
  {
   "cell_type": "code",
   "execution_count": 14,
   "metadata": {
    "collapsed": false
   },
   "outputs": [
    {
     "name": "stdout",
     "output_type": "stream",
     "text": [
      "0.0416730772724 0.00970194471515\n"
     ]
    }
   ],
   "source": [
    "print(diff_sal_bathy6_loc,std_sal_bathy6_loc/np.sqrt(86))"
   ]
  },
  {
   "cell_type": "code",
   "execution_count": 15,
   "metadata": {
    "collapsed": false
   },
   "outputs": [
    {
     "name": "stdout",
     "output_type": "stream",
     "text": [
      "5.46550246633 0.0899721339527\n"
     ]
    }
   ],
   "source": [
    "print(std_sal_bathy6,std_sal_bathy6_loc)"
   ]
  },
  {
   "cell_type": "markdown",
   "metadata": {},
   "source": [
    "* Usually, model result is saltier than observation from plots of minimum salinity and freshwater amount. Location of plume is close to Vancouver compared with observation, which indicates discrepency of plume position. Our plume could not propagate further away cross the strait, other external forcing, such as wind should be taken into consideration. What about comparing wind in the model with observed wind?? "
   ]
  },
  {
   "cell_type": "markdown",
   "metadata": {},
   "source": [
    "# Bar graph for min salinity value and location"
   ]
  },
  {
   "cell_type": "markdown",
   "metadata": {},
   "source": [
    "* Bias"
   ]
  },
  {
   "cell_type": "code",
   "execution_count": 13,
   "metadata": {
    "collapsed": true
   },
   "outputs": [],
   "source": [
    "## value\n",
    "diff_sal_now = np.nanmean(np.array(sal_now)-np.array(sal_min_obs))\n",
    "diff_sal_bathy5 = np.nanmean(np.array(sal_bathy5)-np.array(sal_min_obs))\n",
    "#diff_sal_bathy6 = np.nanmean(np.array(sal_bathy6)-np.array(sal_min_obs))\n",
    "diff_sal_bathy6 = 5.75849278552\n",
    "## std error \n",
    "std_sal_now = np.nanstd(np.array(sal_now)-np.array(sal_min_obs))/np.sqrt(86)\n",
    "std_sal_bathy5 = np.nanstd(np.array(sal_bathy5)-np.array(sal_min_obs))/np.sqrt(86)\n",
    "std_sal_bathy6 = 0.589360287895"
   ]
  },
  {
   "cell_type": "code",
   "execution_count": 14,
   "metadata": {
    "collapsed": true
   },
   "outputs": [],
   "source": [
    "## loc\n",
    "diff_sal_now_loc = np.nanmean(np.array(lon_now)-np.array(lon_obs))\n",
    "diff_sal_bathy5_loc = np.nanmean(np.array(lon_bathy5)-np.array(lon_obs))\n",
    "diff_sal_bathy6_loc = 0.0416730772724\n",
    "## std error \n",
    "std_sal_now_loc = np.nanstd(np.array(lon_now)-np.array(lon_obs))/np.sqrt(86)\n",
    "std_sal_bathy5_loc = np.nanstd(np.array(lon_bathy5)-np.array(lon_obs))/np.sqrt(86)\n",
    "std_sal_bathy6_loc = 0.00970194471515"
   ]
  },
  {
   "cell_type": "code",
   "execution_count": 15,
   "metadata": {
    "collapsed": true
   },
   "outputs": [],
   "source": [
    "## October 8~10 value and std\n",
    "diff_sal_now_oct = 4.6477967621385456\n",
    "diff_sal_deep_oct = 3.9257904115111479\n",
    "diff_sal_redu_oct = 3.646307593349829\n",
    "diff_sal_allredu_oct = 2.9432052369994066\n",
    "## std error \n",
    "std_sal_now_oct = 0.58493032156\n",
    "std_sal_deep_oct = 0.535186864055\n",
    "std_sal_redu_oct =  0.539632699291\n",
    "std_sal_allredu_oct = 0.566504043914"
   ]
  },
  {
   "cell_type": "code",
   "execution_count": 16,
   "metadata": {
    "collapsed": true
   },
   "outputs": [],
   "source": [
    "## October 8~10 loc and std\n",
    "diff_sal_now_oct_loc = 0.076174042105144529\n",
    "diff_sal_deep_oct_loc = 0.039364412431898865\n",
    "diff_sal_redu_oct_loc = 0.029435357373983444\n",
    "diff_sal_allredu_oct_loc = 0.03125354251227834\n",
    "## std error \n",
    "std_sal_now_oct_loc = 0.0107382934427\n",
    "std_sal_deep_oct_loc = 0.0151948183934\n",
    "std_sal_redu_oct_loc = 0.015454634456\n",
    "std_sal_allredu_oct_loc = 0.0159985302663"
   ]
  },
  {
   "cell_type": "markdown",
   "metadata": {},
   "source": [
    "# Averaged bias plot"
   ]
  },
  {
   "cell_type": "code",
   "execution_count": 17,
   "metadata": {
    "collapsed": false,
    "scrolled": true
   },
   "outputs": [
    {
     "data": {
      "image/png": "[encoded data removed]",
      "text/plain": [
       "<matplotlib.figure.Figure at 0x7faba80a9550>"
      ]
     },
     "metadata": {},
     "output_type": "display_data"
    }
   ],
   "source": [
    "fig, axs = plt.subplots(4,1,figsize = [14,20])\n",
    "diff_values = [diff_sal_now,diff_sal_bathy5,diff_sal_bathy6]\n",
    "ind = np.arange(len(diff_values))\n",
    "colors = ['b','Indigo','SeaGreen','r']\n",
    "std_values = [std_sal_now,std_sal_bathy5,std_sal_bathy6]\n",
    "diff_locs = [diff_sal_now_loc,diff_sal_bathy5_loc,diff_sal_bathy6_loc]\n",
    "std_locs = [std_sal_now_loc,std_sal_bathy5_loc,std_sal_bathy6_loc]\n",
    "width = 0.35\n",
    "ax = axs[0] ## diff values\n",
    "diff_value = ax.bar(ind, diff_values, width,color=colors,alpha=0.5)\n",
    "for pos, y, err, color in zip(ind, diff_values, std_values, colors):\n",
    "    ax.errorbar(pos+width/2, y, err, lw=2, capsize=5, capthick=2, color=color)\n",
    "ax.set_ylabel('Practical Salinity')\n",
    "\n",
    "ax =axs[1] ## diff locations\n",
    "diff_loc = ax.bar(ind, diff_locs, width, color=colors,alpha=0.5)\n",
    "for pos, y, err, color in zip(ind, diff_locs, std_locs, colors):\n",
    "    ax.errorbar(pos+width/2, y, err, lw=2, capsize=5, capthick=2, color=color)\n",
    "ax.set_ylabel('Location (Longitude[degree])')\n",
    "## xlabels\n",
    "for ax in [axs[0],axs[1]]:\n",
    "    ax.set_xticks(ind+width/2)\n",
    "    ax.set_xticklabels(('Run 1a', 'Run 2', 'Run 3a'))\n",
    "\n",
    "## for October 8~10 values and loc bias\n",
    "diff_values_oct = [diff_sal_now_oct,diff_sal_deep_oct,diff_sal_redu_oct,diff_sal_allredu_oct]\n",
    "std_values_oct = [std_sal_now_oct,std_sal_deep_oct,std_sal_redu_oct,std_sal_allredu_oct]\n",
    "diff_locs_oct = [diff_sal_now_oct_loc,diff_sal_deep_oct_loc,diff_sal_redu_oct_loc,diff_sal_allredu_oct_loc]\n",
    "std_locs_oct = [std_sal_now_oct_loc,std_sal_deep_oct_loc,std_sal_redu_oct_loc,std_sal_allredu_oct_loc]\n",
    "ind = np.arange(len(diff_values_oct))\n",
    "colors = ['b','SeaGreen','Peru','r']\n",
    "ax =axs[2]\n",
    "diff_value_oct = ax.bar(ind, diff_values_oct, width,color=colors,alpha=0.5)\n",
    "for pos, y, err, color in zip(ind, diff_values_oct, std_values_oct, colors):\n",
    "    ax.errorbar(pos+width/2, y, err, lw=2, capsize=5, capthick=2, color=color)\n",
    "ax.set_ylabel('Practical Salinity')\n",
    "\n",
    "ax =axs[3]\n",
    "diff_loc_oct = ax.bar(ind, diff_locs_oct, width, color=colors,alpha=0.5)\n",
    "for pos, y, err, color in zip(ind, diff_locs_oct, std_locs_oct, colors):\n",
    "    ax.errorbar(pos+width/2, y, err, lw=2, capsize=5, capthick=2, color=color)\n",
    "ax.set_ylabel('Location (Longitude[degree])')\n",
    "for ax in [axs[2],axs[3]]:\n",
    "    ax.set_xticks(ind+width/2)\n",
    "    ax.set_xticklabels(('Run 1b',  'Run 3b','Run 4',\\\n",
    "                        'Run 5'))"
   ]
  },
  {
   "cell_type": "markdown",
   "metadata": {},
   "source": [
    "* RMS"
   ]
  },
  {
   "cell_type": "code",
   "execution_count": 28,
   "metadata": {
    "collapsed": true
   },
   "outputs": [],
   "source": [
    "## value\n",
    "diff_sal_now = np.sqrt(np.nansum((np.array(sal_now)-np.array(sal_min_obs))**2)/86)\n",
    "diff_sal_bathy5 = np.sqrt(np.nansum((np.array(sal_bathy5)-np.array(sal_min_obs))**2)/86)\n",
    "diff_sal_bathy6 = np.sqrt(np.nansum((np.array(sal_bathy6)-np.array(sal_min_obs))**2)/86)\n",
    "## std\n",
    "std_sal_now = np.nanstd(np.sqrt((np.array(sal_now)-np.array(sal_min_obs))**2))\n",
    "std_sal_bathy5 = np.nanstd(np.sqrt((np.array(sal_bathy5)-np.array(sal_min_obs))**2))\n",
    "std_sal_bathy6 = np.nanstd(np.sqrt((np.array(sal_bathy6)-np.array(sal_min_obs))**2))"
   ]
  },
  {
   "cell_type": "code",
   "execution_count": 29,
   "metadata": {
    "collapsed": true
   },
   "outputs": [],
   "source": [
    "## loc\n",
    "diff_sal_now_loc = np.sqrt(np.nansum((np.array(lon_now)-np.array(lon_obs))**2)/86)\n",
    "diff_sal_bathy5_loc = np.sqrt(np.nansum((np.array(lon_bathy5)-np.array(lon_obs))**2)/86)\n",
    "diff_sal_bathy6_loc = np.sqrt(np.nansum((np.array(lon_bathy6)-np.array(lon_obs))**2)/86)\n",
    "## std\n",
    "std_sal_now_loc = np.nanstd(np.sqrt((np.array(lon_now)-np.array(lon_obs))**2))\n",
    "std_sal_bathy5_loc = np.nanstd(np.sqrt((np.array(lon_bathy5)-np.array(lon_obs))**2))\n",
    "std_sal_bathy6_loc = np.nanstd(np.sqrt((np.array(lon_bathy6)-np.array(lon_obs))**2))"
   ]
  },
  {
   "cell_type": "code",
   "execution_count": 30,
   "metadata": {
    "collapsed": true
   },
   "outputs": [],
   "source": [
    "## October 8~10 value and std\n",
    "diff_sal_now_oct = 5.4287489172918377\n",
    "diff_sal_deep_oct = 4.6903736399817371\n",
    "diff_sal_redu_oct = 4.4713799233163245\n",
    "diff_sal_allredu_oct = 4.0054680373007621\n",
    "## std\n",
    "std_sal_now_oct = 2.3078379263861324\n",
    "std_sal_deep_oct = 2.1166491243903516\n",
    "std_sal_redu_oct = 2.24690899534597\n",
    "std_sal_allredu_oct = 2.2814160869085574"
   ]
  },
  {
   "cell_type": "code",
   "execution_count": 31,
   "metadata": {
    "collapsed": true
   },
   "outputs": [],
   "source": [
    "## October 8~10 loc and std\n",
    "diff_sal_now_oct_loc = 0.091949097059432883\n",
    "diff_sal_deep_oct_loc = 0.082824239231759939\n",
    "diff_sal_redu_oct_loc = 0.079748930811649452\n",
    "diff_sal_allredu_oct_loc = 0.082847463722296205\n",
    "## std\n",
    "std_sal_now_oct_loc = 0.043919519012880839\n",
    "std_sal_deep_oct_loc = 0.038726915897677829\n",
    "std_sal_redu_oct_loc = 0.044654605686052229\n",
    "std_sal_allredu_oct_loc = 0.04747911574113757"
   ]
  },
  {
   "cell_type": "code",
   "execution_count": 32,
   "metadata": {
    "collapsed": false
   },
   "outputs": [
    {
     "data": {
      "image/png": "[encoded data removed]",
      "text/plain": [
       "<matplotlib.figure.Figure at 0x7fcdda05e470>"
      ]
     },
     "metadata": {},
     "output_type": "display_data"
    }
   ],
   "source": [
    "fig, axs = plt.subplots(4,1,figsize = [14,20])\n",
    "diff_values = [diff_sal_now,diff_sal_bathy5,diff_sal_bathy6]\n",
    "ind = np.arange(len(diff_values))\n",
    "colors = ['b','Indigo','SeaGreen','r']\n",
    "std_values = [std_sal_now,std_sal_bathy5,std_sal_bathy6]\n",
    "diff_locs = [diff_sal_now_loc,diff_sal_bathy5_loc,diff_sal_bathy6_loc]\n",
    "std_locs = [std_sal_now_loc,std_sal_bathy5_loc,std_sal_bathy6_loc]\n",
    "width = 0.35\n",
    "ax = axs[0] ## diff values\n",
    "diff_value = ax.bar(ind, diff_values, width,color=colors,alpha=0.5)\n",
    "for pos, y, err, color in zip(ind, diff_values, std_values, colors):\n",
    "    ax.errorbar(pos+width/2, y, err, lw=2, capsize=5, capthick=2, color=color)\n",
    "ax.set_ylabel('Practical Salinity')\n",
    "\n",
    "ax =axs[1] ## diff locations\n",
    "diff_loc = ax.bar(ind, diff_locs, width, color=colors,alpha=0.5)\n",
    "for pos, y, err, color in zip(ind, diff_locs, std_locs, colors):\n",
    "    ax.errorbar(pos+width/2, y, err, lw=2, capsize=5, capthick=2, color=color)\n",
    "ax.set_ylabel('Location (Longitude[degree])')\n",
    "## xlabels\n",
    "for ax in [axs[0],axs[1]]:\n",
    "    ax.set_xticks(ind+width/2)\n",
    "    ax.set_xticklabels(('Baseline', 'LongerRiver', 'Longer+Deeper River'))\n",
    "\n",
    "## for October 8~10 values and loc bias\n",
    "diff_values_oct = [diff_sal_now_oct,diff_sal_deep_oct,diff_sal_redu_oct,diff_sal_allredu_oct]\n",
    "std_values_oct = [std_sal_now_oct,std_sal_deep_oct,std_sal_redu_oct,std_sal_allredu_oct]\n",
    "diff_locs_oct = [diff_sal_now_oct_loc,diff_sal_deep_oct_loc,diff_sal_redu_oct_loc,diff_sal_allredu_oct_loc]\n",
    "std_locs_oct = [std_sal_now_oct_loc,std_sal_deep_oct_loc,std_sal_redu_oct_loc,std_sal_allredu_oct_loc]\n",
    "ind = np.arange(len(diff_values_oct))\n",
    "colors = ['b','SeaGreen','Peru','r']\n",
    "ax =axs[2]\n",
    "diff_value_oct = ax.bar(ind, diff_values_oct, width,color=colors,alpha=0.5)\n",
    "for pos, y, err, color in zip(ind, diff_values_oct, std_values_oct, colors):\n",
    "    ax.errorbar(pos+width/2, y, err, lw=2, capsize=5, capthick=2, color=color)\n",
    "ax.set_ylabel('Practical Salinity')\n",
    "\n",
    "ax =axs[3]\n",
    "diff_loc_oct = ax.bar(ind, diff_locs_oct, width, color=colors,alpha=0.5)\n",
    "for pos, y, err, color in zip(ind, diff_locs_oct, std_locs_oct, colors):\n",
    "    ax.errorbar(pos+width/2, y, err, lw=2, capsize=5, capthick=2, color=color)\n",
    "ax.set_ylabel('Location (Longitude[degree])')\n",
    "for ax in [axs[2],axs[3]]:\n",
    "    ax.set_xticks(ind+width/2)\n",
    "    ax.set_xticklabels(('Baseline',  'Longer+Deeper River','Lower Viscosity',\\\n",
    "                        'Lower Viscosity and Diffusivity'))"
   ]
  },
  {
   "cell_type": "code",
   "execution_count": null,
   "metadata": {
    "collapsed": true
   },
   "outputs": [],
   "source": []
  }
 ],
 "metadata": {
  "anaconda-cloud": {},
  "kernelspec": {
   "display_name": "Python [Root]",
   "language": "python",
   "name": "Python [Root]"
  },
  "language_info": {
   "codemirror_mode": {
    "name": "ipython",
    "version": 3
   },
   "file_extension": ".py",
   "mimetype": "text/x-python",
   "name": "python",
   "nbconvert_exporter": "python",
   "pygments_lexer": "ipython3",
   "version": "3.5.2"
  }
 },
 "nbformat": 4,
 "nbformat_minor": 0
}
